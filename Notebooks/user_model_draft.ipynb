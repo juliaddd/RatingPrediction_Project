{
 "cells": [
  {
   "metadata": {
    "ExecuteTime": {
     "end_time": "2025-10-01T14:01:52.796641Z",
     "start_time": "2025-10-01T14:01:51.565878Z"
    }
   },
   "cell_type": "code",
   "source": [
    "import pandas as pd\n",
    "import requests\n",
    "import numpy as np\n",
    "from sklearn.model_selection import train_test_split\n",
    "import matplotlib.pyplot as plt\n",
    "from sklearn.model_selection import cross_val_score, KFold, RepeatedKFold, StratifiedKFold\n",
    "import time \n",
    "from sklearn.preprocessing import StandardScaler\n",
    "from sklearn.ensemble import RandomForestRegressor, RandomForestClassifier\n",
    "from sklearn.metrics import mean_squared_error, r2_score, mean_absolute_error\n",
    "from sklearn.utils.class_weight import compute_sample_weight\n",
    "from sklearn.metrics import classification_report, confusion_matrix\n",
    "from catboost import CatBoostClassifier\n",
    "from sklearn.model_selection import GridSearchCV\n",
    "import seaborn as sb"
   ],
   "id": "7a020d8717b4e494",
   "outputs": [],
   "execution_count": 1
  },
  {
   "metadata": {
    "ExecuteTime": {
     "end_time": "2025-10-01T14:01:58.070958Z",
     "start_time": "2025-10-01T14:01:58.049891Z"
    }
   },
   "cell_type": "code",
   "source": [
    "def get_user_animelist(username: str, client_id: str):\n",
    "    # Loads list of anime from MAL for a given user\n",
    "    url = f'https://api.myanimelist.net/v2/users/{username}/animelist?limit=500'\n",
    "    headers = {\n",
    "        'X-MAL-CLIENT-ID': client_id\n",
    "    }\n",
    "    params = {\n",
    "        'fields': 'id, title, list_status{score,status}, start_season{year}, mean, genres, popularity, media_type, rating, num_episodes, studios, num_list_users,favorites'\n",
    "    }\n",
    "\n",
    "    all_data = []\n",
    "    next_page = url\n",
    "\n",
    "    while next_page:\n",
    "        response = requests.get(next_page, headers=headers, params=params if next_page == url else None)\n",
    "        if response.status_code != 200:\n",
    "            raise ValueError(f\"Error with API request: {response.status_code} - {response.text}\")\n",
    "\n",
    "        data = response.json()\n",
    "        all_data.extend(data['data'])\n",
    "        next_page = data.get(\"paging\", {}).get(\"next\")\n",
    "\n",
    "        print(f\"Loaded {len(all_data)} anime...\")\n",
    "\n",
    "    return all_data"
   ],
   "id": "d7052a10b430a951",
   "outputs": [],
   "execution_count": 2
  },
  {
   "metadata": {
    "ExecuteTime": {
     "end_time": "2025-10-01T14:02:02.755018Z",
     "start_time": "2025-10-01T14:02:02.733984Z"
    }
   },
   "cell_type": "code",
   "source": [
    "def to_dataframe(all_data):\n",
    "    rows = []\n",
    "    for item in all_data:\n",
    "        anime = item['node']\n",
    "        score = item.get('list_status', {}).get('score')\n",
    "        status = item.get('list_status', {}).get('status')\n",
    "        # num_episodes_watched = item.get('list_status', {}).get('num_episodes_watched')\n",
    "        year = item.get('node', {}).get('start_season', {}).get('year')\n",
    "        rows.append({\n",
    "            \"id\": anime['id'],\n",
    "            \"title\": anime['title'],\n",
    "            \"mean\": anime.get('mean'),\n",
    "            \"genres\": [g['name'] for g in anime.get('genres', [])],\n",
    "            \"studios\": [s['name'] for s in anime.get('studios', [])],\n",
    "            \"rating\": anime.get('rating'),\n",
    "            \"year\": year,\n",
    "            \"type\": anime.get('media_type'),\n",
    "            \"popularity\": anime.get('popularity'),\n",
    "            \"score\": score,\n",
    "            \"status\": status,\n",
    "            \"members\": anime['num_list_users'],\n",
    "            \"num_episodes\": anime['num_episodes'],\n",
    "        })\n",
    "    \n",
    "    df = pd.DataFrame(rows)\n",
    "    df['studios'] = df['studios'].str.join(\", \")\n",
    "    df['genres'] = df['genres'].str.join(\", \")\n",
    "\n",
    "    return df"
   ],
   "id": "a2e71aabff7eb53a",
   "outputs": [],
   "execution_count": 3
  },
  {
   "metadata": {
    "ExecuteTime": {
     "end_time": "2025-10-01T14:02:37.410794Z",
     "start_time": "2025-10-01T14:02:37.391748Z"
    }
   },
   "cell_type": "code",
   "source": [
    "def calculate_genre_affinity_simple(df_train):\n",
    "    genre_cols = [col for col in df_train.columns if col.startswith('Genre_')]\n",
    "    genre_affinity = {}\n",
    "    \n",
    "    overall_mean = df_train['score'].mean()\n",
    "    \n",
    "    for genre_col in genre_cols:\n",
    "        genre_name = genre_col.replace('Genre_', '')\n",
    "        mask = df_train[genre_col] == 1\n",
    "        \n",
    "        if mask.sum() >= 5:\n",
    "            genre_affinity[genre_name] = df_train[mask]['score'].mean()\n",
    "        else:\n",
    "            genre_affinity[genre_name] = overall_mean\n",
    "    \n",
    "    return genre_affinity"
   ],
   "id": "6e3e9e46badc3341",
   "outputs": [],
   "execution_count": 6
  },
  {
   "metadata": {
    "ExecuteTime": {
     "end_time": "2025-10-01T14:02:38.379580Z",
     "start_time": "2025-10-01T14:02:38.366960Z"
    }
   },
   "cell_type": "code",
   "source": [
    "def calculate_studio_mean(df_train):\n",
    "    studios_columns = [col for col in df_train.columns if col.startswith('Studios_')]\n",
    "    studio_mean = {}\n",
    "    overall_mean = df_train['score'].mean()\n",
    "    for studio_column in studios_columns:\n",
    "        studio_name = studio_column.replace('Studios_', '')\n",
    "        mask = df_train[studio_column] == 1\n",
    "        \n",
    "        if mask.sum() >= 3:\n",
    "            studio_scores = df_train[mask]['score']\n",
    "            mean_score = studio_scores.mean()\n",
    "            studio_mean[studio_name] = mean_score\n",
    "        else:\n",
    "            studio_mean[studio_name] = overall_mean\n",
    "            \n",
    "    return studio_mean"
   ],
   "id": "54d95a0cedfdc24",
   "outputs": [],
   "execution_count": 7
  },
  {
   "metadata": {
    "ExecuteTime": {
     "end_time": "2025-10-01T15:08:20.324126Z",
     "start_time": "2025-10-01T15:08:20.306148Z"
    }
   },
   "cell_type": "code",
   "source": [
    "def classify_3_classes(score):\n",
    "    if score <= 5:\n",
    "        return 0\n",
    "    elif score <= 7:\n",
    "        return 1\n",
    "    else:\n",
    "        return 2"
   ],
   "id": "1e30eeb95e58c888",
   "outputs": [],
   "execution_count": 80
  },
  {
   "metadata": {
    "ExecuteTime": {
     "end_time": "2025-10-01T14:02:43.831870Z",
     "start_time": "2025-10-01T14:02:43.811413Z"
    }
   },
   "cell_type": "code",
   "source": [
    "import configparser\n",
    "\n",
    "config = configparser.ConfigParser()\n",
    "config.read('../config.ini')\n",
    "USER_NAME = config.get('USER','USER_NAME').strip()\n",
    "CLIENT_ID = config.get('USER','CLIENT_ID').strip()"
   ],
   "id": "2b3d7ad773319581",
   "outputs": [],
   "execution_count": 9
  },
  {
   "metadata": {
    "ExecuteTime": {
     "end_time": "2025-10-01T14:02:53.679909Z",
     "start_time": "2025-10-01T14:02:45.888666Z"
    }
   },
   "cell_type": "code",
   "source": "data = get_user_animelist(USER_NAME, CLIENT_ID)",
   "id": "e493f342e7d95fb8",
   "outputs": [
    {
     "name": "stdout",
     "output_type": "stream",
     "text": [
      "Loaded 500 anime...\n",
      "Loaded 1000 anime...\n",
      "Loaded 1500 anime...\n",
      "Loaded 2000 anime...\n",
      "Loaded 2500 anime...\n",
      "Loaded 3000 anime...\n",
      "Loaded 3500 anime...\n",
      "Loaded 4000 anime...\n",
      "Loaded 4500 anime...\n",
      "Loaded 5000 anime...\n",
      "Loaded 5059 anime...\n"
     ]
    }
   ],
   "execution_count": 10
  },
  {
   "metadata": {
    "ExecuteTime": {
     "end_time": "2025-10-01T15:08:35.609899Z",
     "start_time": "2025-10-01T15:08:35.568162Z"
    }
   },
   "cell_type": "code",
   "source": "df = to_dataframe(data)",
   "id": "4e1e4c2201d6987f",
   "outputs": [],
   "execution_count": 81
  },
  {
   "metadata": {
    "ExecuteTime": {
     "end_time": "2025-10-01T15:08:36.201436Z",
     "start_time": "2025-10-01T15:08:36.183579Z"
    }
   },
   "cell_type": "code",
   "source": "df['score_class'] = df['score'].apply(classify_3_classes)",
   "id": "b67adf4b685b09dd",
   "outputs": [],
   "execution_count": 82
  },
  {
   "metadata": {},
   "cell_type": "code",
   "source": [
    "df[\"studios\"].replace(to_replace=\"\", value=\"Unknown\", inplace=True)\n",
    "df[\"genres\"].replace(to_replace=\"\", value=\"Unknown\", inplace=True)\n",
    "df = df.dropna(subset=['score'])"
   ],
   "id": "656c118c51421dfd",
   "outputs": [],
   "execution_count": null
  },
  {
   "metadata": {
    "ExecuteTime": {
     "end_time": "2025-10-01T15:08:41.229892Z",
     "start_time": "2025-10-01T15:08:41.210013Z"
    }
   },
   "cell_type": "code",
   "source": "display(df[\"score\"].value_counts().head(11))",
   "id": "f269c82f26651821",
   "outputs": [
    {
     "data": {
      "text/plain": [
       "score\n",
       "0     1333\n",
       "5      793\n",
       "7      757\n",
       "6      574\n",
       "8      517\n",
       "4      434\n",
       "3      350\n",
       "9      151\n",
       "2      114\n",
       "10      25\n",
       "1       11\n",
       "Name: count, dtype: int64"
      ]
     },
     "metadata": {},
     "output_type": "display_data"
    }
   ],
   "execution_count": 84
  },
  {
   "metadata": {
    "ExecuteTime": {
     "end_time": "2025-10-01T15:08:42.031162Z",
     "start_time": "2025-10-01T15:08:42.023345Z"
    }
   },
   "cell_type": "code",
   "source": "df.drop(columns=['title', 'id'], inplace=True)",
   "id": "cb5cda6ffb3bb23c",
   "outputs": [],
   "execution_count": 85
  },
  {
   "metadata": {
    "ExecuteTime": {
     "end_time": "2025-10-01T15:08:42.785855Z",
     "start_time": "2025-10-01T15:08:42.769735Z"
    }
   },
   "cell_type": "code",
   "source": [
    "df = df[df['score'] > 0].copy()\n",
    "    \n",
    "df['mean'] = df['mean'].fillna(df.groupby('type')['mean'].transform('median'))\n",
    "    \n",
    "categorical_cols = ['type', 'rating', 'status']\n",
    "for col in categorical_cols:\n",
    "    df[col] = df[col].fillna('Unknown')"
   ],
   "id": "6fc3a7bc389d858e",
   "outputs": [],
   "execution_count": 86
  },
  {
   "metadata": {
    "ExecuteTime": {
     "end_time": "2025-10-01T15:08:43.496619Z",
     "start_time": "2025-10-01T15:08:43.478260Z"
    }
   },
   "cell_type": "code",
   "source": [
    "df['year'] = df['year'].fillna(df['year'].mode()[0])\n",
    "df['num_episodes'] = df['num_episodes'].fillna(df['num_episodes'].mode()[0])"
   ],
   "id": "bb92a571b7833b0f",
   "outputs": [],
   "execution_count": 87
  },
  {
   "metadata": {
    "ExecuteTime": {
     "end_time": "2025-10-01T15:08:44.016663Z",
     "start_time": "2025-10-01T15:08:43.988353Z"
    }
   },
   "cell_type": "code",
   "source": "df['popularity'] = df['popularity'].fillna(df['popularity'].median())",
   "id": "822f30ae0069e0dd",
   "outputs": [],
   "execution_count": 88
  },
  {
   "metadata": {
    "ExecuteTime": {
     "end_time": "2025-10-01T15:08:44.513155Z",
     "start_time": "2025-10-01T15:08:44.498071Z"
    }
   },
   "cell_type": "code",
   "source": [
    "df['anime_age'] = 2025 - df['year']\n",
    "df['anime_age'] = df['anime_age'].astype(int)\n",
    "df.drop(columns=['year'], inplace=True)"
   ],
   "id": "48ad632da83ec0f2",
   "outputs": [],
   "execution_count": 89
  },
  {
   "metadata": {
    "ExecuteTime": {
     "end_time": "2025-10-01T15:08:45.252866Z",
     "start_time": "2025-10-01T15:08:45.228303Z"
    }
   },
   "cell_type": "code",
   "source": [
    "df['log_members'] = np.log1p(df['members'])\n",
    "df.drop(columns=['members'], inplace=True)"
   ],
   "id": "96c72ca71b313fb9",
   "outputs": [],
   "execution_count": 90
  },
  {
   "metadata": {
    "ExecuteTime": {
     "end_time": "2025-10-01T15:08:46.465568Z",
     "start_time": "2025-10-01T15:08:46.145888Z"
    }
   },
   "cell_type": "code",
   "source": [
    "# Get dummy variables for each unique genre\n",
    "genre_dummies = (\n",
    "    df['genres']\n",
    "    .str.split(', ', expand=True) \n",
    "    .stack()       \n",
    "    .str.get_dummies()         \n",
    "    .groupby(level=0)         \n",
    "    .sum()                    \n",
    "    .add_prefix('Genre_')  \n",
    ")"
   ],
   "id": "9d52098ed6f3cf6f",
   "outputs": [],
   "execution_count": 91
  },
  {
   "metadata": {
    "ExecuteTime": {
     "end_time": "2025-10-01T15:08:50.172148Z",
     "start_time": "2025-10-01T15:08:50.158146Z"
    }
   },
   "cell_type": "code",
   "source": "df = pd.concat([df, genre_dummies], axis=1)",
   "id": "a87bf71c326a8336",
   "outputs": [],
   "execution_count": 92
  },
  {
   "metadata": {
    "ExecuteTime": {
     "end_time": "2025-10-01T15:08:50.596393Z",
     "start_time": "2025-10-01T15:08:50.588078Z"
    }
   },
   "cell_type": "code",
   "source": [
    "genre_columns = [col for col in df.columns if col.startswith('Genre_')]\n",
    "\n",
    "genre_counts = df[genre_columns].sum().sort_values(ascending=False)\n",
    "print(genre_counts)"
   ],
   "id": "1bb6561a86cbb474",
   "outputs": [
    {
     "name": "stdout",
     "output_type": "stream",
     "text": [
      "Genre_Action         1480\n",
      "Genre_Comedy         1336\n",
      "Genre_Fantasy         996\n",
      "Genre_School          918\n",
      "Genre_Romance         871\n",
      "                     ... \n",
      "Genre_Educational       6\n",
      "Genre_Hentai            2\n",
      "Genre_Boys Love         2\n",
      "Genre_Erotica           2\n",
      "Genre_Unknown           1\n",
      "Length: 79, dtype: int64\n"
     ]
    }
   ],
   "execution_count": 93
  },
  {
   "metadata": {
    "ExecuteTime": {
     "end_time": "2025-10-01T15:08:51.045206Z",
     "start_time": "2025-10-01T15:08:51.018102Z"
    }
   },
   "cell_type": "code",
   "source": [
    "genre_columns = [col for col in df.columns if col.startswith('Genre_')]\n",
    "\n",
    "genre_counts = df[genre_columns].sum().sort_values(ascending=False)\n",
    "total_anime = len(df)\n",
    "\n",
    "min_count = max(5, int(total_anime * 0.01))\n",
    "frequent_genres= genre_counts[genre_counts >= min_count].index.tolist()\n",
    "\n",
    "print(f\"studio_counts: {len(genre_counts)}\")\n",
    "print(f\"Studios with >= {min_count} anime: {len(frequent_genres)}\")\n",
    "\n",
    "rare_genre_columns = [col for col in genre_columns if col not in frequent_genres]\n",
    "df['Genre_Other'] = df[rare_genre_columns].max(axis=1) \n",
    "\n",
    "df.drop(columns=rare_genre_columns, inplace=True)"
   ],
   "id": "3e519fde77276f18",
   "outputs": [
    {
     "name": "stdout",
     "output_type": "stream",
     "text": [
      "studio_counts: 79\n",
      "Studios with >= 37 anime: 58\n"
     ]
    }
   ],
   "execution_count": 94
  },
  {
   "metadata": {
    "ExecuteTime": {
     "end_time": "2025-10-01T15:08:51.771901Z",
     "start_time": "2025-10-01T15:08:51.762106Z"
    }
   },
   "cell_type": "code",
   "source": "df.drop(columns=['genres'], inplace=True)",
   "id": "daddb430b065ba5",
   "outputs": [],
   "execution_count": 95
  },
  {
   "metadata": {
    "ExecuteTime": {
     "end_time": "2025-10-01T15:08:52.534310Z",
     "start_time": "2025-10-01T15:08:52.518329Z"
    }
   },
   "cell_type": "code",
   "source": [
    "type_dummies = pd.get_dummies(df['type'], prefix='Type')\n",
    "df = pd.concat([df, type_dummies], axis=1)\n",
    "df.drop(columns=['type'], inplace=True)"
   ],
   "id": "bd71a70d384c6a63",
   "outputs": [],
   "execution_count": 96
  },
  {
   "metadata": {
    "ExecuteTime": {
     "end_time": "2025-10-01T15:08:53.445920Z",
     "start_time": "2025-10-01T15:08:53.109603Z"
    }
   },
   "cell_type": "code",
   "source": [
    "studio_dummies = (\n",
    "    df['studios']\n",
    "    .str.split(', ', expand=True) \n",
    "    .stack()       \n",
    "    .str.get_dummies()         \n",
    "    .groupby(level=0)         \n",
    "    .sum()                    \n",
    "    .add_prefix('Studios_')  \n",
    ")\n",
    "df = pd.concat([df, studio_dummies], axis=1)"
   ],
   "id": "ac0c9e49f86d4346",
   "outputs": [],
   "execution_count": 97
  },
  {
   "metadata": {
    "ExecuteTime": {
     "end_time": "2025-10-01T15:08:53.986496Z",
     "start_time": "2025-10-01T15:08:53.970467Z"
    }
   },
   "cell_type": "code",
   "source": [
    "studio_columns = [col for col in df.columns if col.startswith('Studios_')]\n",
    "\n",
    "studio_counts = df[studio_columns].sum().sort_values(ascending=False)\n",
    "print(studio_counts)"
   ],
   "id": "ff2e29326d8858a7",
   "outputs": [
    {
     "name": "stdout",
     "output_type": "stream",
     "text": [
      "Studios_J.C.Staff               191\n",
      "Studios_A-1 Pictures            147\n",
      "Studios_Madhouse                136\n",
      "Studios_Production I.G          122\n",
      "Studios_Studio Deen             118\n",
      "                               ... \n",
      "Studios_Karaku                    1\n",
      "Studios_Studio Gram               1\n",
      "Studios_KeyEast                   1\n",
      "Studios_Studio Gazelle            1\n",
      "Studios_Next Media Animation      1\n",
      "Length: 330, dtype: int64\n"
     ]
    }
   ],
   "execution_count": 98
  },
  {
   "metadata": {
    "ExecuteTime": {
     "end_time": "2025-10-01T15:08:54.667337Z",
     "start_time": "2025-10-01T15:08:54.628196Z"
    }
   },
   "cell_type": "code",
   "source": [
    "studio_columns = [col for col in df.columns if col.startswith('Studios_')]\n",
    "\n",
    "studio_counts = df[studio_columns].sum().sort_values(ascending=False)\n",
    "total_anime = len(df)\n",
    "\n",
    "min_count = max(10, int(total_anime * 0.01))\n",
    "frequent_studios = studio_counts[studio_counts >= min_count].index.tolist()\n",
    "\n",
    "print(f\"studio_counts: {len(studio_counts)}\")\n",
    "print(f\"Studios with >= {min_count} anime: {len(frequent_studios)}\")\n",
    "\n",
    "rare_studio_columns = [col for col in studio_columns if col not in frequent_studios]\n",
    "df['Studio_Other'] = df[rare_studio_columns].max(axis=1) \n",
    "\n",
    "df.drop(columns=rare_studio_columns, inplace=True)"
   ],
   "id": "de5c950b1cb5b30b",
   "outputs": [
    {
     "name": "stdout",
     "output_type": "stream",
     "text": [
      "studio_counts: 330\n",
      "Studios with >= 37 anime: 29\n"
     ]
    }
   ],
   "execution_count": 99
  },
  {
   "metadata": {
    "ExecuteTime": {
     "end_time": "2025-10-01T15:08:55.671886Z",
     "start_time": "2025-10-01T15:08:55.648347Z"
    }
   },
   "cell_type": "code",
   "source": "df.drop(columns=['studios'], inplace=True)",
   "id": "c014655891dbcd8a",
   "outputs": [],
   "execution_count": 100
  },
  {
   "metadata": {
    "ExecuteTime": {
     "end_time": "2025-10-01T15:08:56.239998Z",
     "start_time": "2025-10-01T15:08:56.224014Z"
    }
   },
   "cell_type": "code",
   "source": [
    "rating_dummies = pd.get_dummies(df['rating'], prefix='Rating')\n",
    "df = pd.concat([df, rating_dummies], axis=1)\n",
    "df.drop(columns=['rating'], inplace=True)"
   ],
   "id": "126fb5dbd378ec10",
   "outputs": [],
   "execution_count": 101
  },
  {
   "metadata": {
    "ExecuteTime": {
     "end_time": "2025-10-01T15:08:56.650293Z",
     "start_time": "2025-10-01T15:08:56.634643Z"
    }
   },
   "cell_type": "code",
   "source": [
    "status_dummies = pd.get_dummies(df['status'], prefix='Status')\n",
    "df = pd.concat([df, status_dummies], axis=1)\n",
    "df.drop(columns=['status'], inplace=True)"
   ],
   "id": "bbca1d6b46517b34",
   "outputs": [],
   "execution_count": 102
  },
  {
   "metadata": {
    "ExecuteTime": {
     "end_time": "2025-10-01T15:08:57.066900Z",
     "start_time": "2025-10-01T15:08:57.055119Z"
    }
   },
   "cell_type": "code",
   "source": [
    "df.drop(columns=['Status_completed'], inplace=True)\n",
    "df.drop(columns=['Type_tv'], inplace=True)\n",
    "df.drop(columns=['Rating_pg_13'], inplace=True)"
   ],
   "id": "3dbf969c4c19971a",
   "outputs": [],
   "execution_count": 103
  },
  {
   "metadata": {
    "ExecuteTime": {
     "end_time": "2025-10-01T15:08:57.625574Z",
     "start_time": "2025-10-01T15:08:57.618330Z"
    }
   },
   "cell_type": "code",
   "source": [
    "bool_cols = df.select_dtypes('bool').columns\n",
    "\n",
    "df[bool_cols] = df[bool_cols].astype(int)"
   ],
   "id": "912256dec29366ff",
   "outputs": [],
   "execution_count": 104
  },
  {
   "metadata": {
    "ExecuteTime": {
     "end_time": "2025-10-01T15:08:58.304943Z",
     "start_time": "2025-10-01T15:08:58.289214Z"
    }
   },
   "cell_type": "code",
   "source": "# df.drop(columns=['Genre_Unknown'], inplace=True)",
   "id": "ddcccea889c0e4c",
   "outputs": [],
   "execution_count": 105
  },
  {
   "metadata": {
    "ExecuteTime": {
     "end_time": "2025-10-01T15:08:58.919355Z",
     "start_time": "2025-10-01T15:08:58.798200Z"
    }
   },
   "cell_type": "code",
   "source": [
    "corr_with_score = df.corr()['score']\n",
    "high_corr_cols = corr_with_score[np.abs(corr_with_score) > 0.65].index\n",
    "high_corr_cols = high_corr_cols.drop(['score','score_class'])\n",
    "print(high_corr_cols)"
   ],
   "id": "e334eebf17fd9a70",
   "outputs": [
    {
     "name": "stdout",
     "output_type": "stream",
     "text": [
      "Index(['mean'], dtype='object')\n"
     ]
    }
   ],
   "execution_count": 106
  },
  {
   "metadata": {
    "ExecuteTime": {
     "end_time": "2025-10-01T15:08:59.879898Z",
     "start_time": "2025-10-01T15:08:59.863799Z"
    }
   },
   "cell_type": "code",
   "source": "df.drop(columns=high_corr_cols, inplace=True)",
   "id": "e4735cd8df6e9a53",
   "outputs": [],
   "execution_count": 107
  },
  {
   "metadata": {
    "ExecuteTime": {
     "end_time": "2025-10-01T15:09:00.388359Z",
     "start_time": "2025-10-01T15:09:00.372038Z"
    }
   },
   "cell_type": "code",
   "source": "df['num_episodes'] = np.log1p(df['num_episodes'])",
   "id": "1968790fd8a3d54f",
   "outputs": [],
   "execution_count": 108
  },
  {
   "metadata": {
    "ExecuteTime": {
     "end_time": "2025-10-01T15:09:00.773990Z",
     "start_time": "2025-10-01T15:09:00.758219Z"
    }
   },
   "cell_type": "code",
   "source": [
    "df.drop(columns=['popularity'], inplace=True)\n",
    "# df.drop(columns=['log_members'], inplace=True)"
   ],
   "id": "88b876a20413b99f",
   "outputs": [],
   "execution_count": 109
  },
  {
   "metadata": {
    "ExecuteTime": {
     "end_time": "2025-10-01T15:09:01.202174Z",
     "start_time": "2025-10-01T15:09:01.177964Z"
    }
   },
   "cell_type": "code",
   "source": [
    "X = df.drop(columns=['score', 'score_class'])\n",
    "y = df['score_class']"
   ],
   "id": "27bd2952506f29c",
   "outputs": [],
   "execution_count": 110
  },
  {
   "metadata": {
    "ExecuteTime": {
     "end_time": "2025-10-01T15:09:01.595721Z",
     "start_time": "2025-10-01T15:09:01.572523Z"
    }
   },
   "cell_type": "code",
   "source": "X_train, X_test, y_train, y_test = train_test_split(X, y, test_size=0.2, random_state=42,stratify=y)",
   "id": "9dc3c5852237c268",
   "outputs": [],
   "execution_count": 111
  },
  {
   "metadata": {
    "ExecuteTime": {
     "end_time": "2025-10-01T15:09:02.070939Z",
     "start_time": "2025-10-01T15:09:02.011887Z"
    }
   },
   "cell_type": "code",
   "source": [
    "genre_affinity = calculate_genre_affinity_simple(X_train.join(df['score']))\n",
    "\n",
    "affinity_features_train = pd.DataFrame({\n",
    "    f\"affinity_{genre}\": X_train[f\"Genre_{genre}\"] * affinity\n",
    "    for genre, affinity in genre_affinity.items()\n",
    "}, index=X_train.index)\n",
    "\n",
    "affinity_features_test = pd.DataFrame({\n",
    "    f\"affinity_{genre}\": X_test[f\"Genre_{genre}\"] * affinity\n",
    "    for genre, affinity in genre_affinity.items()\n",
    "}, index=X_test.index)\n",
    "\n",
    "X_train = pd.concat([X_train, affinity_features_train], axis=1)\n",
    "X_test = pd.concat([X_test, affinity_features_test], axis=1)"
   ],
   "id": "389db8069494dd07",
   "outputs": [],
   "execution_count": 112
  },
  {
   "metadata": {
    "ExecuteTime": {
     "end_time": "2025-10-01T15:09:02.793777Z",
     "start_time": "2025-10-01T15:09:02.783967Z"
    }
   },
   "cell_type": "code",
   "source": [
    "X_train = X_train.drop(columns=[col for col in X_train.columns if col.startswith(\"Genre_\")])\n",
    "X_test = X_test.drop(columns=[col for col in X_test.columns if col.startswith(\"Genre_\")])"
   ],
   "id": "53c1fc6750ab121b",
   "outputs": [],
   "execution_count": 113
  },
  {
   "metadata": {
    "ExecuteTime": {
     "end_time": "2025-10-01T15:09:03.873154Z",
     "start_time": "2025-10-01T15:09:03.858003Z"
    }
   },
   "cell_type": "code",
   "source": [
    "# studios_affinity = calculate_studio_mean(X_train.join(df['score']))\n",
    "# \n",
    "# affinity_features_train = pd.DataFrame({\n",
    "#     f\"affinity_{studio}\": X_train[f\"Studios_{studio}\"] * affinity\n",
    "#     for studio, affinity in studios_affinity.items()\n",
    "# }, index=X_train.index)\n",
    "# \n",
    "# affinity_features_test = pd.DataFrame({\n",
    "#     f\"affinity_{studio}\": X_test[f\"Studios_{studio}\"] * affinity\n",
    "#     for studio, affinity in studios_affinity.items()\n",
    "# }, index=X_test.index)\n",
    "# \n",
    "# X_train = pd.concat([X_train, affinity_features_train], axis=1)\n",
    "# X_test = pd.concat([X_test, affinity_features_test], axis=1)"
   ],
   "id": "18dbf99544f28739",
   "outputs": [],
   "execution_count": 114
  },
  {
   "metadata": {
    "ExecuteTime": {
     "end_time": "2025-10-01T15:09:04.221107Z",
     "start_time": "2025-10-01T15:09:04.207991Z"
    }
   },
   "cell_type": "code",
   "source": [
    "# X_train = X_train.drop(columns=[col for col in X_train.columns if col.startswith(\"Studios_\")])\n",
    "# X_test = X_test.drop(columns=[col for col in X_test.columns if col.startswith(\"Studios_\")])"
   ],
   "id": "da1b15d5f6ce31a",
   "outputs": [],
   "execution_count": 115
  },
  {
   "metadata": {
    "ExecuteTime": {
     "end_time": "2025-10-01T15:09:05.437800Z",
     "start_time": "2025-10-01T15:09:05.408237Z"
    }
   },
   "cell_type": "code",
   "source": "X_train.sample(10)",
   "id": "b158752ee61dce4f",
   "outputs": [
    {
     "data": {
      "text/plain": [
       "      num_episodes  anime_age  log_members  Type_cm  Type_movie  Type_music  \\\n",
       "2779      2.564949          2     9.451245        0           0           0   \n",
       "1977      0.693147          4    13.964247        0           1           0   \n",
       "3232      0.693147          9     9.642642        0           0           0   \n",
       "4554      2.564949          2    12.547163        0           0           0   \n",
       "2866      1.386294         24     8.899185        0           0           0   \n",
       "4827      2.564949         13     9.441373        0           0           0   \n",
       "183       2.564949          9    10.969973        0           0           0   \n",
       "4956      5.023881          3     8.932873        0           0           0   \n",
       "3472      2.833213         22    10.448975        0           0           0   \n",
       "5058      1.098612         19     9.324026        0           0           0   \n",
       "\n",
       "      Type_ona  Type_ova  Type_pv  Type_special  ...  affinity_Supernatural  \\\n",
       "2779         0         0        0             0  ...               0.000000   \n",
       "1977         0         0        0             0  ...               6.147945   \n",
       "3232         0         0        0             1  ...               0.000000   \n",
       "4554         0         0        0             0  ...               0.000000   \n",
       "2866         0         1        0             0  ...               0.000000   \n",
       "4827         0         0        0             0  ...               0.000000   \n",
       "183          0         0        0             0  ...               0.000000   \n",
       "4956         0         0        0             0  ...               0.000000   \n",
       "3472         0         0        0             0  ...               0.000000   \n",
       "5058         0         1        0             0  ...               0.000000   \n",
       "\n",
       "      affinity_Survival  affinity_Suspense  affinity_Team Sports  \\\n",
       "2779                0.0                0.0                   0.0   \n",
       "1977                0.0                0.0                   0.0   \n",
       "3232                0.0                0.0                   0.0   \n",
       "4554                0.0                0.0                   0.0   \n",
       "2866                0.0                0.0                   0.0   \n",
       "4827                0.0                0.0                   0.0   \n",
       "183                 0.0                0.0                   0.0   \n",
       "4956                0.0                0.0                   0.0   \n",
       "3472                0.0                0.0                   0.0   \n",
       "5058                0.0                0.0                   0.0   \n",
       "\n",
       "      affinity_Time Travel  affinity_Urban Fantasy  affinity_Vampire  \\\n",
       "2779                   0.0                     0.0               0.0   \n",
       "1977                   0.0                     0.0               0.0   \n",
       "3232                   0.0                     0.0               0.0   \n",
       "4554                   0.0                     0.0               0.0   \n",
       "2866                   0.0                     0.0               0.0   \n",
       "4827                   0.0                     0.0               0.0   \n",
       "183                    0.0                     0.0               0.0   \n",
       "4956                   0.0                     0.0               0.0   \n",
       "3472                   0.0                     0.0               0.0   \n",
       "5058                   0.0                     0.0               0.0   \n",
       "\n",
       "      affinity_Video Game  affinity_Workplace  affinity_Other  \n",
       "2779                  0.0            0.000000        0.000000  \n",
       "1977                  0.0            0.000000        0.000000  \n",
       "3232                  0.0            5.946429        6.189781  \n",
       "4554                  0.0            0.000000        0.000000  \n",
       "2866                  0.0            0.000000        0.000000  \n",
       "4827                  0.0            0.000000        0.000000  \n",
       "183                   0.0            0.000000        0.000000  \n",
       "4956                  0.0            0.000000        0.000000  \n",
       "3472                  0.0            0.000000        6.189781  \n",
       "5058                  0.0            0.000000        0.000000  \n",
       "\n",
       "[10 rows x 108 columns]"
      ],
      "text/html": [
       "<div>\n",
       "<style scoped>\n",
       "    .dataframe tbody tr th:only-of-type {\n",
       "        vertical-align: middle;\n",
       "    }\n",
       "\n",
       "    .dataframe tbody tr th {\n",
       "        vertical-align: top;\n",
       "    }\n",
       "\n",
       "    .dataframe thead th {\n",
       "        text-align: right;\n",
       "    }\n",
       "</style>\n",
       "<table border=\"1\" class=\"dataframe\">\n",
       "  <thead>\n",
       "    <tr style=\"text-align: right;\">\n",
       "      <th></th>\n",
       "      <th>num_episodes</th>\n",
       "      <th>anime_age</th>\n",
       "      <th>log_members</th>\n",
       "      <th>Type_cm</th>\n",
       "      <th>Type_movie</th>\n",
       "      <th>Type_music</th>\n",
       "      <th>Type_ona</th>\n",
       "      <th>Type_ova</th>\n",
       "      <th>Type_pv</th>\n",
       "      <th>Type_special</th>\n",
       "      <th>...</th>\n",
       "      <th>affinity_Supernatural</th>\n",
       "      <th>affinity_Survival</th>\n",
       "      <th>affinity_Suspense</th>\n",
       "      <th>affinity_Team Sports</th>\n",
       "      <th>affinity_Time Travel</th>\n",
       "      <th>affinity_Urban Fantasy</th>\n",
       "      <th>affinity_Vampire</th>\n",
       "      <th>affinity_Video Game</th>\n",
       "      <th>affinity_Workplace</th>\n",
       "      <th>affinity_Other</th>\n",
       "    </tr>\n",
       "  </thead>\n",
       "  <tbody>\n",
       "    <tr>\n",
       "      <th>2779</th>\n",
       "      <td>2.564949</td>\n",
       "      <td>2</td>\n",
       "      <td>9.451245</td>\n",
       "      <td>0</td>\n",
       "      <td>0</td>\n",
       "      <td>0</td>\n",
       "      <td>0</td>\n",
       "      <td>0</td>\n",
       "      <td>0</td>\n",
       "      <td>0</td>\n",
       "      <td>...</td>\n",
       "      <td>0.000000</td>\n",
       "      <td>0.0</td>\n",
       "      <td>0.0</td>\n",
       "      <td>0.0</td>\n",
       "      <td>0.0</td>\n",
       "      <td>0.0</td>\n",
       "      <td>0.0</td>\n",
       "      <td>0.0</td>\n",
       "      <td>0.000000</td>\n",
       "      <td>0.000000</td>\n",
       "    </tr>\n",
       "    <tr>\n",
       "      <th>1977</th>\n",
       "      <td>0.693147</td>\n",
       "      <td>4</td>\n",
       "      <td>13.964247</td>\n",
       "      <td>0</td>\n",
       "      <td>1</td>\n",
       "      <td>0</td>\n",
       "      <td>0</td>\n",
       "      <td>0</td>\n",
       "      <td>0</td>\n",
       "      <td>0</td>\n",
       "      <td>...</td>\n",
       "      <td>6.147945</td>\n",
       "      <td>0.0</td>\n",
       "      <td>0.0</td>\n",
       "      <td>0.0</td>\n",
       "      <td>0.0</td>\n",
       "      <td>0.0</td>\n",
       "      <td>0.0</td>\n",
       "      <td>0.0</td>\n",
       "      <td>0.000000</td>\n",
       "      <td>0.000000</td>\n",
       "    </tr>\n",
       "    <tr>\n",
       "      <th>3232</th>\n",
       "      <td>0.693147</td>\n",
       "      <td>9</td>\n",
       "      <td>9.642642</td>\n",
       "      <td>0</td>\n",
       "      <td>0</td>\n",
       "      <td>0</td>\n",
       "      <td>0</td>\n",
       "      <td>0</td>\n",
       "      <td>0</td>\n",
       "      <td>1</td>\n",
       "      <td>...</td>\n",
       "      <td>0.000000</td>\n",
       "      <td>0.0</td>\n",
       "      <td>0.0</td>\n",
       "      <td>0.0</td>\n",
       "      <td>0.0</td>\n",
       "      <td>0.0</td>\n",
       "      <td>0.0</td>\n",
       "      <td>0.0</td>\n",
       "      <td>5.946429</td>\n",
       "      <td>6.189781</td>\n",
       "    </tr>\n",
       "    <tr>\n",
       "      <th>4554</th>\n",
       "      <td>2.564949</td>\n",
       "      <td>2</td>\n",
       "      <td>12.547163</td>\n",
       "      <td>0</td>\n",
       "      <td>0</td>\n",
       "      <td>0</td>\n",
       "      <td>0</td>\n",
       "      <td>0</td>\n",
       "      <td>0</td>\n",
       "      <td>0</td>\n",
       "      <td>...</td>\n",
       "      <td>0.000000</td>\n",
       "      <td>0.0</td>\n",
       "      <td>0.0</td>\n",
       "      <td>0.0</td>\n",
       "      <td>0.0</td>\n",
       "      <td>0.0</td>\n",
       "      <td>0.0</td>\n",
       "      <td>0.0</td>\n",
       "      <td>0.000000</td>\n",
       "      <td>0.000000</td>\n",
       "    </tr>\n",
       "    <tr>\n",
       "      <th>2866</th>\n",
       "      <td>1.386294</td>\n",
       "      <td>24</td>\n",
       "      <td>8.899185</td>\n",
       "      <td>0</td>\n",
       "      <td>0</td>\n",
       "      <td>0</td>\n",
       "      <td>0</td>\n",
       "      <td>1</td>\n",
       "      <td>0</td>\n",
       "      <td>0</td>\n",
       "      <td>...</td>\n",
       "      <td>0.000000</td>\n",
       "      <td>0.0</td>\n",
       "      <td>0.0</td>\n",
       "      <td>0.0</td>\n",
       "      <td>0.0</td>\n",
       "      <td>0.0</td>\n",
       "      <td>0.0</td>\n",
       "      <td>0.0</td>\n",
       "      <td>0.000000</td>\n",
       "      <td>0.000000</td>\n",
       "    </tr>\n",
       "    <tr>\n",
       "      <th>4827</th>\n",
       "      <td>2.564949</td>\n",
       "      <td>13</td>\n",
       "      <td>9.441373</td>\n",
       "      <td>0</td>\n",
       "      <td>0</td>\n",
       "      <td>0</td>\n",
       "      <td>0</td>\n",
       "      <td>0</td>\n",
       "      <td>0</td>\n",
       "      <td>0</td>\n",
       "      <td>...</td>\n",
       "      <td>0.000000</td>\n",
       "      <td>0.0</td>\n",
       "      <td>0.0</td>\n",
       "      <td>0.0</td>\n",
       "      <td>0.0</td>\n",
       "      <td>0.0</td>\n",
       "      <td>0.0</td>\n",
       "      <td>0.0</td>\n",
       "      <td>0.000000</td>\n",
       "      <td>0.000000</td>\n",
       "    </tr>\n",
       "    <tr>\n",
       "      <th>183</th>\n",
       "      <td>2.564949</td>\n",
       "      <td>9</td>\n",
       "      <td>10.969973</td>\n",
       "      <td>0</td>\n",
       "      <td>0</td>\n",
       "      <td>0</td>\n",
       "      <td>0</td>\n",
       "      <td>0</td>\n",
       "      <td>0</td>\n",
       "      <td>0</td>\n",
       "      <td>...</td>\n",
       "      <td>0.000000</td>\n",
       "      <td>0.0</td>\n",
       "      <td>0.0</td>\n",
       "      <td>0.0</td>\n",
       "      <td>0.0</td>\n",
       "      <td>0.0</td>\n",
       "      <td>0.0</td>\n",
       "      <td>0.0</td>\n",
       "      <td>0.000000</td>\n",
       "      <td>0.000000</td>\n",
       "    </tr>\n",
       "    <tr>\n",
       "      <th>4956</th>\n",
       "      <td>5.023881</td>\n",
       "      <td>3</td>\n",
       "      <td>8.932873</td>\n",
       "      <td>0</td>\n",
       "      <td>0</td>\n",
       "      <td>0</td>\n",
       "      <td>0</td>\n",
       "      <td>0</td>\n",
       "      <td>0</td>\n",
       "      <td>0</td>\n",
       "      <td>...</td>\n",
       "      <td>0.000000</td>\n",
       "      <td>0.0</td>\n",
       "      <td>0.0</td>\n",
       "      <td>0.0</td>\n",
       "      <td>0.0</td>\n",
       "      <td>0.0</td>\n",
       "      <td>0.0</td>\n",
       "      <td>0.0</td>\n",
       "      <td>0.000000</td>\n",
       "      <td>0.000000</td>\n",
       "    </tr>\n",
       "    <tr>\n",
       "      <th>3472</th>\n",
       "      <td>2.833213</td>\n",
       "      <td>22</td>\n",
       "      <td>10.448975</td>\n",
       "      <td>0</td>\n",
       "      <td>0</td>\n",
       "      <td>0</td>\n",
       "      <td>0</td>\n",
       "      <td>0</td>\n",
       "      <td>0</td>\n",
       "      <td>0</td>\n",
       "      <td>...</td>\n",
       "      <td>0.000000</td>\n",
       "      <td>0.0</td>\n",
       "      <td>0.0</td>\n",
       "      <td>0.0</td>\n",
       "      <td>0.0</td>\n",
       "      <td>0.0</td>\n",
       "      <td>0.0</td>\n",
       "      <td>0.0</td>\n",
       "      <td>0.000000</td>\n",
       "      <td>6.189781</td>\n",
       "    </tr>\n",
       "    <tr>\n",
       "      <th>5058</th>\n",
       "      <td>1.098612</td>\n",
       "      <td>19</td>\n",
       "      <td>9.324026</td>\n",
       "      <td>0</td>\n",
       "      <td>0</td>\n",
       "      <td>0</td>\n",
       "      <td>0</td>\n",
       "      <td>1</td>\n",
       "      <td>0</td>\n",
       "      <td>0</td>\n",
       "      <td>...</td>\n",
       "      <td>0.000000</td>\n",
       "      <td>0.0</td>\n",
       "      <td>0.0</td>\n",
       "      <td>0.0</td>\n",
       "      <td>0.0</td>\n",
       "      <td>0.0</td>\n",
       "      <td>0.0</td>\n",
       "      <td>0.0</td>\n",
       "      <td>0.000000</td>\n",
       "      <td>0.000000</td>\n",
       "    </tr>\n",
       "  </tbody>\n",
       "</table>\n",
       "<p>10 rows × 108 columns</p>\n",
       "</div>"
      ]
     },
     "execution_count": 116,
     "metadata": {},
     "output_type": "execute_result"
    }
   ],
   "execution_count": 116
  },
  {
   "metadata": {
    "ExecuteTime": {
     "end_time": "2025-10-01T15:09:06.829105Z",
     "start_time": "2025-10-01T15:09:06.813281Z"
    }
   },
   "cell_type": "code",
   "source": [
    "# scaler = StandardScaler()\n",
    "# X_train = scaler.fit_transform(X_train)\n",
    "# X_test = scaler.transform(X_test)"
   ],
   "id": "8f70a6ce40a10b09",
   "outputs": [],
   "execution_count": 117
  },
  {
   "metadata": {
    "ExecuteTime": {
     "end_time": "2025-10-01T15:09:07.574844Z",
     "start_time": "2025-10-01T15:09:07.563182Z"
    }
   },
   "cell_type": "code",
   "source": [
    "from sklearn.utils.class_weight import compute_class_weight\n",
    "\n",
    "class_weights = compute_class_weight(\n",
    "    'balanced',\n",
    "    classes=np.unique(y_train),\n",
    "    y=y_train\n",
    ")\n",
    "class_weight_dict = dict(enumerate(class_weights))"
   ],
   "id": "b70d9b860f738f78",
   "outputs": [],
   "execution_count": 118
  },
  {
   "metadata": {
    "ExecuteTime": {
     "end_time": "2025-10-01T15:09:08.499365Z",
     "start_time": "2025-10-01T15:09:08.488228Z"
    }
   },
   "cell_type": "code",
   "source": "print(class_weight_dict)",
   "id": "255b11412873fe9f",
   "outputs": [
    {
     "name": "stdout",
     "output_type": "stream",
     "text": [
      "{0: 0.7298554984080333, 1: 0.9327073552425665, 2: 1.7930204572803852}\n"
     ]
    }
   ],
   "execution_count": 119
  },
  {
   "metadata": {
    "ExecuteTime": {
     "end_time": "2025-10-01T15:09:10.218043Z",
     "start_time": "2025-10-01T15:09:10.213019Z"
    }
   },
   "cell_type": "code",
   "source": "model = CatBoostClassifier(early_stopping_rounds=50,random_state=42, verbose=0)",
   "id": "5f0894163ec5c515",
   "outputs": [],
   "execution_count": 120
  },
  {
   "metadata": {
    "ExecuteTime": {
     "end_time": "2025-10-01T15:09:12.199723Z",
     "start_time": "2025-10-01T15:09:12.177821Z"
    }
   },
   "cell_type": "code",
   "source": [
    "params = {\n",
    "    'iterations': [200, 300, 400],\n",
    "    'depth': [3, 4, 6],\n",
    "    'learning_rate': [0.01, 0.03, 0.05],\n",
    "    'l2_leaf_reg': [3, 5, 7],\n",
    "    'random_strength': [1.0, 1.5]\n",
    "}\n",
    "\n",
    "cv = StratifiedKFold(n_splits=5, shuffle=True, random_state=24)\n",
    "grid = GridSearchCV(\n",
    "    estimator=model,\n",
    "    param_grid=params,\n",
    "    scoring='f1_macro',\n",
    "    cv=cv,\n",
    "    refit=True,\n",
    "    n_jobs=-1,\n",
    "    verbose=2,\n",
    "    return_train_score=True  \n",
    ")"
   ],
   "id": "d2a75515c8b19690",
   "outputs": [],
   "execution_count": 121
  },
  {
   "metadata": {
    "ExecuteTime": {
     "end_time": "2025-10-01T15:30:26.730646Z",
     "start_time": "2025-10-01T15:20:19.818727Z"
    }
   },
   "cell_type": "code",
   "source": [
    "grid.fit(\n",
    "    X_train, y_train\n",
    ")"
   ],
   "id": "59968bc63a9d0cb9",
   "outputs": [
    {
     "name": "stdout",
     "output_type": "stream",
     "text": [
      "Fitting 5 folds for each of 162 candidates, totalling 810 fits\n"
     ]
    },
    {
     "data": {
      "text/plain": [
       "GridSearchCV(cv=StratifiedKFold(n_splits=5, random_state=24, shuffle=True),\n",
       "             estimator=<catboost.core.CatBoostClassifier object at 0x000001CA43A3DE20>,\n",
       "             n_jobs=-1,\n",
       "             param_grid={'depth': [3, 4, 6], 'iterations': [200, 300, 400],\n",
       "                         'l2_leaf_reg': [3, 5, 7],\n",
       "                         'learning_rate': [0.01, 0.03, 0.05],\n",
       "                         'random_strength': [1.0, 1.5]},\n",
       "             return_train_score=True, scoring='f1_macro', verbose=2)"
      ],
      "text/html": [
       "<style>#sk-container-id-2 {\n",
       "  /* Definition of color scheme common for light and dark mode */\n",
       "  --sklearn-color-text: black;\n",
       "  --sklearn-color-line: gray;\n",
       "  /* Definition of color scheme for unfitted estimators */\n",
       "  --sklearn-color-unfitted-level-0: #fff5e6;\n",
       "  --sklearn-color-unfitted-level-1: #f6e4d2;\n",
       "  --sklearn-color-unfitted-level-2: #ffe0b3;\n",
       "  --sklearn-color-unfitted-level-3: chocolate;\n",
       "  /* Definition of color scheme for fitted estimators */\n",
       "  --sklearn-color-fitted-level-0: #f0f8ff;\n",
       "  --sklearn-color-fitted-level-1: #d4ebff;\n",
       "  --sklearn-color-fitted-level-2: #b3dbfd;\n",
       "  --sklearn-color-fitted-level-3: cornflowerblue;\n",
       "\n",
       "  /* Specific color for light theme */\n",
       "  --sklearn-color-text-on-default-background: var(--sg-text-color, var(--theme-code-foreground, var(--jp-content-font-color1, black)));\n",
       "  --sklearn-color-background: var(--sg-background-color, var(--theme-background, var(--jp-layout-color0, white)));\n",
       "  --sklearn-color-border-box: var(--sg-text-color, var(--theme-code-foreground, var(--jp-content-font-color1, black)));\n",
       "  --sklearn-color-icon: #696969;\n",
       "\n",
       "  @media (prefers-color-scheme: dark) {\n",
       "    /* Redefinition of color scheme for dark theme */\n",
       "    --sklearn-color-text-on-default-background: var(--sg-text-color, var(--theme-code-foreground, var(--jp-content-font-color1, white)));\n",
       "    --sklearn-color-background: var(--sg-background-color, var(--theme-background, var(--jp-layout-color0, #111)));\n",
       "    --sklearn-color-border-box: var(--sg-text-color, var(--theme-code-foreground, var(--jp-content-font-color1, white)));\n",
       "    --sklearn-color-icon: #878787;\n",
       "  }\n",
       "}\n",
       "\n",
       "#sk-container-id-2 {\n",
       "  color: var(--sklearn-color-text);\n",
       "}\n",
       "\n",
       "#sk-container-id-2 pre {\n",
       "  padding: 0;\n",
       "}\n",
       "\n",
       "#sk-container-id-2 input.sk-hidden--visually {\n",
       "  border: 0;\n",
       "  clip: rect(1px 1px 1px 1px);\n",
       "  clip: rect(1px, 1px, 1px, 1px);\n",
       "  height: 1px;\n",
       "  margin: -1px;\n",
       "  overflow: hidden;\n",
       "  padding: 0;\n",
       "  position: absolute;\n",
       "  width: 1px;\n",
       "}\n",
       "\n",
       "#sk-container-id-2 div.sk-dashed-wrapped {\n",
       "  border: 1px dashed var(--sklearn-color-line);\n",
       "  margin: 0 0.4em 0.5em 0.4em;\n",
       "  box-sizing: border-box;\n",
       "  padding-bottom: 0.4em;\n",
       "  background-color: var(--sklearn-color-background);\n",
       "}\n",
       "\n",
       "#sk-container-id-2 div.sk-container {\n",
       "  /* jupyter's `normalize.less` sets `[hidden] { display: none; }`\n",
       "     but bootstrap.min.css set `[hidden] { display: none !important; }`\n",
       "     so we also need the `!important` here to be able to override the\n",
       "     default hidden behavior on the sphinx rendered scikit-learn.org.\n",
       "     See: https://github.com/scikit-learn/scikit-learn/issues/21755 */\n",
       "  display: inline-block !important;\n",
       "  position: relative;\n",
       "}\n",
       "\n",
       "#sk-container-id-2 div.sk-text-repr-fallback {\n",
       "  display: none;\n",
       "}\n",
       "\n",
       "div.sk-parallel-item,\n",
       "div.sk-serial,\n",
       "div.sk-item {\n",
       "  /* draw centered vertical line to link estimators */\n",
       "  background-image: linear-gradient(var(--sklearn-color-text-on-default-background), var(--sklearn-color-text-on-default-background));\n",
       "  background-size: 2px 100%;\n",
       "  background-repeat: no-repeat;\n",
       "  background-position: center center;\n",
       "}\n",
       "\n",
       "/* Parallel-specific style estimator block */\n",
       "\n",
       "#sk-container-id-2 div.sk-parallel-item::after {\n",
       "  content: \"\";\n",
       "  width: 100%;\n",
       "  border-bottom: 2px solid var(--sklearn-color-text-on-default-background);\n",
       "  flex-grow: 1;\n",
       "}\n",
       "\n",
       "#sk-container-id-2 div.sk-parallel {\n",
       "  display: flex;\n",
       "  align-items: stretch;\n",
       "  justify-content: center;\n",
       "  background-color: var(--sklearn-color-background);\n",
       "  position: relative;\n",
       "}\n",
       "\n",
       "#sk-container-id-2 div.sk-parallel-item {\n",
       "  display: flex;\n",
       "  flex-direction: column;\n",
       "}\n",
       "\n",
       "#sk-container-id-2 div.sk-parallel-item:first-child::after {\n",
       "  align-self: flex-end;\n",
       "  width: 50%;\n",
       "}\n",
       "\n",
       "#sk-container-id-2 div.sk-parallel-item:last-child::after {\n",
       "  align-self: flex-start;\n",
       "  width: 50%;\n",
       "}\n",
       "\n",
       "#sk-container-id-2 div.sk-parallel-item:only-child::after {\n",
       "  width: 0;\n",
       "}\n",
       "\n",
       "/* Serial-specific style estimator block */\n",
       "\n",
       "#sk-container-id-2 div.sk-serial {\n",
       "  display: flex;\n",
       "  flex-direction: column;\n",
       "  align-items: center;\n",
       "  background-color: var(--sklearn-color-background);\n",
       "  padding-right: 1em;\n",
       "  padding-left: 1em;\n",
       "}\n",
       "\n",
       "\n",
       "/* Toggleable style: style used for estimator/Pipeline/ColumnTransformer box that is\n",
       "clickable and can be expanded/collapsed.\n",
       "- Pipeline and ColumnTransformer use this feature and define the default style\n",
       "- Estimators will overwrite some part of the style using the `sk-estimator` class\n",
       "*/\n",
       "\n",
       "/* Pipeline and ColumnTransformer style (default) */\n",
       "\n",
       "#sk-container-id-2 div.sk-toggleable {\n",
       "  /* Default theme specific background. It is overwritten whether we have a\n",
       "  specific estimator or a Pipeline/ColumnTransformer */\n",
       "  background-color: var(--sklearn-color-background);\n",
       "}\n",
       "\n",
       "/* Toggleable label */\n",
       "#sk-container-id-2 label.sk-toggleable__label {\n",
       "  cursor: pointer;\n",
       "  display: block;\n",
       "  width: 100%;\n",
       "  margin-bottom: 0;\n",
       "  padding: 0.5em;\n",
       "  box-sizing: border-box;\n",
       "  text-align: center;\n",
       "}\n",
       "\n",
       "#sk-container-id-2 label.sk-toggleable__label-arrow:before {\n",
       "  /* Arrow on the left of the label */\n",
       "  content: \"▸\";\n",
       "  float: left;\n",
       "  margin-right: 0.25em;\n",
       "  color: var(--sklearn-color-icon);\n",
       "}\n",
       "\n",
       "#sk-container-id-2 label.sk-toggleable__label-arrow:hover:before {\n",
       "  color: var(--sklearn-color-text);\n",
       "}\n",
       "\n",
       "/* Toggleable content - dropdown */\n",
       "\n",
       "#sk-container-id-2 div.sk-toggleable__content {\n",
       "  max-height: 0;\n",
       "  max-width: 0;\n",
       "  overflow: hidden;\n",
       "  text-align: left;\n",
       "  /* unfitted */\n",
       "  background-color: var(--sklearn-color-unfitted-level-0);\n",
       "}\n",
       "\n",
       "#sk-container-id-2 div.sk-toggleable__content.fitted {\n",
       "  /* fitted */\n",
       "  background-color: var(--sklearn-color-fitted-level-0);\n",
       "}\n",
       "\n",
       "#sk-container-id-2 div.sk-toggleable__content pre {\n",
       "  margin: 0.2em;\n",
       "  border-radius: 0.25em;\n",
       "  color: var(--sklearn-color-text);\n",
       "  /* unfitted */\n",
       "  background-color: var(--sklearn-color-unfitted-level-0);\n",
       "}\n",
       "\n",
       "#sk-container-id-2 div.sk-toggleable__content.fitted pre {\n",
       "  /* unfitted */\n",
       "  background-color: var(--sklearn-color-fitted-level-0);\n",
       "}\n",
       "\n",
       "#sk-container-id-2 input.sk-toggleable__control:checked~div.sk-toggleable__content {\n",
       "  /* Expand drop-down */\n",
       "  max-height: 200px;\n",
       "  max-width: 100%;\n",
       "  overflow: auto;\n",
       "}\n",
       "\n",
       "#sk-container-id-2 input.sk-toggleable__control:checked~label.sk-toggleable__label-arrow:before {\n",
       "  content: \"▾\";\n",
       "}\n",
       "\n",
       "/* Pipeline/ColumnTransformer-specific style */\n",
       "\n",
       "#sk-container-id-2 div.sk-label input.sk-toggleable__control:checked~label.sk-toggleable__label {\n",
       "  color: var(--sklearn-color-text);\n",
       "  background-color: var(--sklearn-color-unfitted-level-2);\n",
       "}\n",
       "\n",
       "#sk-container-id-2 div.sk-label.fitted input.sk-toggleable__control:checked~label.sk-toggleable__label {\n",
       "  background-color: var(--sklearn-color-fitted-level-2);\n",
       "}\n",
       "\n",
       "/* Estimator-specific style */\n",
       "\n",
       "/* Colorize estimator box */\n",
       "#sk-container-id-2 div.sk-estimator input.sk-toggleable__control:checked~label.sk-toggleable__label {\n",
       "  /* unfitted */\n",
       "  background-color: var(--sklearn-color-unfitted-level-2);\n",
       "}\n",
       "\n",
       "#sk-container-id-2 div.sk-estimator.fitted input.sk-toggleable__control:checked~label.sk-toggleable__label {\n",
       "  /* fitted */\n",
       "  background-color: var(--sklearn-color-fitted-level-2);\n",
       "}\n",
       "\n",
       "#sk-container-id-2 div.sk-label label.sk-toggleable__label,\n",
       "#sk-container-id-2 div.sk-label label {\n",
       "  /* The background is the default theme color */\n",
       "  color: var(--sklearn-color-text-on-default-background);\n",
       "}\n",
       "\n",
       "/* On hover, darken the color of the background */\n",
       "#sk-container-id-2 div.sk-label:hover label.sk-toggleable__label {\n",
       "  color: var(--sklearn-color-text);\n",
       "  background-color: var(--sklearn-color-unfitted-level-2);\n",
       "}\n",
       "\n",
       "/* Label box, darken color on hover, fitted */\n",
       "#sk-container-id-2 div.sk-label.fitted:hover label.sk-toggleable__label.fitted {\n",
       "  color: var(--sklearn-color-text);\n",
       "  background-color: var(--sklearn-color-fitted-level-2);\n",
       "}\n",
       "\n",
       "/* Estimator label */\n",
       "\n",
       "#sk-container-id-2 div.sk-label label {\n",
       "  font-family: monospace;\n",
       "  font-weight: bold;\n",
       "  display: inline-block;\n",
       "  line-height: 1.2em;\n",
       "}\n",
       "\n",
       "#sk-container-id-2 div.sk-label-container {\n",
       "  text-align: center;\n",
       "}\n",
       "\n",
       "/* Estimator-specific */\n",
       "#sk-container-id-2 div.sk-estimator {\n",
       "  font-family: monospace;\n",
       "  border: 1px dotted var(--sklearn-color-border-box);\n",
       "  border-radius: 0.25em;\n",
       "  box-sizing: border-box;\n",
       "  margin-bottom: 0.5em;\n",
       "  /* unfitted */\n",
       "  background-color: var(--sklearn-color-unfitted-level-0);\n",
       "}\n",
       "\n",
       "#sk-container-id-2 div.sk-estimator.fitted {\n",
       "  /* fitted */\n",
       "  background-color: var(--sklearn-color-fitted-level-0);\n",
       "}\n",
       "\n",
       "/* on hover */\n",
       "#sk-container-id-2 div.sk-estimator:hover {\n",
       "  /* unfitted */\n",
       "  background-color: var(--sklearn-color-unfitted-level-2);\n",
       "}\n",
       "\n",
       "#sk-container-id-2 div.sk-estimator.fitted:hover {\n",
       "  /* fitted */\n",
       "  background-color: var(--sklearn-color-fitted-level-2);\n",
       "}\n",
       "\n",
       "/* Specification for estimator info (e.g. \"i\" and \"?\") */\n",
       "\n",
       "/* Common style for \"i\" and \"?\" */\n",
       "\n",
       ".sk-estimator-doc-link,\n",
       "a:link.sk-estimator-doc-link,\n",
       "a:visited.sk-estimator-doc-link {\n",
       "  float: right;\n",
       "  font-size: smaller;\n",
       "  line-height: 1em;\n",
       "  font-family: monospace;\n",
       "  background-color: var(--sklearn-color-background);\n",
       "  border-radius: 1em;\n",
       "  height: 1em;\n",
       "  width: 1em;\n",
       "  text-decoration: none !important;\n",
       "  margin-left: 1ex;\n",
       "  /* unfitted */\n",
       "  border: var(--sklearn-color-unfitted-level-1) 1pt solid;\n",
       "  color: var(--sklearn-color-unfitted-level-1);\n",
       "}\n",
       "\n",
       ".sk-estimator-doc-link.fitted,\n",
       "a:link.sk-estimator-doc-link.fitted,\n",
       "a:visited.sk-estimator-doc-link.fitted {\n",
       "  /* fitted */\n",
       "  border: var(--sklearn-color-fitted-level-1) 1pt solid;\n",
       "  color: var(--sklearn-color-fitted-level-1);\n",
       "}\n",
       "\n",
       "/* On hover */\n",
       "div.sk-estimator:hover .sk-estimator-doc-link:hover,\n",
       ".sk-estimator-doc-link:hover,\n",
       "div.sk-label-container:hover .sk-estimator-doc-link:hover,\n",
       ".sk-estimator-doc-link:hover {\n",
       "  /* unfitted */\n",
       "  background-color: var(--sklearn-color-unfitted-level-3);\n",
       "  color: var(--sklearn-color-background);\n",
       "  text-decoration: none;\n",
       "}\n",
       "\n",
       "div.sk-estimator.fitted:hover .sk-estimator-doc-link.fitted:hover,\n",
       ".sk-estimator-doc-link.fitted:hover,\n",
       "div.sk-label-container:hover .sk-estimator-doc-link.fitted:hover,\n",
       ".sk-estimator-doc-link.fitted:hover {\n",
       "  /* fitted */\n",
       "  background-color: var(--sklearn-color-fitted-level-3);\n",
       "  color: var(--sklearn-color-background);\n",
       "  text-decoration: none;\n",
       "}\n",
       "\n",
       "/* Span, style for the box shown on hovering the info icon */\n",
       ".sk-estimator-doc-link span {\n",
       "  display: none;\n",
       "  z-index: 9999;\n",
       "  position: relative;\n",
       "  font-weight: normal;\n",
       "  right: .2ex;\n",
       "  padding: .5ex;\n",
       "  margin: .5ex;\n",
       "  width: min-content;\n",
       "  min-width: 20ex;\n",
       "  max-width: 50ex;\n",
       "  color: var(--sklearn-color-text);\n",
       "  box-shadow: 2pt 2pt 4pt #999;\n",
       "  /* unfitted */\n",
       "  background: var(--sklearn-color-unfitted-level-0);\n",
       "  border: .5pt solid var(--sklearn-color-unfitted-level-3);\n",
       "}\n",
       "\n",
       ".sk-estimator-doc-link.fitted span {\n",
       "  /* fitted */\n",
       "  background: var(--sklearn-color-fitted-level-0);\n",
       "  border: var(--sklearn-color-fitted-level-3);\n",
       "}\n",
       "\n",
       ".sk-estimator-doc-link:hover span {\n",
       "  display: block;\n",
       "}\n",
       "\n",
       "/* \"?\"-specific style due to the `<a>` HTML tag */\n",
       "\n",
       "#sk-container-id-2 a.estimator_doc_link {\n",
       "  float: right;\n",
       "  font-size: 1rem;\n",
       "  line-height: 1em;\n",
       "  font-family: monospace;\n",
       "  background-color: var(--sklearn-color-background);\n",
       "  border-radius: 1rem;\n",
       "  height: 1rem;\n",
       "  width: 1rem;\n",
       "  text-decoration: none;\n",
       "  /* unfitted */\n",
       "  color: var(--sklearn-color-unfitted-level-1);\n",
       "  border: var(--sklearn-color-unfitted-level-1) 1pt solid;\n",
       "}\n",
       "\n",
       "#sk-container-id-2 a.estimator_doc_link.fitted {\n",
       "  /* fitted */\n",
       "  border: var(--sklearn-color-fitted-level-1) 1pt solid;\n",
       "  color: var(--sklearn-color-fitted-level-1);\n",
       "}\n",
       "\n",
       "/* On hover */\n",
       "#sk-container-id-2 a.estimator_doc_link:hover {\n",
       "  /* unfitted */\n",
       "  background-color: var(--sklearn-color-unfitted-level-3);\n",
       "  color: var(--sklearn-color-background);\n",
       "  text-decoration: none;\n",
       "}\n",
       "\n",
       "#sk-container-id-2 a.estimator_doc_link.fitted:hover {\n",
       "  /* fitted */\n",
       "  background-color: var(--sklearn-color-fitted-level-3);\n",
       "}\n",
       "</style><div id=\"sk-container-id-2\" class=\"sk-top-container\"><div class=\"sk-text-repr-fallback\"><pre>GridSearchCV(cv=StratifiedKFold(n_splits=5, random_state=24, shuffle=True),\n",
       "             estimator=&lt;catboost.core.CatBoostClassifier object at 0x000001CA43A3DE20&gt;,\n",
       "             n_jobs=-1,\n",
       "             param_grid={&#x27;depth&#x27;: [3, 4, 6], &#x27;iterations&#x27;: [200, 300, 400],\n",
       "                         &#x27;l2_leaf_reg&#x27;: [3, 5, 7],\n",
       "                         &#x27;learning_rate&#x27;: [0.01, 0.03, 0.05],\n",
       "                         &#x27;random_strength&#x27;: [1.0, 1.5]},\n",
       "             return_train_score=True, scoring=&#x27;f1_macro&#x27;, verbose=2)</pre><b>In a Jupyter environment, please rerun this cell to show the HTML representation or trust the notebook. <br />On GitHub, the HTML representation is unable to render, please try loading this page with nbviewer.org.</b></div><div class=\"sk-container\" hidden><div class=\"sk-item sk-dashed-wrapped\"><div class=\"sk-label-container\"><div class=\"sk-label fitted sk-toggleable\"><input class=\"sk-toggleable__control sk-hidden--visually\" id=\"sk-estimator-id-4\" type=\"checkbox\" ><label for=\"sk-estimator-id-4\" class=\"sk-toggleable__label fitted sk-toggleable__label-arrow fitted\">&nbsp;&nbsp;GridSearchCV<a class=\"sk-estimator-doc-link fitted\" rel=\"noreferrer\" target=\"_blank\" href=\"https://scikit-learn.org/1.5/modules/generated/sklearn.model_selection.GridSearchCV.html\">?<span>Documentation for GridSearchCV</span></a><span class=\"sk-estimator-doc-link fitted\">i<span>Fitted</span></span></label><div class=\"sk-toggleable__content fitted\"><pre>GridSearchCV(cv=StratifiedKFold(n_splits=5, random_state=24, shuffle=True),\n",
       "             estimator=&lt;catboost.core.CatBoostClassifier object at 0x000001CA43A3DE20&gt;,\n",
       "             n_jobs=-1,\n",
       "             param_grid={&#x27;depth&#x27;: [3, 4, 6], &#x27;iterations&#x27;: [200, 300, 400],\n",
       "                         &#x27;l2_leaf_reg&#x27;: [3, 5, 7],\n",
       "                         &#x27;learning_rate&#x27;: [0.01, 0.03, 0.05],\n",
       "                         &#x27;random_strength&#x27;: [1.0, 1.5]},\n",
       "             return_train_score=True, scoring=&#x27;f1_macro&#x27;, verbose=2)</pre></div> </div></div><div class=\"sk-parallel\"><div class=\"sk-parallel-item\"><div class=\"sk-item\"><div class=\"sk-label-container\"><div class=\"sk-label fitted sk-toggleable\"><input class=\"sk-toggleable__control sk-hidden--visually\" id=\"sk-estimator-id-5\" type=\"checkbox\" ><label for=\"sk-estimator-id-5\" class=\"sk-toggleable__label fitted sk-toggleable__label-arrow fitted\">best_estimator_: CatBoostClassifier</label><div class=\"sk-toggleable__content fitted\"><pre>&lt;catboost.core.CatBoostClassifier object at 0x000001CA4A1476D0&gt;</pre></div> </div></div><div class=\"sk-serial\"><div class=\"sk-item\"><div class=\"sk-estimator fitted sk-toggleable\"><input class=\"sk-toggleable__control sk-hidden--visually\" id=\"sk-estimator-id-6\" type=\"checkbox\" ><label for=\"sk-estimator-id-6\" class=\"sk-toggleable__label fitted sk-toggleable__label-arrow fitted\">CatBoostClassifier</label><div class=\"sk-toggleable__content fitted\"><pre>&lt;catboost.core.CatBoostClassifier object at 0x000001CA4A1476D0&gt;</pre></div> </div></div></div></div></div></div></div></div></div>"
      ]
     },
     "execution_count": 123,
     "metadata": {},
     "output_type": "execute_result"
    }
   ],
   "execution_count": 123
  },
  {
   "metadata": {
    "ExecuteTime": {
     "end_time": "2025-10-01T15:35:50.224771Z",
     "start_time": "2025-10-01T15:35:50.195817Z"
    }
   },
   "cell_type": "code",
   "source": [
    "results = pd.DataFrame(grid.cv_results_)\n",
    "results = results.sort_values(by=\"mean_test_score\", ascending=False)\n",
    "print(results[[\n",
    "    \"param_depth\",\n",
    "    \"param_iterations\",\n",
    "    \"param_learning_rate\",\n",
    "    \"param_l2_leaf_reg\",\n",
    "    \"param_random_strength\",\n",
    "    \"mean_test_score\",\n",
    "    \"std_test_score\"\n",
    "]].head(10))"
   ],
   "id": "89607d6bcda4b9e",
   "outputs": [
    {
     "name": "stdout",
     "output_type": "stream",
     "text": [
      "     param_depth  param_iterations  param_learning_rate  param_l2_leaf_reg  \\\n",
      "95             4               400                 0.05                  3   \n",
      "148            6               400                 0.05                  3   \n",
      "101            4               400                 0.05                  5   \n",
      "149            6               400                 0.05                  3   \n",
      "94             4               400                 0.05                  3   \n",
      "161            6               400                 0.05                  7   \n",
      "154            6               400                 0.05                  5   \n",
      "160            6               400                 0.05                  7   \n",
      "155            6               400                 0.05                  5   \n",
      "143            6               300                 0.05                  7   \n",
      "\n",
      "     param_random_strength  mean_test_score  std_test_score  \n",
      "95                     1.5         0.606050        0.017728  \n",
      "148                    1.0         0.605611        0.018440  \n",
      "101                    1.5         0.603127        0.017445  \n",
      "149                    1.5         0.602881        0.020732  \n",
      "94                     1.0         0.602748        0.021072  \n",
      "161                    1.5         0.602128        0.015317  \n",
      "154                    1.0         0.601749        0.015877  \n",
      "160                    1.0         0.600865        0.016163  \n",
      "155                    1.5         0.600735        0.015442  \n",
      "143                    1.5         0.600643        0.011540  \n"
     ]
    }
   ],
   "execution_count": 124
  },
  {
   "metadata": {},
   "cell_type": "code",
   "outputs": [],
   "execution_count": null,
   "source": "",
   "id": "1af7e67141c80bd8"
  }
 ],
 "metadata": {
  "kernelspec": {
   "display_name": "Python 3",
   "language": "python",
   "name": "python3"
  },
  "language_info": {
   "codemirror_mode": {
    "name": "ipython",
    "version": 2
   },
   "file_extension": ".py",
   "mimetype": "text/x-python",
   "name": "python",
   "nbconvert_exporter": "python",
   "pygments_lexer": "ipython2",
   "version": "2.7.6"
  }
 },
 "nbformat": 4,
 "nbformat_minor": 5
}
