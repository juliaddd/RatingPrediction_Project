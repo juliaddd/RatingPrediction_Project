{
 "cells": [
  {
   "metadata": {
    "ExecuteTime": {
     "end_time": "2025-10-01T14:01:52.796641Z",
     "start_time": "2025-10-01T14:01:51.565878Z"
    }
   },
   "cell_type": "code",
   "source": [
    "import pandas as pd\n",
    "import requests\n",
    "import numpy as np\n",
    "from sklearn.model_selection import train_test_split\n",
    "import matplotlib.pyplot as plt\n",
    "from sklearn.model_selection import cross_val_score, KFold, RepeatedKFold, StratifiedKFold\n",
    "import time \n",
    "from sklearn.preprocessing import StandardScaler\n",
    "from sklearn.ensemble import RandomForestRegressor, RandomForestClassifier\n",
    "from sklearn.metrics import mean_squared_error, r2_score, mean_absolute_error\n",
    "from sklearn.utils.class_weight import compute_sample_weight\n",
    "from sklearn.metrics import classification_report, confusion_matrix\n",
    "from catboost import CatBoostClassifier\n",
    "from sklearn.model_selection import GridSearchCV\n",
    "import seaborn as sb"
   ],
   "id": "7a020d8717b4e494",
   "outputs": [],
   "execution_count": 1
  },
  {
   "metadata": {
    "ExecuteTime": {
     "end_time": "2025-10-01T14:01:58.070958Z",
     "start_time": "2025-10-01T14:01:58.049891Z"
    }
   },
   "cell_type": "code",
   "source": [
    "def get_user_animelist(username: str, client_id: str):\n",
    "    # Loads list of anime from MAL for a given user\n",
    "    url = f'https://api.myanimelist.net/v2/users/{username}/animelist?limit=500'\n",
    "    headers = {\n",
    "        'X-MAL-CLIENT-ID': client_id\n",
    "    }\n",
    "    params = {\n",
    "        'fields': 'id, title, list_status{score,status}, start_season{year}, mean, genres, popularity, media_type, rating, num_episodes, studios, num_list_users,favorites'\n",
    "    }\n",
    "\n",
    "    all_data = []\n",
    "    next_page = url\n",
    "\n",
    "    while next_page:\n",
    "        response = requests.get(next_page, headers=headers, params=params if next_page == url else None)\n",
    "        if response.status_code != 200:\n",
    "            raise ValueError(f\"Error with API request: {response.status_code} - {response.text}\")\n",
    "\n",
    "        data = response.json()\n",
    "        all_data.extend(data['data'])\n",
    "        next_page = data.get(\"paging\", {}).get(\"next\")\n",
    "\n",
    "        print(f\"Loaded {len(all_data)} anime...\")\n",
    "\n",
    "    return all_data"
   ],
   "id": "d7052a10b430a951",
   "outputs": [],
   "execution_count": 2
  },
  {
   "metadata": {
    "ExecuteTime": {
     "end_time": "2025-10-01T14:02:02.755018Z",
     "start_time": "2025-10-01T14:02:02.733984Z"
    }
   },
   "cell_type": "code",
   "source": [
    "def to_dataframe(all_data):\n",
    "    rows = []\n",
    "    for item in all_data:\n",
    "        anime = item['node']\n",
    "        score = item.get('list_status', {}).get('score')\n",
    "        status = item.get('list_status', {}).get('status')\n",
    "        # num_episodes_watched = item.get('list_status', {}).get('num_episodes_watched')\n",
    "        year = item.get('node', {}).get('start_season', {}).get('year')\n",
    "        rows.append({\n",
    "            \"id\": anime['id'],\n",
    "            \"title\": anime['title'],\n",
    "            \"mean\": anime.get('mean'),\n",
    "            \"genres\": [g['name'] for g in anime.get('genres', [])],\n",
    "            \"studios\": [s['name'] for s in anime.get('studios', [])],\n",
    "            \"rating\": anime.get('rating'),\n",
    "            \"year\": year,\n",
    "            \"type\": anime.get('media_type'),\n",
    "            \"popularity\": anime.get('popularity'),\n",
    "            \"score\": score,\n",
    "            \"status\": status,\n",
    "            \"members\": anime['num_list_users'],\n",
    "            \"num_episodes\": anime['num_episodes'],\n",
    "        })\n",
    "    \n",
    "    df = pd.DataFrame(rows)\n",
    "    df['studios'] = df['studios'].str.join(\", \")\n",
    "    df['genres'] = df['genres'].str.join(\", \")\n",
    "\n",
    "    return df"
   ],
   "id": "a2e71aabff7eb53a",
   "outputs": [],
   "execution_count": 3
  },
  {
   "metadata": {
    "ExecuteTime": {
     "end_time": "2025-10-01T14:02:37.410794Z",
     "start_time": "2025-10-01T14:02:37.391748Z"
    }
   },
   "cell_type": "code",
   "source": [
    "def calculate_genre_affinity_simple(df_train):\n",
    "    genre_cols = [col for col in df_train.columns if col.startswith('Genre_')]\n",
    "    genre_affinity = {}\n",
    "    \n",
    "    overall_mean = df_train['score'].mean()\n",
    "    \n",
    "    for genre_col in genre_cols:\n",
    "        genre_name = genre_col.replace('Genre_', '')\n",
    "        mask = df_train[genre_col] == 1\n",
    "        \n",
    "        if mask.sum() >= 5:\n",
    "            genre_affinity[genre_name] = df_train[mask]['score'].mean()\n",
    "        else:\n",
    "            genre_affinity[genre_name] = overall_mean\n",
    "    \n",
    "    return genre_affinity"
   ],
   "id": "6e3e9e46badc3341",
   "outputs": [],
   "execution_count": 6
  },
  {
   "metadata": {
    "ExecuteTime": {
     "end_time": "2025-10-01T14:02:38.379580Z",
     "start_time": "2025-10-01T14:02:38.366960Z"
    }
   },
   "cell_type": "code",
   "source": [
    "def calculate_studio_mean(df_train):\n",
    "    studios_columns = [col for col in df_train.columns if col.startswith('Studios_')]\n",
    "    studio_mean = {}\n",
    "    overall_mean = df_train['score'].mean()\n",
    "    for studio_column in studios_columns:\n",
    "        studio_name = studio_column.replace('Studios_', '')\n",
    "        mask = df_train[studio_column] == 1\n",
    "        \n",
    "        if mask.sum() >= 3:\n",
    "            studio_scores = df_train[mask]['score']\n",
    "            mean_score = studio_scores.mean()\n",
    "            studio_mean[studio_name] = mean_score\n",
    "        else:\n",
    "            studio_mean[studio_name] = overall_mean\n",
    "            \n",
    "    return studio_mean"
   ],
   "id": "54d95a0cedfdc24",
   "outputs": [],
   "execution_count": 7
  },
  {
   "metadata": {
    "ExecuteTime": {
     "end_time": "2025-10-01T14:02:39.699899Z",
     "start_time": "2025-10-01T14:02:39.692321Z"
    }
   },
   "cell_type": "code",
   "source": [
    "import numpy as np\n",
    "\n",
    "def map_score_to_class(score):\n",
    "    if score <= 4:\n",
    "        return 0  # Bad\n",
    "    elif score <= 6:\n",
    "        return 1  # Okay\n",
    "    elif score <= 8:\n",
    "        return 2  # Good\n",
    "    else:\n",
    "        return 3  # Perfect"
   ],
   "id": "1e30eeb95e58c888",
   "outputs": [],
   "execution_count": 8
  },
  {
   "metadata": {
    "ExecuteTime": {
     "end_time": "2025-10-01T14:02:43.831870Z",
     "start_time": "2025-10-01T14:02:43.811413Z"
    }
   },
   "cell_type": "code",
   "source": [
    "import configparser\n",
    "\n",
    "config = configparser.ConfigParser()\n",
    "config.read('../config.ini')\n",
    "USER_NAME = config.get('USER','USER_NAME').strip()\n",
    "CLIENT_ID = config.get('USER','CLIENT_ID').strip()"
   ],
   "id": "2b3d7ad773319581",
   "outputs": [],
   "execution_count": 9
  },
  {
   "metadata": {
    "ExecuteTime": {
     "end_time": "2025-10-01T14:02:53.679909Z",
     "start_time": "2025-10-01T14:02:45.888666Z"
    }
   },
   "cell_type": "code",
   "source": "data = get_user_animelist(USER_NAME, CLIENT_ID)",
   "id": "e493f342e7d95fb8",
   "outputs": [
    {
     "name": "stdout",
     "output_type": "stream",
     "text": [
      "Loaded 500 anime...\n",
      "Loaded 1000 anime...\n",
      "Loaded 1500 anime...\n",
      "Loaded 2000 anime...\n",
      "Loaded 2500 anime...\n",
      "Loaded 3000 anime...\n",
      "Loaded 3500 anime...\n",
      "Loaded 4000 anime...\n",
      "Loaded 4500 anime...\n",
      "Loaded 5000 anime...\n",
      "Loaded 5059 anime...\n"
     ]
    }
   ],
   "execution_count": 10
  },
  {
   "metadata": {
    "ExecuteTime": {
     "end_time": "2025-10-01T14:35:40.402001Z",
     "start_time": "2025-10-01T14:35:40.250115Z"
    }
   },
   "cell_type": "code",
   "source": "df = to_dataframe(data)",
   "id": "4e1e4c2201d6987f",
   "outputs": [],
   "execution_count": 39
  },
  {
   "metadata": {
    "ExecuteTime": {
     "end_time": "2025-10-01T14:35:45.368070Z",
     "start_time": "2025-10-01T14:35:45.352218Z"
    }
   },
   "cell_type": "code",
   "source": "df['score_class'] = df['score'].apply(map_score_to_class)",
   "id": "b67adf4b685b09dd",
   "outputs": [],
   "execution_count": 40
  },
  {
   "metadata": {
    "ExecuteTime": {
     "end_time": "2025-10-01T14:35:47.149567Z",
     "start_time": "2025-10-01T14:35:47.133905Z"
    }
   },
   "cell_type": "code",
   "source": [
    "df[\"studios\"].replace(to_replace=\"\", value=\"Unknown\", inplace=True)\n",
    "df[\"genres\"].replace(to_replace=\"\", value=\"Unknown\", inplace=True)\n",
    "df = df.dropna(subset=['score'])"
   ],
   "id": "656c118c51421dfd",
   "outputs": [
    {
     "name": "stderr",
     "output_type": "stream",
     "text": [
      "C:\\Users\\dobre\\AppData\\Local\\Temp\\ipykernel_13212\\87429005.py:1: FutureWarning: A value is trying to be set on a copy of a DataFrame or Series through chained assignment using an inplace method.\n",
      "The behavior will change in pandas 3.0. This inplace method will never work because the intermediate object on which we are setting values always behaves as a copy.\n",
      "\n",
      "For example, when doing 'df[col].method(value, inplace=True)', try using 'df.method({col: value}, inplace=True)' or df[col] = df[col].method(value) instead, to perform the operation inplace on the original object.\n",
      "\n",
      "\n",
      "  df[\"studios\"].replace(to_replace=\"\", value=\"Unknown\", inplace=True)\n",
      "C:\\Users\\dobre\\AppData\\Local\\Temp\\ipykernel_13212\\87429005.py:2: FutureWarning: A value is trying to be set on a copy of a DataFrame or Series through chained assignment using an inplace method.\n",
      "The behavior will change in pandas 3.0. This inplace method will never work because the intermediate object on which we are setting values always behaves as a copy.\n",
      "\n",
      "For example, when doing 'df[col].method(value, inplace=True)', try using 'df.method({col: value}, inplace=True)' or df[col] = df[col].method(value) instead, to perform the operation inplace on the original object.\n",
      "\n",
      "\n",
      "  df[\"genres\"].replace(to_replace=\"\", value=\"Unknown\", inplace=True)\n"
     ]
    }
   ],
   "execution_count": 41
  },
  {
   "metadata": {
    "ExecuteTime": {
     "end_time": "2025-10-01T14:35:49.929016Z",
     "start_time": "2025-10-01T14:35:49.923991Z"
    }
   },
   "cell_type": "code",
   "source": "display(df[\"score\"].value_counts().head(11))",
   "id": "f269c82f26651821",
   "outputs": [
    {
     "data": {
      "text/plain": [
       "score\n",
       "0     1333\n",
       "5      793\n",
       "7      757\n",
       "6      574\n",
       "8      517\n",
       "4      434\n",
       "3      350\n",
       "9      151\n",
       "2      114\n",
       "10      25\n",
       "1       11\n",
       "Name: count, dtype: int64"
      ]
     },
     "metadata": {},
     "output_type": "display_data"
    }
   ],
   "execution_count": 42
  },
  {
   "metadata": {
    "ExecuteTime": {
     "end_time": "2025-10-01T14:36:33.837222Z",
     "start_time": "2025-10-01T14:36:33.823815Z"
    }
   },
   "cell_type": "code",
   "source": "df.drop(columns=['title', 'id'], inplace=True)",
   "id": "cb5cda6ffb3bb23c",
   "outputs": [],
   "execution_count": 43
  },
  {
   "metadata": {
    "ExecuteTime": {
     "end_time": "2025-10-01T14:36:46.387428Z",
     "start_time": "2025-10-01T14:36:46.332210Z"
    }
   },
   "cell_type": "code",
   "source": [
    "df = df[df['score'] > 0].copy()\n",
    "    \n",
    "df['mean'] = df['mean'].fillna(df.groupby('type')['mean'].transform('median'))\n",
    "    \n",
    "categorical_cols = ['type', 'rating', 'status']\n",
    "for col in categorical_cols:\n",
    "    df[col] = df[col].fillna('Unknown')"
   ],
   "id": "6fc3a7bc389d858e",
   "outputs": [],
   "execution_count": 44
  },
  {
   "metadata": {
    "ExecuteTime": {
     "end_time": "2025-10-01T14:36:51.729216Z",
     "start_time": "2025-10-01T14:36:51.713568Z"
    }
   },
   "cell_type": "code",
   "source": [
    "df['year'] = df['year'].fillna(df['year'].mode()[0])\n",
    "df['num_episodes'] = df['num_episodes'].fillna(df['num_episodes'].mode()[0])"
   ],
   "id": "bb92a571b7833b0f",
   "outputs": [],
   "execution_count": 45
  },
  {
   "metadata": {
    "ExecuteTime": {
     "end_time": "2025-10-01T14:36:52.789537Z",
     "start_time": "2025-10-01T14:36:52.773691Z"
    }
   },
   "cell_type": "code",
   "source": "df['popularity'] = df['popularity'].fillna(df['popularity'].median())",
   "id": "822f30ae0069e0dd",
   "outputs": [],
   "execution_count": 46
  },
  {
   "metadata": {
    "ExecuteTime": {
     "end_time": "2025-10-01T14:36:54.888982Z",
     "start_time": "2025-10-01T14:36:54.877321Z"
    }
   },
   "cell_type": "code",
   "source": [
    "df['anime_age'] = 2025 - df['year']\n",
    "df['anime_age'] = df['anime_age'].astype(int)\n",
    "df.drop(columns=['year'], inplace=True)"
   ],
   "id": "48ad632da83ec0f2",
   "outputs": [],
   "execution_count": 47
  },
  {
   "metadata": {
    "ExecuteTime": {
     "end_time": "2025-10-01T14:37:01.424339Z",
     "start_time": "2025-10-01T14:37:01.415851Z"
    }
   },
   "cell_type": "code",
   "source": [
    "df['log_members'] = np.log1p(df['members'])\n",
    "df.drop(columns=['members'], inplace=True)"
   ],
   "id": "96c72ca71b313fb9",
   "outputs": [],
   "execution_count": 48
  },
  {
   "metadata": {
    "ExecuteTime": {
     "end_time": "2025-10-01T14:37:11.571854Z",
     "start_time": "2025-10-01T14:37:11.198377Z"
    }
   },
   "cell_type": "code",
   "source": [
    "# Get dummy variables for each unique genre\n",
    "genre_dummies = (\n",
    "    df['genres']\n",
    "    .str.split(', ', expand=True) \n",
    "    .stack()       \n",
    "    .str.get_dummies()         \n",
    "    .groupby(level=0)         \n",
    "    .sum()                    \n",
    "    .add_prefix('Genre_')  \n",
    ")"
   ],
   "id": "9d52098ed6f3cf6f",
   "outputs": [],
   "execution_count": 49
  },
  {
   "metadata": {
    "ExecuteTime": {
     "end_time": "2025-10-01T14:37:13.451664Z",
     "start_time": "2025-10-01T14:37:13.436426Z"
    }
   },
   "cell_type": "code",
   "source": "df = pd.concat([df, genre_dummies], axis=1)",
   "id": "a87bf71c326a8336",
   "outputs": [],
   "execution_count": 50
  },
  {
   "metadata": {
    "ExecuteTime": {
     "end_time": "2025-10-01T14:37:16.714978Z",
     "start_time": "2025-10-01T14:37:16.699284Z"
    }
   },
   "cell_type": "code",
   "source": [
    "genre_columns = [col for col in df.columns if col.startswith('Genre_')]\n",
    "\n",
    "genre_counts = df[genre_columns].sum().sort_values(ascending=False)\n",
    "print(genre_counts)"
   ],
   "id": "1bb6561a86cbb474",
   "outputs": [
    {
     "name": "stdout",
     "output_type": "stream",
     "text": [
      "Genre_Action         1480\n",
      "Genre_Comedy         1336\n",
      "Genre_Fantasy         996\n",
      "Genre_School          918\n",
      "Genre_Romance         871\n",
      "                     ... \n",
      "Genre_Educational       6\n",
      "Genre_Hentai            2\n",
      "Genre_Boys Love         2\n",
      "Genre_Erotica           2\n",
      "Genre_Unknown           1\n",
      "Length: 79, dtype: int64\n"
     ]
    }
   ],
   "execution_count": 51
  },
  {
   "metadata": {
    "ExecuteTime": {
     "end_time": "2025-10-01T14:37:17.626696Z",
     "start_time": "2025-10-01T14:37:17.605853Z"
    }
   },
   "cell_type": "code",
   "source": [
    "genre_columns = [col for col in df.columns if col.startswith('Genre_')]\n",
    "\n",
    "genre_counts = df[genre_columns].sum().sort_values(ascending=False)\n",
    "total_anime = len(df)\n",
    "\n",
    "min_count = max(5, int(total_anime * 0.01))\n",
    "frequent_genres= genre_counts[genre_counts >= min_count].index.tolist()\n",
    "\n",
    "print(f\"studio_counts: {len(genre_counts)}\")\n",
    "print(f\"Studios with >= {min_count} anime: {len(frequent_genres)}\")\n",
    "\n",
    "rare_genre_columns = [col for col in genre_columns if col not in frequent_genres]\n",
    "df['Genre_Other'] = df[rare_genre_columns].max(axis=1) \n",
    "\n",
    "df.drop(columns=rare_genre_columns, inplace=True)"
   ],
   "id": "3e519fde77276f18",
   "outputs": [
    {
     "name": "stdout",
     "output_type": "stream",
     "text": [
      "studio_counts: 79\n",
      "Studios with >= 37 anime: 58\n"
     ]
    }
   ],
   "execution_count": 52
  },
  {
   "metadata": {
    "ExecuteTime": {
     "end_time": "2025-10-01T14:37:19.404941Z",
     "start_time": "2025-10-01T14:37:19.389240Z"
    }
   },
   "cell_type": "code",
   "source": "df.drop(columns=['genres'], inplace=True)",
   "id": "daddb430b065ba5",
   "outputs": [],
   "execution_count": 53
  },
  {
   "metadata": {
    "ExecuteTime": {
     "end_time": "2025-10-01T14:37:22.039384Z",
     "start_time": "2025-10-01T14:37:22.023458Z"
    }
   },
   "cell_type": "code",
   "source": [
    "type_dummies = pd.get_dummies(df['type'], prefix='Type')\n",
    "df = pd.concat([df, type_dummies], axis=1)\n",
    "df.drop(columns=['type'], inplace=True)"
   ],
   "id": "bd71a70d384c6a63",
   "outputs": [],
   "execution_count": 54
  },
  {
   "metadata": {
    "ExecuteTime": {
     "end_time": "2025-10-01T14:37:24.233944Z",
     "start_time": "2025-10-01T14:37:23.615838Z"
    }
   },
   "cell_type": "code",
   "source": [
    "studio_dummies = (\n",
    "    df['studios']\n",
    "    .str.split(', ', expand=True) \n",
    "    .stack()       \n",
    "    .str.get_dummies()         \n",
    "    .groupby(level=0)         \n",
    "    .sum()                    \n",
    "    .add_prefix('Studios_')  \n",
    ")\n",
    "df = pd.concat([df, studio_dummies], axis=1)"
   ],
   "id": "ac0c9e49f86d4346",
   "outputs": [],
   "execution_count": 55
  },
  {
   "metadata": {
    "ExecuteTime": {
     "end_time": "2025-10-01T14:37:26.986374Z",
     "start_time": "2025-10-01T14:37:26.971613Z"
    }
   },
   "cell_type": "code",
   "source": [
    "studio_columns = [col for col in df.columns if col.startswith('Studios_')]\n",
    "\n",
    "studio_counts = df[studio_columns].sum().sort_values(ascending=False)\n",
    "print(studio_counts)"
   ],
   "id": "ff2e29326d8858a7",
   "outputs": [
    {
     "name": "stdout",
     "output_type": "stream",
     "text": [
      "Studios_J.C.Staff               191\n",
      "Studios_A-1 Pictures            147\n",
      "Studios_Madhouse                136\n",
      "Studios_Production I.G          122\n",
      "Studios_Studio Deen             118\n",
      "                               ... \n",
      "Studios_Karaku                    1\n",
      "Studios_Studio Gram               1\n",
      "Studios_KeyEast                   1\n",
      "Studios_Studio Gazelle            1\n",
      "Studios_Next Media Animation      1\n",
      "Length: 330, dtype: int64\n"
     ]
    }
   ],
   "execution_count": 56
  },
  {
   "metadata": {
    "ExecuteTime": {
     "end_time": "2025-10-01T14:37:28.295263Z",
     "start_time": "2025-10-01T14:37:28.257584Z"
    }
   },
   "cell_type": "code",
   "source": [
    "studio_columns = [col for col in df.columns if col.startswith('Studios_')]\n",
    "\n",
    "studio_counts = df[studio_columns].sum().sort_values(ascending=False)\n",
    "total_anime = len(df)\n",
    "\n",
    "min_count = max(10, int(total_anime * 0.01))\n",
    "frequent_studios = studio_counts[studio_counts >= min_count].index.tolist()\n",
    "\n",
    "print(f\"studio_counts: {len(studio_counts)}\")\n",
    "print(f\"Studios with >= {min_count} anime: {len(frequent_studios)}\")\n",
    "\n",
    "rare_studio_columns = [col for col in studio_columns if col not in frequent_studios]\n",
    "df['Studio_Other'] = df[rare_studio_columns].max(axis=1) \n",
    "\n",
    "df.drop(columns=rare_studio_columns, inplace=True)"
   ],
   "id": "de5c950b1cb5b30b",
   "outputs": [
    {
     "name": "stdout",
     "output_type": "stream",
     "text": [
      "studio_counts: 330\n",
      "Studios with >= 37 anime: 29\n"
     ]
    }
   ],
   "execution_count": 57
  },
  {
   "metadata": {
    "ExecuteTime": {
     "end_time": "2025-10-01T14:37:30.740924Z",
     "start_time": "2025-10-01T14:37:30.724925Z"
    }
   },
   "cell_type": "code",
   "source": "df.drop(columns=['studios'], inplace=True)",
   "id": "c014655891dbcd8a",
   "outputs": [],
   "execution_count": 58
  },
  {
   "metadata": {
    "ExecuteTime": {
     "end_time": "2025-10-01T14:37:33.309077Z",
     "start_time": "2025-10-01T14:37:33.291829Z"
    }
   },
   "cell_type": "code",
   "source": [
    "rating_dummies = pd.get_dummies(df['rating'], prefix='Rating')\n",
    "df = pd.concat([df, rating_dummies], axis=1)\n",
    "df.drop(columns=['rating'], inplace=True)"
   ],
   "id": "126fb5dbd378ec10",
   "outputs": [],
   "execution_count": 59
  },
  {
   "metadata": {
    "ExecuteTime": {
     "end_time": "2025-10-01T14:37:37.620884Z",
     "start_time": "2025-10-01T14:37:37.605179Z"
    }
   },
   "cell_type": "code",
   "source": [
    "status_dummies = pd.get_dummies(df['status'], prefix='Status')\n",
    "df = pd.concat([df, status_dummies], axis=1)\n",
    "df.drop(columns=['status'], inplace=True)"
   ],
   "id": "bbca1d6b46517b34",
   "outputs": [],
   "execution_count": 60
  },
  {
   "metadata": {
    "ExecuteTime": {
     "end_time": "2025-10-01T14:38:33.174311Z",
     "start_time": "2025-10-01T14:38:33.158237Z"
    }
   },
   "cell_type": "code",
   "source": [
    "df.drop(columns=['Status_completed'], inplace=True)\n",
    "df.drop(columns=['Type_tv'], inplace=True)\n",
    "df.drop(columns=['Rating_pg_13'], inplace=True)"
   ],
   "id": "3dbf969c4c19971a",
   "outputs": [],
   "execution_count": 62
  },
  {
   "metadata": {
    "ExecuteTime": {
     "end_time": "2025-10-01T14:38:41.507314Z",
     "start_time": "2025-10-01T14:38:41.499746Z"
    }
   },
   "cell_type": "code",
   "source": [
    "bool_cols = df.select_dtypes('bool').columns\n",
    "\n",
    "df[bool_cols] = df[bool_cols].astype(int)"
   ],
   "id": "912256dec29366ff",
   "outputs": [],
   "execution_count": 63
  },
  {
   "metadata": {
    "ExecuteTime": {
     "end_time": "2025-10-01T14:38:47.667176Z",
     "start_time": "2025-10-01T14:38:47.656748Z"
    }
   },
   "cell_type": "code",
   "source": "# df.drop(columns=['Genre_Unknown'], inplace=True)",
   "id": "ddcccea889c0e4c",
   "outputs": [],
   "execution_count": 64
  },
  {
   "metadata": {
    "ExecuteTime": {
     "end_time": "2025-10-01T14:39:04.113912Z",
     "start_time": "2025-10-01T14:39:04.026456Z"
    }
   },
   "cell_type": "code",
   "source": [
    "corr_with_score = df.corr()['score']\n",
    "high_corr_cols = corr_with_score[np.abs(corr_with_score) > 0.65].index\n",
    "high_corr_cols = high_corr_cols.drop(['score','score_class'])\n",
    "print(high_corr_cols)"
   ],
   "id": "e334eebf17fd9a70",
   "outputs": [
    {
     "name": "stdout",
     "output_type": "stream",
     "text": [
      "Index(['mean'], dtype='object')\n"
     ]
    }
   ],
   "execution_count": 66
  },
  {
   "metadata": {
    "ExecuteTime": {
     "end_time": "2025-10-01T14:39:10.760574Z",
     "start_time": "2025-10-01T14:39:10.741207Z"
    }
   },
   "cell_type": "code",
   "source": "df.drop(columns=high_corr_cols, inplace=True)",
   "id": "e4735cd8df6e9a53",
   "outputs": [],
   "execution_count": 67
  },
  {
   "metadata": {
    "ExecuteTime": {
     "end_time": "2025-10-01T14:39:11.343056Z",
     "start_time": "2025-10-01T14:39:11.326225Z"
    }
   },
   "cell_type": "code",
   "source": "df['num_episodes'] = np.log1p(df['num_episodes'])",
   "id": "1968790fd8a3d54f",
   "outputs": [],
   "execution_count": 68
  },
  {
   "metadata": {
    "ExecuteTime": {
     "end_time": "2025-10-01T14:39:19.077101Z",
     "start_time": "2025-10-01T14:39:19.061301Z"
    }
   },
   "cell_type": "code",
   "source": [
    "df.drop(columns=['popularity'], inplace=True)\n",
    "# df.drop(columns=['log_members'], inplace=True)"
   ],
   "id": "88b876a20413b99f",
   "outputs": [],
   "execution_count": 69
  },
  {
   "metadata": {
    "ExecuteTime": {
     "end_time": "2025-10-01T14:39:26.467053Z",
     "start_time": "2025-10-01T14:39:26.451398Z"
    }
   },
   "cell_type": "code",
   "source": [
    "X = df.drop(columns=['score', 'score_class'])\n",
    "y = df['score_class']"
   ],
   "id": "27bd2952506f29c",
   "outputs": [],
   "execution_count": 70
  },
  {
   "metadata": {
    "ExecuteTime": {
     "end_time": "2025-10-01T14:39:27.849023Z",
     "start_time": "2025-10-01T14:39:27.834938Z"
    }
   },
   "cell_type": "code",
   "source": "X_train, X_test, y_train, y_test = train_test_split(X, y, test_size=0.2, random_state=42,stratify=y)",
   "id": "9dc3c5852237c268",
   "outputs": [],
   "execution_count": 71
  },
  {
   "metadata": {
    "ExecuteTime": {
     "end_time": "2025-10-01T14:39:35.592503Z",
     "start_time": "2025-10-01T14:39:35.532475Z"
    }
   },
   "cell_type": "code",
   "source": [
    "genre_affinity = calculate_genre_affinity_simple(X_train.join(df['score']))\n",
    "\n",
    "affinity_features_train = pd.DataFrame({\n",
    "    f\"affinity_{genre}\": X_train[f\"Genre_{genre}\"] * affinity\n",
    "    for genre, affinity in genre_affinity.items()\n",
    "}, index=X_train.index)\n",
    "\n",
    "affinity_features_test = pd.DataFrame({\n",
    "    f\"affinity_{genre}\": X_test[f\"Genre_{genre}\"] * affinity\n",
    "    for genre, affinity in genre_affinity.items()\n",
    "}, index=X_test.index)\n",
    "\n",
    "X_train = pd.concat([X_train, affinity_features_train], axis=1)\n",
    "X_test = pd.concat([X_test, affinity_features_test], axis=1)"
   ],
   "id": "389db8069494dd07",
   "outputs": [],
   "execution_count": 72
  },
  {
   "metadata": {
    "ExecuteTime": {
     "end_time": "2025-10-01T14:39:37.382958Z",
     "start_time": "2025-10-01T14:39:37.366884Z"
    }
   },
   "cell_type": "code",
   "source": [
    "X_train = X_train.drop(columns=[col for col in X_train.columns if col.startswith(\"Genre_\")])\n",
    "X_test = X_test.drop(columns=[col for col in X_test.columns if col.startswith(\"Genre_\")])"
   ],
   "id": "53c1fc6750ab121b",
   "outputs": [],
   "execution_count": 73
  },
  {
   "metadata": {
    "ExecuteTime": {
     "end_time": "2025-10-01T12:16:55.829765Z",
     "start_time": "2025-10-01T12:16:55.807589Z"
    }
   },
   "cell_type": "code",
   "source": [
    "# studios_affinity = calculate_studio_mean(X_train.join(df['score']))\n",
    "# \n",
    "# affinity_features_train = pd.DataFrame({\n",
    "#     f\"affinity_{studio}\": X_train[f\"Studios_{studio}\"] * affinity\n",
    "#     for studio, affinity in studios_affinity.items()\n",
    "# }, index=X_train.index)\n",
    "# \n",
    "# affinity_features_test = pd.DataFrame({\n",
    "#     f\"affinity_{studio}\": X_test[f\"Studios_{studio}\"] * affinity\n",
    "#     for studio, affinity in studios_affinity.items()\n",
    "# }, index=X_test.index)\n",
    "# \n",
    "# X_train = pd.concat([X_train, affinity_features_train], axis=1)\n",
    "# X_test = pd.concat([X_test, affinity_features_test], axis=1)"
   ],
   "id": "18dbf99544f28739",
   "outputs": [],
   "execution_count": 311
  },
  {
   "metadata": {
    "ExecuteTime": {
     "end_time": "2025-10-01T12:16:56.197350Z",
     "start_time": "2025-10-01T12:16:56.188895Z"
    }
   },
   "cell_type": "code",
   "source": [
    "# X_train = X_train.drop(columns=[col for col in X_train.columns if col.startswith(\"Studios_\")])\n",
    "# X_test = X_test.drop(columns=[col for col in X_test.columns if col.startswith(\"Studios_\")])"
   ],
   "id": "da1b15d5f6ce31a",
   "outputs": [],
   "execution_count": 312
  },
  {
   "metadata": {
    "ExecuteTime": {
     "end_time": "2025-10-01T14:39:50.140372Z",
     "start_time": "2025-10-01T14:39:50.111239Z"
    }
   },
   "cell_type": "code",
   "source": "X_train.sample(10)",
   "id": "b158752ee61dce4f",
   "outputs": [
    {
     "data": {
      "text/plain": [
       "      num_episodes  anime_age  log_members  Type_cm  Type_movie  Type_music  \\\n",
       "2243      2.564949          2    11.560715        0           0           0   \n",
       "953       0.693147          9     9.862040        0           0           0   \n",
       "3239      2.564949         15    12.430955        0           0           0   \n",
       "4085      0.693147          4    10.484222        0           0           0   \n",
       "359       3.218876         21    11.223241        0           0           0   \n",
       "4366      2.564949          9     9.807912        0           0           0   \n",
       "3259      0.693147          7     9.491753        0           0           0   \n",
       "4481      1.098612          9    11.546853        0           0           0   \n",
       "4576      2.197225          1     9.555206        0           0           0   \n",
       "2869      1.609438         21     8.288786        0           0           0   \n",
       "\n",
       "      Type_ona  Type_ova  Type_pv  Type_special  ...  affinity_Supernatural  \\\n",
       "2243         0         0        0             0  ...               0.000000   \n",
       "953          0         0        0             1  ...               0.000000   \n",
       "3239         0         0        0             0  ...               6.121951   \n",
       "4085         0         0        0             0  ...               0.000000   \n",
       "359          0         0        0             0  ...               0.000000   \n",
       "4366         0         0        0             0  ...               0.000000   \n",
       "3259         0         0        0             0  ...               0.000000   \n",
       "4481         0         0        0             1  ...               0.000000   \n",
       "4576         0         0        0             0  ...               0.000000   \n",
       "2869         0         1        0             0  ...               0.000000   \n",
       "\n",
       "      affinity_Survival  affinity_Suspense  affinity_Team Sports  \\\n",
       "2243                0.0                0.0                   0.0   \n",
       "953                 0.0                0.0                   0.0   \n",
       "3239                0.0                0.0                   0.0   \n",
       "4085                0.0                0.0                   0.0   \n",
       "359                 0.0                0.0                   0.0   \n",
       "4366                0.0                0.0                   0.0   \n",
       "3259                0.0                0.0                   0.0   \n",
       "4481                0.0                0.0                   0.0   \n",
       "4576                0.0                0.0                   0.0   \n",
       "2869                0.0                0.0                   0.0   \n",
       "\n",
       "      affinity_Time Travel  affinity_Urban Fantasy  affinity_Vampire  \\\n",
       "2243                   0.0                     0.0               0.0   \n",
       "953                    0.0                     0.0               0.0   \n",
       "3239                   0.0                     0.0               0.0   \n",
       "4085                   0.0                     0.0               0.0   \n",
       "359                    0.0                     0.0               0.0   \n",
       "4366                   0.0                     0.0               0.0   \n",
       "3259                   0.0                     0.0               0.0   \n",
       "4481                   0.0                     0.0               0.0   \n",
       "4576                   0.0                     0.0               0.0   \n",
       "2869                   0.0                     0.0               0.0   \n",
       "\n",
       "      affinity_Video Game  affinity_Workplace  affinity_Other  \n",
       "2243                  0.0                 0.0        0.000000  \n",
       "953                   0.0                 0.0        0.000000  \n",
       "3239                  0.0                 0.0        0.000000  \n",
       "4085                  0.0                 0.0        6.275735  \n",
       "359                   0.0                 0.0        0.000000  \n",
       "4366                  0.0                 0.0        0.000000  \n",
       "3259                  0.0                 0.0        0.000000  \n",
       "4481                  0.0                 0.0        0.000000  \n",
       "4576                  0.0                 0.0        0.000000  \n",
       "2869                  0.0                 0.0        0.000000  \n",
       "\n",
       "[10 rows x 108 columns]"
      ],
      "text/html": [
       "<div>\n",
       "<style scoped>\n",
       "    .dataframe tbody tr th:only-of-type {\n",
       "        vertical-align: middle;\n",
       "    }\n",
       "\n",
       "    .dataframe tbody tr th {\n",
       "        vertical-align: top;\n",
       "    }\n",
       "\n",
       "    .dataframe thead th {\n",
       "        text-align: right;\n",
       "    }\n",
       "</style>\n",
       "<table border=\"1\" class=\"dataframe\">\n",
       "  <thead>\n",
       "    <tr style=\"text-align: right;\">\n",
       "      <th></th>\n",
       "      <th>num_episodes</th>\n",
       "      <th>anime_age</th>\n",
       "      <th>log_members</th>\n",
       "      <th>Type_cm</th>\n",
       "      <th>Type_movie</th>\n",
       "      <th>Type_music</th>\n",
       "      <th>Type_ona</th>\n",
       "      <th>Type_ova</th>\n",
       "      <th>Type_pv</th>\n",
       "      <th>Type_special</th>\n",
       "      <th>...</th>\n",
       "      <th>affinity_Supernatural</th>\n",
       "      <th>affinity_Survival</th>\n",
       "      <th>affinity_Suspense</th>\n",
       "      <th>affinity_Team Sports</th>\n",
       "      <th>affinity_Time Travel</th>\n",
       "      <th>affinity_Urban Fantasy</th>\n",
       "      <th>affinity_Vampire</th>\n",
       "      <th>affinity_Video Game</th>\n",
       "      <th>affinity_Workplace</th>\n",
       "      <th>affinity_Other</th>\n",
       "    </tr>\n",
       "  </thead>\n",
       "  <tbody>\n",
       "    <tr>\n",
       "      <th>2243</th>\n",
       "      <td>2.564949</td>\n",
       "      <td>2</td>\n",
       "      <td>11.560715</td>\n",
       "      <td>0</td>\n",
       "      <td>0</td>\n",
       "      <td>0</td>\n",
       "      <td>0</td>\n",
       "      <td>0</td>\n",
       "      <td>0</td>\n",
       "      <td>0</td>\n",
       "      <td>...</td>\n",
       "      <td>0.000000</td>\n",
       "      <td>0.0</td>\n",
       "      <td>0.0</td>\n",
       "      <td>0.0</td>\n",
       "      <td>0.0</td>\n",
       "      <td>0.0</td>\n",
       "      <td>0.0</td>\n",
       "      <td>0.0</td>\n",
       "      <td>0.0</td>\n",
       "      <td>0.000000</td>\n",
       "    </tr>\n",
       "    <tr>\n",
       "      <th>953</th>\n",
       "      <td>0.693147</td>\n",
       "      <td>9</td>\n",
       "      <td>9.862040</td>\n",
       "      <td>0</td>\n",
       "      <td>0</td>\n",
       "      <td>0</td>\n",
       "      <td>0</td>\n",
       "      <td>0</td>\n",
       "      <td>0</td>\n",
       "      <td>1</td>\n",
       "      <td>...</td>\n",
       "      <td>0.000000</td>\n",
       "      <td>0.0</td>\n",
       "      <td>0.0</td>\n",
       "      <td>0.0</td>\n",
       "      <td>0.0</td>\n",
       "      <td>0.0</td>\n",
       "      <td>0.0</td>\n",
       "      <td>0.0</td>\n",
       "      <td>0.0</td>\n",
       "      <td>0.000000</td>\n",
       "    </tr>\n",
       "    <tr>\n",
       "      <th>3239</th>\n",
       "      <td>2.564949</td>\n",
       "      <td>15</td>\n",
       "      <td>12.430955</td>\n",
       "      <td>0</td>\n",
       "      <td>0</td>\n",
       "      <td>0</td>\n",
       "      <td>0</td>\n",
       "      <td>0</td>\n",
       "      <td>0</td>\n",
       "      <td>0</td>\n",
       "      <td>...</td>\n",
       "      <td>6.121951</td>\n",
       "      <td>0.0</td>\n",
       "      <td>0.0</td>\n",
       "      <td>0.0</td>\n",
       "      <td>0.0</td>\n",
       "      <td>0.0</td>\n",
       "      <td>0.0</td>\n",
       "      <td>0.0</td>\n",
       "      <td>0.0</td>\n",
       "      <td>0.000000</td>\n",
       "    </tr>\n",
       "    <tr>\n",
       "      <th>4085</th>\n",
       "      <td>0.693147</td>\n",
       "      <td>4</td>\n",
       "      <td>10.484222</td>\n",
       "      <td>0</td>\n",
       "      <td>0</td>\n",
       "      <td>0</td>\n",
       "      <td>0</td>\n",
       "      <td>0</td>\n",
       "      <td>0</td>\n",
       "      <td>0</td>\n",
       "      <td>...</td>\n",
       "      <td>0.000000</td>\n",
       "      <td>0.0</td>\n",
       "      <td>0.0</td>\n",
       "      <td>0.0</td>\n",
       "      <td>0.0</td>\n",
       "      <td>0.0</td>\n",
       "      <td>0.0</td>\n",
       "      <td>0.0</td>\n",
       "      <td>0.0</td>\n",
       "      <td>6.275735</td>\n",
       "    </tr>\n",
       "    <tr>\n",
       "      <th>359</th>\n",
       "      <td>3.218876</td>\n",
       "      <td>21</td>\n",
       "      <td>11.223241</td>\n",
       "      <td>0</td>\n",
       "      <td>0</td>\n",
       "      <td>0</td>\n",
       "      <td>0</td>\n",
       "      <td>0</td>\n",
       "      <td>0</td>\n",
       "      <td>0</td>\n",
       "      <td>...</td>\n",
       "      <td>0.000000</td>\n",
       "      <td>0.0</td>\n",
       "      <td>0.0</td>\n",
       "      <td>0.0</td>\n",
       "      <td>0.0</td>\n",
       "      <td>0.0</td>\n",
       "      <td>0.0</td>\n",
       "      <td>0.0</td>\n",
       "      <td>0.0</td>\n",
       "      <td>0.000000</td>\n",
       "    </tr>\n",
       "    <tr>\n",
       "      <th>4366</th>\n",
       "      <td>2.564949</td>\n",
       "      <td>9</td>\n",
       "      <td>9.807912</td>\n",
       "      <td>0</td>\n",
       "      <td>0</td>\n",
       "      <td>0</td>\n",
       "      <td>0</td>\n",
       "      <td>0</td>\n",
       "      <td>0</td>\n",
       "      <td>0</td>\n",
       "      <td>...</td>\n",
       "      <td>0.000000</td>\n",
       "      <td>0.0</td>\n",
       "      <td>0.0</td>\n",
       "      <td>0.0</td>\n",
       "      <td>0.0</td>\n",
       "      <td>0.0</td>\n",
       "      <td>0.0</td>\n",
       "      <td>0.0</td>\n",
       "      <td>0.0</td>\n",
       "      <td>0.000000</td>\n",
       "    </tr>\n",
       "    <tr>\n",
       "      <th>3259</th>\n",
       "      <td>0.693147</td>\n",
       "      <td>7</td>\n",
       "      <td>9.491753</td>\n",
       "      <td>0</td>\n",
       "      <td>0</td>\n",
       "      <td>0</td>\n",
       "      <td>0</td>\n",
       "      <td>0</td>\n",
       "      <td>0</td>\n",
       "      <td>0</td>\n",
       "      <td>...</td>\n",
       "      <td>0.000000</td>\n",
       "      <td>0.0</td>\n",
       "      <td>0.0</td>\n",
       "      <td>0.0</td>\n",
       "      <td>0.0</td>\n",
       "      <td>0.0</td>\n",
       "      <td>0.0</td>\n",
       "      <td>0.0</td>\n",
       "      <td>0.0</td>\n",
       "      <td>0.000000</td>\n",
       "    </tr>\n",
       "    <tr>\n",
       "      <th>4481</th>\n",
       "      <td>1.098612</td>\n",
       "      <td>9</td>\n",
       "      <td>11.546853</td>\n",
       "      <td>0</td>\n",
       "      <td>0</td>\n",
       "      <td>0</td>\n",
       "      <td>0</td>\n",
       "      <td>0</td>\n",
       "      <td>0</td>\n",
       "      <td>1</td>\n",
       "      <td>...</td>\n",
       "      <td>0.000000</td>\n",
       "      <td>0.0</td>\n",
       "      <td>0.0</td>\n",
       "      <td>0.0</td>\n",
       "      <td>0.0</td>\n",
       "      <td>0.0</td>\n",
       "      <td>0.0</td>\n",
       "      <td>0.0</td>\n",
       "      <td>0.0</td>\n",
       "      <td>0.000000</td>\n",
       "    </tr>\n",
       "    <tr>\n",
       "      <th>4576</th>\n",
       "      <td>2.197225</td>\n",
       "      <td>1</td>\n",
       "      <td>9.555206</td>\n",
       "      <td>0</td>\n",
       "      <td>0</td>\n",
       "      <td>0</td>\n",
       "      <td>0</td>\n",
       "      <td>0</td>\n",
       "      <td>0</td>\n",
       "      <td>0</td>\n",
       "      <td>...</td>\n",
       "      <td>0.000000</td>\n",
       "      <td>0.0</td>\n",
       "      <td>0.0</td>\n",
       "      <td>0.0</td>\n",
       "      <td>0.0</td>\n",
       "      <td>0.0</td>\n",
       "      <td>0.0</td>\n",
       "      <td>0.0</td>\n",
       "      <td>0.0</td>\n",
       "      <td>0.000000</td>\n",
       "    </tr>\n",
       "    <tr>\n",
       "      <th>2869</th>\n",
       "      <td>1.609438</td>\n",
       "      <td>21</td>\n",
       "      <td>8.288786</td>\n",
       "      <td>0</td>\n",
       "      <td>0</td>\n",
       "      <td>0</td>\n",
       "      <td>0</td>\n",
       "      <td>1</td>\n",
       "      <td>0</td>\n",
       "      <td>0</td>\n",
       "      <td>...</td>\n",
       "      <td>0.000000</td>\n",
       "      <td>0.0</td>\n",
       "      <td>0.0</td>\n",
       "      <td>0.0</td>\n",
       "      <td>0.0</td>\n",
       "      <td>0.0</td>\n",
       "      <td>0.0</td>\n",
       "      <td>0.0</td>\n",
       "      <td>0.0</td>\n",
       "      <td>0.000000</td>\n",
       "    </tr>\n",
       "  </tbody>\n",
       "</table>\n",
       "<p>10 rows × 108 columns</p>\n",
       "</div>"
      ]
     },
     "execution_count": 74,
     "metadata": {},
     "output_type": "execute_result"
    }
   ],
   "execution_count": 74
  },
  {
   "metadata": {
    "ExecuteTime": {
     "end_time": "2025-10-01T12:16:58.761560Z",
     "start_time": "2025-10-01T12:16:58.745663Z"
    }
   },
   "cell_type": "code",
   "source": [
    "# scaler = StandardScaler()\n",
    "# X_train = scaler.fit_transform(X_train)\n",
    "# X_test = scaler.transform(X_test)"
   ],
   "id": "8f70a6ce40a10b09",
   "outputs": [],
   "execution_count": 313
  },
  {
   "metadata": {
    "ExecuteTime": {
     "end_time": "2025-10-01T14:40:12.797888Z",
     "start_time": "2025-10-01T14:40:12.782129Z"
    }
   },
   "cell_type": "code",
   "source": [
    "from sklearn.utils.class_weight import compute_class_weight\n",
    "\n",
    "class_weights = compute_class_weight(\n",
    "    'balanced',\n",
    "    classes=np.unique(y_train),\n",
    "    y=y_train\n",
    ")\n",
    "class_weight_dict = dict(enumerate(class_weights))"
   ],
   "id": "b70d9b860f738f78",
   "outputs": [],
   "execution_count": 75
  },
  {
   "metadata": {
    "ExecuteTime": {
     "end_time": "2025-10-01T14:40:13.691366Z",
     "start_time": "2025-10-01T14:40:13.681066Z"
    }
   },
   "cell_type": "code",
   "source": "print(class_weight_dict)",
   "id": "255b11412873fe9f",
   "outputs": [
    {
     "name": "stdout",
     "output_type": "stream",
     "text": [
      "{0: 1.0247592847317744, 1: 0.6816102470265325, 2: 0.7311089303238469, 3: 5.283687943262412}\n"
     ]
    }
   ],
   "execution_count": 76
  },
  {
   "metadata": {
    "ExecuteTime": {
     "end_time": "2025-10-01T14:40:19.641105Z",
     "start_time": "2025-10-01T14:40:19.627403Z"
    }
   },
   "cell_type": "code",
   "source": "model = CatBoostClassifier(early_stopping_rounds=50,random_state=42, verbose=0)",
   "id": "5f0894163ec5c515",
   "outputs": [],
   "execution_count": 77
  },
  {
   "metadata": {
    "ExecuteTime": {
     "end_time": "2025-10-01T14:40:22.855509Z",
     "start_time": "2025-10-01T14:40:22.831035Z"
    }
   },
   "cell_type": "code",
   "source": [
    "params = {\n",
    "    'iterations': [200, 300, 400],\n",
    "    'depth': [3, 4, 6],\n",
    "    'learning_rate': [0.01, 0.03, 0.05],\n",
    "    'l2_leaf_reg': [3, 5, 7],\n",
    "    'random_strength': [1.0, 1.5]\n",
    "}\n",
    "\n",
    "cv = StratifiedKFold(n_splits=5, shuffle=True, random_state=24)\n",
    "grid = GridSearchCV(\n",
    "    estimator=model,\n",
    "    param_grid=params,\n",
    "    scoring='f1_macro',\n",
    "    cv=cv,\n",
    "    refit=True,\n",
    "    n_jobs=-1,\n",
    "    verbose=2,\n",
    "    return_train_score=True  \n",
    ")"
   ],
   "id": "d2a75515c8b19690",
   "outputs": [],
   "execution_count": 78
  }
 ],
 "metadata": {
  "kernelspec": {
   "display_name": "Python 3",
   "language": "python",
   "name": "python3"
  },
  "language_info": {
   "codemirror_mode": {
    "name": "ipython",
    "version": 2
   },
   "file_extension": ".py",
   "mimetype": "text/x-python",
   "name": "python",
   "nbconvert_exporter": "python",
   "pygments_lexer": "ipython2",
   "version": "2.7.6"
  }
 },
 "nbformat": 4,
 "nbformat_minor": 5
}
