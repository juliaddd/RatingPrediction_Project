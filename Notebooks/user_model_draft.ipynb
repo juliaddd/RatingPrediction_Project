{
 "cells": [
  {
   "metadata": {
    "ExecuteTime": {
     "end_time": "2025-09-30T15:12:02.380216Z",
     "start_time": "2025-09-30T15:12:02.355900Z"
    }
   },
   "cell_type": "code",
   "source": [
    "import pandas as pd\n",
    "import requests\n",
    "import numpy as np\n",
    "from sklearn.model_selection import train_test_split\n",
    "import matplotlib.pyplot as plt\n",
    "from sklearn.model_selection import cross_val_score, KFold, RepeatedKFold\n",
    "import time \n",
    "from sklearn.preprocessing import StandardScaler\n",
    "from sklearn.ensemble import RandomForestRegressor\n",
    "from sklearn.metrics import mean_squared_error, r2_score, mean_absolute_error\n",
    "from sklearn.utils.class_weight import compute_sample_weight\n",
    "import seaborn as sb"
   ],
   "id": "7a020d8717b4e494",
   "outputs": [],
   "execution_count": 81
  },
  {
   "metadata": {
    "ExecuteTime": {
     "end_time": "2025-09-30T15:12:03.245840Z",
     "start_time": "2025-09-30T15:12:03.217304Z"
    }
   },
   "cell_type": "code",
   "source": [
    "def get_user_animelist(username: str, client_id: str):\n",
    "    # Loads list of anime from MAL for a given user\n",
    "    url = f'https://api.myanimelist.net/v2/users/{username}/animelist?limit=500'\n",
    "    headers = {\n",
    "        'X-MAL-CLIENT-ID': client_id\n",
    "    }\n",
    "    params = {\n",
    "        'fields': 'id, title, list_status{score,status}, start_season{year}, mean, genres, popularity, media_type, rating, num_episodes, studios, num_list_users,favorites'\n",
    "    }\n",
    "\n",
    "    all_data = []\n",
    "    next_page = url\n",
    "\n",
    "    while next_page:\n",
    "        response = requests.get(next_page, headers=headers, params=params if next_page == url else None)\n",
    "        if response.status_code != 200:\n",
    "            raise ValueError(f\"Error with API request: {response.status_code} - {response.text}\")\n",
    "\n",
    "        data = response.json()\n",
    "        all_data.extend(data['data'])\n",
    "        next_page = data.get(\"paging\", {}).get(\"next\")\n",
    "\n",
    "        print(f\"Loaded {len(all_data)} anime...\")\n",
    "\n",
    "    return all_data"
   ],
   "id": "d7052a10b430a951",
   "outputs": [],
   "execution_count": 82
  },
  {
   "metadata": {
    "ExecuteTime": {
     "end_time": "2025-09-30T15:12:04.071236Z",
     "start_time": "2025-09-30T15:12:04.055310Z"
    }
   },
   "cell_type": "code",
   "source": [
    "def to_dataframe(all_data):\n",
    "    rows = []\n",
    "    for item in all_data:\n",
    "        anime = item['node']\n",
    "        score = item.get('list_status', {}).get('score')\n",
    "        status = item.get('list_status', {}).get('status')\n",
    "        # num_episodes_watched = item.get('list_status', {}).get('num_episodes_watched')\n",
    "        year = item.get('node', {}).get('start_season', {}).get('year')\n",
    "        rows.append({\n",
    "            \"id\": anime['id'],\n",
    "            \"title\": anime['title'],\n",
    "            \"mean\": anime.get('mean'),\n",
    "            \"genres\": [g['name'] for g in anime.get('genres', [])],\n",
    "            \"studios\": [s['name'] for s in anime.get('studios', [])],\n",
    "            \"rating\": anime.get('rating'),\n",
    "            \"year\": year,\n",
    "            \"type\": anime.get('media_type'),\n",
    "            \"popularity\": anime.get('popularity'),\n",
    "            \"score\": score,\n",
    "            \"status\": status,\n",
    "            \"members\": anime['num_list_users'],\n",
    "            \"num_episodes\": anime['num_episodes'],\n",
    "        })\n",
    "    \n",
    "    df = pd.DataFrame(rows)\n",
    "    df['studios'] = df['studios'].str.join(\", \")\n",
    "    df['genres'] = df['genres'].str.join(\", \")\n",
    "\n",
    "    return df"
   ],
   "id": "a2e71aabff7eb53a",
   "outputs": [],
   "execution_count": 83
  },
  {
   "metadata": {
    "ExecuteTime": {
     "end_time": "2025-09-30T15:12:05.214558Z",
     "start_time": "2025-09-30T15:12:05.183310Z"
    }
   },
   "cell_type": "code",
   "source": [
    "def comprehensive_evaluation(y_true, y_pred):\n",
    "    \"\"\"complex evaluation\"\"\"\n",
    "    \n",
    "    mae = mean_absolute_error(y_true, y_pred)\n",
    "    mse = mean_squared_error(y_true, y_pred)\n",
    "    rmse = np.sqrt(mse)\n",
    "    r2 = r2_score(y_true, y_pred)\n",
    "    \n",
    "    accuracy_05 = np.mean(np.abs(y_true - y_pred) <= 0.5)\n",
    "    accuracy_1 = np.mean(np.abs(y_true - y_pred) <= 1.0)\n",
    "    accuracy_15 = np.mean(np.abs(y_true - y_pred) <= 1.5)\n",
    "    \n",
    "    score_metrics = {}\n",
    "    for score in range(1, 11):\n",
    "        mask = (y_true == score)\n",
    "        if mask.sum() > 0:\n",
    "            score_mae = mean_absolute_error(y_true[mask], y_pred[mask])\n",
    "            score_metrics[f'MAE_score_{score}'] = score_mae\n",
    "    \n",
    "    correlation = np.corrcoef(y_true, y_pred)[0, 1]\n",
    "    \n",
    "    return {\n",
    "        'MAE': mae,\n",
    "        'MSE': mse, \n",
    "        'RMSE': rmse,\n",
    "        'R2': r2,\n",
    "        'Correlation': correlation,\n",
    "        'Accuracy_±0.5': accuracy_05,\n",
    "        'Accuracy_±1.0': accuracy_1,\n",
    "        'Accuracy_±1.5': accuracy_15,\n",
    "        **score_metrics\n",
    "    }\n"
   ],
   "id": "3b05124ae04492fb",
   "outputs": [],
   "execution_count": 84
  },
  {
   "metadata": {
    "ExecuteTime": {
     "end_time": "2025-09-30T15:12:09.685650Z",
     "start_time": "2025-09-30T15:12:09.658294Z"
    }
   },
   "cell_type": "code",
   "source": [
    "def calculate_genre_affinity(df_train):\n",
    "    \"\"\"\n",
    "    Considers\n",
    "    - mean score\n",
    "    - amount of watched (confidence)\n",
    "    - Standard deviation (stability)\n",
    "    \"\"\"\n",
    "    genre_cols = [col for col in df_train.columns if col.startswith('Genre_')]\n",
    "    genre_affinity = {}\n",
    "    \n",
    "    overall_mean = df_train['score'].mean()\n",
    "    \n",
    "    for genre_col in genre_cols:\n",
    "        genre_name = genre_col.replace('Genre_', '')\n",
    "        mask = df_train[genre_col] == 1\n",
    "        \n",
    "        if mask.sum() >= 3:\n",
    "            genre_scores = df_train[mask]['score']\n",
    "            \n",
    "            mean_score = genre_scores.mean()\n",
    "            count = len(genre_scores)\n",
    "            std = genre_scores.std()\n",
    "            \n",
    "            confidence = min(count / 10, 1.0)\n",
    "            \n",
    "            stability = 1 / (std + 1) if std > 0 else 1.0\n",
    "            \n",
    "            affinity = mean_score * confidence * stability\n",
    "            genre_affinity[genre_name] = affinity\n",
    "        else:\n",
    "            genre_affinity[genre_name] = overall_mean * 0.5\n",
    "    \n",
    "    return genre_affinity"
   ],
   "id": "6e3e9e46badc3341",
   "outputs": [],
   "execution_count": 85
  },
  {
   "metadata": {
    "ExecuteTime": {
     "end_time": "2025-09-30T15:12:12.003432Z",
     "start_time": "2025-09-30T15:12:11.987773Z"
    }
   },
   "cell_type": "code",
   "source": [
    "import configparser\n",
    "\n",
    "config = configparser.ConfigParser()\n",
    "config.read('../config.ini')\n",
    "USER_NAME = config.get('USER','USER_NAME').strip()\n",
    "CLIENT_ID = config.get('USER','CLIENT_ID').strip()"
   ],
   "id": "2b3d7ad773319581",
   "outputs": [],
   "execution_count": 86
  },
  {
   "metadata": {
    "ExecuteTime": {
     "end_time": "2025-09-30T15:12:22.482467Z",
     "start_time": "2025-09-30T15:12:12.683966Z"
    }
   },
   "cell_type": "code",
   "source": "data = get_user_animelist(USER_NAME, CLIENT_ID)",
   "id": "e493f342e7d95fb8",
   "outputs": [
    {
     "name": "stdout",
     "output_type": "stream",
     "text": [
      "Loaded 500 anime...\n",
      "Loaded 1000 anime...\n",
      "Loaded 1500 anime...\n",
      "Loaded 2000 anime...\n",
      "Loaded 2500 anime...\n",
      "Loaded 3000 anime...\n",
      "Loaded 3500 anime...\n",
      "Loaded 4000 anime...\n",
      "Loaded 4500 anime...\n",
      "Loaded 5000 anime...\n",
      "Loaded 5054 anime...\n"
     ]
    }
   ],
   "execution_count": 87
  },
  {
   "metadata": {
    "ExecuteTime": {
     "end_time": "2025-09-30T15:12:31.823550Z",
     "start_time": "2025-09-30T15:12:31.755592Z"
    }
   },
   "cell_type": "code",
   "source": "df = to_dataframe(data)",
   "id": "4e1e4c2201d6987f",
   "outputs": [],
   "execution_count": 88
  },
  {
   "metadata": {},
   "cell_type": "code",
   "source": "df.tail(10)",
   "id": "c4783076b6adc94e",
   "outputs": [],
   "execution_count": null
  },
  {
   "metadata": {},
   "cell_type": "code",
   "source": [
    "df[\"studios\"].replace(to_replace=\"\", value=\"Unknown\", inplace=True)\n",
    "df[\"genres\"].replace(to_replace=\"\", value=\"Unknown\", inplace=True)\n",
    "df = df.dropna(subset=['score'])"
   ],
   "id": "656c118c51421dfd",
   "outputs": [],
   "execution_count": null
  },
  {
   "metadata": {
    "ExecuteTime": {
     "end_time": "2025-09-30T15:12:41.997138Z",
     "start_time": "2025-09-30T15:12:41.983601Z"
    }
   },
   "cell_type": "code",
   "source": "display(df[\"score\"].value_counts().head(11))",
   "id": "f269c82f26651821",
   "outputs": [
    {
     "data": {
      "text/plain": [
       "score\n",
       "0     1328\n",
       "5      793\n",
       "7      757\n",
       "6      574\n",
       "8      517\n",
       "4      434\n",
       "3      350\n",
       "9      151\n",
       "2      114\n",
       "10      25\n",
       "1       11\n",
       "Name: count, dtype: int64"
      ]
     },
     "metadata": {},
     "output_type": "display_data"
    }
   ],
   "execution_count": 90
  },
  {
   "metadata": {
    "ExecuteTime": {
     "end_time": "2025-09-30T15:12:42.970822Z",
     "start_time": "2025-09-30T15:12:42.924859Z"
    }
   },
   "cell_type": "code",
   "source": "df.drop(columns=['title'], inplace=True)",
   "id": "cb5cda6ffb3bb23c",
   "outputs": [],
   "execution_count": 91
  },
  {
   "metadata": {
    "ExecuteTime": {
     "end_time": "2025-09-30T15:12:44.097421Z",
     "start_time": "2025-09-30T15:12:44.065522Z"
    }
   },
   "cell_type": "code",
   "source": [
    "df = df[df['score'] > 0].copy()\n",
    "    \n",
    "df['mean'] = df['mean'].fillna(df.groupby('type')['mean'].transform('median'))\n",
    "    \n",
    "categorical_cols = ['type', 'rating', 'status']\n",
    "for col in categorical_cols:\n",
    "    df[col] = df[col].fillna('Unknown')"
   ],
   "id": "6fc3a7bc389d858e",
   "outputs": [],
   "execution_count": 92
  },
  {
   "metadata": {
    "ExecuteTime": {
     "end_time": "2025-09-30T15:12:44.592656Z",
     "start_time": "2025-09-30T15:12:44.569987Z"
    }
   },
   "cell_type": "code",
   "source": [
    "df['year'] = df['year'].fillna(df['year'].mode()[0])\n",
    "df['num_episodes'] = df['num_episodes'].fillna(df['num_episodes'].mode()[0])"
   ],
   "id": "bb92a571b7833b0f",
   "outputs": [],
   "execution_count": 93
  },
  {
   "metadata": {
    "ExecuteTime": {
     "end_time": "2025-09-30T15:12:45.071077Z",
     "start_time": "2025-09-30T15:12:45.058372Z"
    }
   },
   "cell_type": "code",
   "source": "df['popularity'] = df['popularity'].fillna(df['popularity'].median())",
   "id": "822f30ae0069e0dd",
   "outputs": [],
   "execution_count": 94
  },
  {
   "metadata": {
    "ExecuteTime": {
     "end_time": "2025-09-30T15:12:45.492160Z",
     "start_time": "2025-09-30T15:12:45.462090Z"
    }
   },
   "cell_type": "code",
   "source": [
    "df['anime_age'] = 2025 - df['year']\n",
    "df['anime_age'] = df['anime_age'].astype(int)\n",
    "df.drop(columns=['year'], inplace=True)"
   ],
   "id": "48ad632da83ec0f2",
   "outputs": [],
   "execution_count": 95
  },
  {
   "metadata": {
    "ExecuteTime": {
     "end_time": "2025-09-30T15:12:46.057584Z",
     "start_time": "2025-09-30T15:12:46.029856Z"
    }
   },
   "cell_type": "code",
   "source": [
    "df['log_members'] = np.log1p(df['members'])\n",
    "df.drop(columns=['id', 'members'], inplace=True)"
   ],
   "id": "96c72ca71b313fb9",
   "outputs": [],
   "execution_count": 96
  },
  {
   "metadata": {
    "ExecuteTime": {
     "end_time": "2025-09-30T15:12:47.351113Z",
     "start_time": "2025-09-30T15:12:46.550834Z"
    }
   },
   "cell_type": "code",
   "source": [
    "# Get dummy variables for each unique genre\n",
    "genre_dummies = (\n",
    "    df['genres']\n",
    "    .str.split(', ', expand=True) \n",
    "    .stack()       \n",
    "    .str.get_dummies()         \n",
    "    .groupby(level=0)         \n",
    "    .sum()                    \n",
    "    .add_prefix('Genre_')  \n",
    ")\n",
    "\n",
    "df.drop(columns=['genres'], inplace=True)"
   ],
   "id": "9d52098ed6f3cf6f",
   "outputs": [],
   "execution_count": 97
  },
  {
   "metadata": {
    "ExecuteTime": {
     "end_time": "2025-09-30T15:12:47.366851Z",
     "start_time": "2025-09-30T15:12:47.351113Z"
    }
   },
   "cell_type": "code",
   "source": "df = pd.concat([df, genre_dummies], axis=1)",
   "id": "a87bf71c326a8336",
   "outputs": [],
   "execution_count": 98
  },
  {
   "metadata": {
    "ExecuteTime": {
     "end_time": "2025-09-30T15:12:48.008040Z",
     "start_time": "2025-09-30T15:12:47.992244Z"
    }
   },
   "cell_type": "code",
   "source": [
    "genre_columns = [col for col in df.columns if col.startswith('Genre_')]\n",
    "\n",
    "genre_counts = df[genre_columns].sum().sort_values(ascending=False)\n",
    "print(genre_counts)"
   ],
   "id": "1bb6561a86cbb474",
   "outputs": [
    {
     "name": "stdout",
     "output_type": "stream",
     "text": [
      "Genre_Action         1480\n",
      "Genre_Comedy         1336\n",
      "Genre_Fantasy         996\n",
      "Genre_School          918\n",
      "Genre_Romance         871\n",
      "                     ... \n",
      "Genre_Educational       6\n",
      "Genre_Hentai            2\n",
      "Genre_Boys Love         2\n",
      "Genre_Erotica           2\n",
      "Genre_Unknown           1\n",
      "Length: 79, dtype: int64\n"
     ]
    }
   ],
   "execution_count": 99
  },
  {
   "metadata": {
    "ExecuteTime": {
     "end_time": "2025-09-30T15:12:48.512811Z",
     "start_time": "2025-09-30T15:12:48.483592Z"
    }
   },
   "cell_type": "code",
   "source": [
    "type_dummies = pd.get_dummies(df['type'], prefix='Type')\n",
    "df = pd.concat([df, type_dummies], axis=1)\n",
    "df.drop(columns=['type'], inplace=True)"
   ],
   "id": "bd71a70d384c6a63",
   "outputs": [],
   "execution_count": 100
  },
  {
   "metadata": {
    "ExecuteTime": {
     "end_time": "2025-09-30T15:13:03.452826Z",
     "start_time": "2025-09-30T15:13:03.427467Z"
    }
   },
   "cell_type": "code",
   "source": [
    "top_studios = df['studios'].value_counts().nlargest(10).index\n",
    "print(top_studios)"
   ],
   "id": "2f46c4610178dbe0",
   "outputs": [
    {
     "name": "stdout",
     "output_type": "stream",
     "text": [
      "Index(['J.C.Staff', 'A-1 Pictures', 'Madhouse', 'Studio Deen', 'Sunrise',\n",
      "       'Production I.G', 'Bones', 'SILVER LINK.', 'Gonzo', 'Toei Animation'],\n",
      "      dtype='object', name='studios')\n"
     ]
    }
   ],
   "execution_count": 101
  },
  {
   "metadata": {
    "ExecuteTime": {
     "end_time": "2025-09-30T15:13:03.893247Z",
     "start_time": "2025-09-30T15:13:03.869671Z"
    }
   },
   "cell_type": "code",
   "source": "df['studios'] = df['studios'].apply(lambda x: x if x in top_studios else 'Studios_Other')",
   "id": "8094fbd8565deb33",
   "outputs": [],
   "execution_count": 102
  },
  {
   "metadata": {
    "ExecuteTime": {
     "end_time": "2025-09-30T15:13:04.550344Z",
     "start_time": "2025-09-30T15:13:04.534495Z"
    }
   },
   "cell_type": "code",
   "source": [
    "studio_dummies = pd.get_dummies(df['studios'], prefix='Studios')\n",
    "df = pd.concat([df, studio_dummies], axis=1)\n",
    "df.drop(columns=['studios'], inplace=True)"
   ],
   "id": "ac0c9e49f86d4346",
   "outputs": [],
   "execution_count": 103
  },
  {
   "metadata": {
    "ExecuteTime": {
     "end_time": "2025-09-30T15:13:05.158766Z",
     "start_time": "2025-09-30T15:13:05.136109Z"
    }
   },
   "cell_type": "code",
   "source": [
    "rating_dummies = pd.get_dummies(df['rating'], prefix='Rating')\n",
    "df = pd.concat([df, rating_dummies], axis=1)\n",
    "df.drop(columns=['rating'], inplace=True)"
   ],
   "id": "126fb5dbd378ec10",
   "outputs": [],
   "execution_count": 104
  },
  {
   "metadata": {
    "ExecuteTime": {
     "end_time": "2025-09-30T15:13:05.539019Z",
     "start_time": "2025-09-30T15:13:05.519201Z"
    }
   },
   "cell_type": "code",
   "source": [
    "status_dummies = pd.get_dummies(df['status'], prefix='Status')\n",
    "df = pd.concat([df, status_dummies], axis=1)\n",
    "df.drop(columns=['status'], inplace=True)"
   ],
   "id": "bbca1d6b46517b34",
   "outputs": [],
   "execution_count": 105
  },
  {
   "metadata": {
    "ExecuteTime": {
     "end_time": "2025-09-30T15:13:06.083117Z",
     "start_time": "2025-09-30T15:13:06.051744Z"
    }
   },
   "cell_type": "code",
   "source": [
    "bool_cols = df.select_dtypes('bool').columns\n",
    "\n",
    "df[bool_cols] = df[bool_cols].astype(int)"
   ],
   "id": "912256dec29366ff",
   "outputs": [],
   "execution_count": 106
  },
  {
   "metadata": {
    "ExecuteTime": {
     "end_time": "2025-09-30T15:13:06.414035Z",
     "start_time": "2025-09-30T15:13:06.400063Z"
    }
   },
   "cell_type": "code",
   "source": "df.drop(columns=['Genre_Unknown'], inplace=True)",
   "id": "ddcccea889c0e4c",
   "outputs": [],
   "execution_count": 107
  },
  {
   "metadata": {
    "ExecuteTime": {
     "end_time": "2025-09-30T15:13:06.973994Z",
     "start_time": "2025-09-30T15:13:06.955150Z"
    }
   },
   "cell_type": "code",
   "source": [
    "correlation = df['mean'].corr(df['score'])\n",
    "print(correlation)"
   ],
   "id": "9316e3d81ba7f8c7",
   "outputs": [
    {
     "name": "stdout",
     "output_type": "stream",
     "text": [
      "0.6883962470382563\n"
     ]
    }
   ],
   "execution_count": 108
  },
  {
   "metadata": {
    "ExecuteTime": {
     "end_time": "2025-09-30T15:13:08.074258Z",
     "start_time": "2025-09-30T15:13:07.521671Z"
    }
   },
   "cell_type": "code",
   "source": [
    "corr_cols = ['score', 'mean', 'popularity', 'anime_age', \n",
    "             'log_members', \n",
    "             'Status_completed', 'Status_dropped', \n",
    "             'Rating_g', 'Rating_rx']\n",
    "\n",
    "corr_matrix = df[corr_cols].corr()\n",
    "sb.heatmap(corr_matrix, annot=True)\n",
    "plt.show()"
   ],
   "id": "ae5d323831dd7970",
   "outputs": [
    {
     "data": {
      "text/plain": [
       "<Figure size 640x480 with 2 Axes>"
      ],
      "image/png": "[encoded data removed]"
     },
     "metadata": {},
     "output_type": "display_data"
    }
   ],
   "execution_count": 109
  },
  {
   "metadata": {
    "ExecuteTime": {
     "end_time": "2025-09-30T15:13:08.264442Z",
     "start_time": "2025-09-30T15:13:08.077147Z"
    }
   },
   "cell_type": "code",
   "source": [
    "corr_with_score = df.corr()['score']\n",
    "high_corr_cols = corr_with_score[np.abs(corr_with_score) > 0.65].index\n",
    "high_corr_cols = high_corr_cols.drop('score')\n",
    "print(high_corr_cols)"
   ],
   "id": "e334eebf17fd9a70",
   "outputs": [
    {
     "name": "stdout",
     "output_type": "stream",
     "text": [
      "Index(['mean'], dtype='object')\n"
     ]
    }
   ],
   "execution_count": 110
  },
  {
   "metadata": {
    "ExecuteTime": {
     "end_time": "2025-09-30T15:13:13.951627Z",
     "start_time": "2025-09-30T15:13:13.919929Z"
    }
   },
   "cell_type": "code",
   "source": "df.drop(columns=high_corr_cols, inplace=True)",
   "id": "e4735cd8df6e9a53",
   "outputs": [],
   "execution_count": 111
  },
  {
   "metadata": {
    "ExecuteTime": {
     "end_time": "2025-09-30T15:13:14.569964Z",
     "start_time": "2025-09-30T15:13:14.541523Z"
    }
   },
   "cell_type": "code",
   "source": [
    "df['num_episodes'] = np.log1p(df['num_episodes'])\n",
    "df.drop(columns=['popularity'], inplace=True)"
   ],
   "id": "1968790fd8a3d54f",
   "outputs": [],
   "execution_count": 112
  },
  {
   "metadata": {
    "ExecuteTime": {
     "end_time": "2025-09-30T15:13:15.327731Z",
     "start_time": "2025-09-30T15:13:15.311770Z"
    }
   },
   "cell_type": "code",
   "source": [
    "X = df.drop(columns=['score'])\n",
    "y = df['score']"
   ],
   "id": "27bd2952506f29c",
   "outputs": [],
   "execution_count": 113
  },
  {
   "metadata": {
    "ExecuteTime": {
     "end_time": "2025-09-30T15:13:16.197172Z",
     "start_time": "2025-09-30T15:13:16.159520Z"
    }
   },
   "cell_type": "code",
   "source": "X_train, X_test, y_train, y_test = train_test_split(X, y, test_size=0.2, random_state=42,stratify=y)",
   "id": "9dc3c5852237c268",
   "outputs": [],
   "execution_count": 114
  },
  {
   "metadata": {
    "ExecuteTime": {
     "end_time": "2025-09-30T15:13:17.007374Z",
     "start_time": "2025-09-30T15:13:16.901480Z"
    }
   },
   "cell_type": "code",
   "source": [
    "genre_affinity = calculate_genre_affinity(X_train.join(y_train))\n",
    "\n",
    "affinity_features_train = pd.DataFrame({\n",
    "    f\"affinity_{genre}\": X_train[f\"Genre_{genre}\"] * affinity\n",
    "    for genre, affinity in genre_affinity.items()\n",
    "}, index=X_train.index)\n",
    "\n",
    "affinity_features_test = pd.DataFrame({\n",
    "    f\"affinity_{genre}\": X_test[f\"Genre_{genre}\"] * affinity\n",
    "    for genre, affinity in genre_affinity.items()\n",
    "}, index=X_test.index)\n",
    "\n",
    "# Добавляем все affinity сразу\n",
    "X_train = pd.concat([X_train, affinity_features_train], axis=1)\n",
    "X_test = pd.concat([X_test, affinity_features_test], axis=1)"
   ],
   "id": "389db8069494dd07",
   "outputs": [],
   "execution_count": 115
  },
  {
   "metadata": {
    "ExecuteTime": {
     "end_time": "2025-09-30T15:13:32.461189Z",
     "start_time": "2025-09-30T15:13:32.429475Z"
    }
   },
   "cell_type": "code",
   "source": "X_train.info()",
   "id": "71c811b5a92cde99",
   "outputs": [
    {
     "name": "stdout",
     "output_type": "stream",
     "text": [
      "<class 'pandas.core.frame.DataFrame'>\n",
      "Index: 2980 entries, 1535 to 71\n",
      "Columns: 111 entries, num_episodes to affinity_Workplace\n",
      "dtypes: float64(80), int32(31)\n",
      "memory usage: 2.3 MB\n"
     ]
    }
   ],
   "execution_count": 119
  },
  {
   "metadata": {
    "ExecuteTime": {
     "end_time": "2025-09-30T15:13:20.544725Z",
     "start_time": "2025-09-30T15:13:20.496817Z"
    }
   },
   "cell_type": "code",
   "source": "X_train.head()",
   "id": "99ebd4b17b506936",
   "outputs": [
    {
     "data": {
      "text/plain": [
       "      num_episodes  anime_age  log_members  Genre_Action  Genre_Adult Cast  \\\n",
       "1535      3.258097         12    12.572849             0                 0   \n",
       "1654      0.693147          9    10.442959             0                 0   \n",
       "3618      1.945910         10     8.964696             0                 0   \n",
       "774       2.564949         10    11.600378             1                 0   \n",
       "1411      2.564949          0    10.946570             0                 0   \n",
       "\n",
       "      Genre_Adventure  Genre_Anthropomorphic  Genre_Avant Garde  \\\n",
       "1535                0                      0                  0   \n",
       "1654                0                      0                  0   \n",
       "3618                0                      1                  0   \n",
       "774                 1                      0                  0   \n",
       "1411                0                      0                  0   \n",
       "\n",
       "      Genre_Award Winning  Genre_Boys Love  ...  affinity_Survival  \\\n",
       "1535                    0                0  ...                0.0   \n",
       "1654                    0                0  ...                0.0   \n",
       "3618                    0                0  ...                0.0   \n",
       "774                     0                0  ...                0.0   \n",
       "1411                    0                0  ...                0.0   \n",
       "\n",
       "      affinity_Suspense  affinity_Team Sports  affinity_Time Travel  \\\n",
       "1535                0.0                   0.0                   0.0   \n",
       "1654                0.0                   0.0                   0.0   \n",
       "3618                0.0                   0.0                   0.0   \n",
       "774                 0.0                   0.0                   0.0   \n",
       "1411                0.0                   0.0                   0.0   \n",
       "\n",
       "      affinity_Urban Fantasy  affinity_Vampire  affinity_Video Game  \\\n",
       "1535                     0.0               0.0                  0.0   \n",
       "1654                     0.0               0.0                  0.0   \n",
       "3618                     0.0               0.0                  0.0   \n",
       "774                      0.0               0.0                  0.0   \n",
       "1411                     0.0               0.0                  0.0   \n",
       "\n",
       "      affinity_Villainess  affinity_Visual Arts  affinity_Workplace  \n",
       "1535                  0.0                   0.0                 0.0  \n",
       "1654                  0.0                   0.0                 0.0  \n",
       "3618                  0.0                   0.0                 0.0  \n",
       "774                   0.0                   0.0                 0.0  \n",
       "1411                  0.0                   0.0                 0.0  \n",
       "\n",
       "[5 rows x 189 columns]"
      ],
      "text/html": [
       "<div>\n",
       "<style scoped>\n",
       "    .dataframe tbody tr th:only-of-type {\n",
       "        vertical-align: middle;\n",
       "    }\n",
       "\n",
       "    .dataframe tbody tr th {\n",
       "        vertical-align: top;\n",
       "    }\n",
       "\n",
       "    .dataframe thead th {\n",
       "        text-align: right;\n",
       "    }\n",
       "</style>\n",
       "<table border=\"1\" class=\"dataframe\">\n",
       "  <thead>\n",
       "    <tr style=\"text-align: right;\">\n",
       "      <th></th>\n",
       "      <th>num_episodes</th>\n",
       "      <th>anime_age</th>\n",
       "      <th>log_members</th>\n",
       "      <th>Genre_Action</th>\n",
       "      <th>Genre_Adult Cast</th>\n",
       "      <th>Genre_Adventure</th>\n",
       "      <th>Genre_Anthropomorphic</th>\n",
       "      <th>Genre_Avant Garde</th>\n",
       "      <th>Genre_Award Winning</th>\n",
       "      <th>Genre_Boys Love</th>\n",
       "      <th>...</th>\n",
       "      <th>affinity_Survival</th>\n",
       "      <th>affinity_Suspense</th>\n",
       "      <th>affinity_Team Sports</th>\n",
       "      <th>affinity_Time Travel</th>\n",
       "      <th>affinity_Urban Fantasy</th>\n",
       "      <th>affinity_Vampire</th>\n",
       "      <th>affinity_Video Game</th>\n",
       "      <th>affinity_Villainess</th>\n",
       "      <th>affinity_Visual Arts</th>\n",
       "      <th>affinity_Workplace</th>\n",
       "    </tr>\n",
       "  </thead>\n",
       "  <tbody>\n",
       "    <tr>\n",
       "      <th>1535</th>\n",
       "      <td>3.258097</td>\n",
       "      <td>12</td>\n",
       "      <td>12.572849</td>\n",
       "      <td>0</td>\n",
       "      <td>0</td>\n",
       "      <td>0</td>\n",
       "      <td>0</td>\n",
       "      <td>0</td>\n",
       "      <td>0</td>\n",
       "      <td>0</td>\n",
       "      <td>...</td>\n",
       "      <td>0.0</td>\n",
       "      <td>0.0</td>\n",
       "      <td>0.0</td>\n",
       "      <td>0.0</td>\n",
       "      <td>0.0</td>\n",
       "      <td>0.0</td>\n",
       "      <td>0.0</td>\n",
       "      <td>0.0</td>\n",
       "      <td>0.0</td>\n",
       "      <td>0.0</td>\n",
       "    </tr>\n",
       "    <tr>\n",
       "      <th>1654</th>\n",
       "      <td>0.693147</td>\n",
       "      <td>9</td>\n",
       "      <td>10.442959</td>\n",
       "      <td>0</td>\n",
       "      <td>0</td>\n",
       "      <td>0</td>\n",
       "      <td>0</td>\n",
       "      <td>0</td>\n",
       "      <td>0</td>\n",
       "      <td>0</td>\n",
       "      <td>...</td>\n",
       "      <td>0.0</td>\n",
       "      <td>0.0</td>\n",
       "      <td>0.0</td>\n",
       "      <td>0.0</td>\n",
       "      <td>0.0</td>\n",
       "      <td>0.0</td>\n",
       "      <td>0.0</td>\n",
       "      <td>0.0</td>\n",
       "      <td>0.0</td>\n",
       "      <td>0.0</td>\n",
       "    </tr>\n",
       "    <tr>\n",
       "      <th>3618</th>\n",
       "      <td>1.945910</td>\n",
       "      <td>10</td>\n",
       "      <td>8.964696</td>\n",
       "      <td>0</td>\n",
       "      <td>0</td>\n",
       "      <td>0</td>\n",
       "      <td>1</td>\n",
       "      <td>0</td>\n",
       "      <td>0</td>\n",
       "      <td>0</td>\n",
       "      <td>...</td>\n",
       "      <td>0.0</td>\n",
       "      <td>0.0</td>\n",
       "      <td>0.0</td>\n",
       "      <td>0.0</td>\n",
       "      <td>0.0</td>\n",
       "      <td>0.0</td>\n",
       "      <td>0.0</td>\n",
       "      <td>0.0</td>\n",
       "      <td>0.0</td>\n",
       "      <td>0.0</td>\n",
       "    </tr>\n",
       "    <tr>\n",
       "      <th>774</th>\n",
       "      <td>2.564949</td>\n",
       "      <td>10</td>\n",
       "      <td>11.600378</td>\n",
       "      <td>1</td>\n",
       "      <td>0</td>\n",
       "      <td>1</td>\n",
       "      <td>0</td>\n",
       "      <td>0</td>\n",
       "      <td>0</td>\n",
       "      <td>0</td>\n",
       "      <td>...</td>\n",
       "      <td>0.0</td>\n",
       "      <td>0.0</td>\n",
       "      <td>0.0</td>\n",
       "      <td>0.0</td>\n",
       "      <td>0.0</td>\n",
       "      <td>0.0</td>\n",
       "      <td>0.0</td>\n",
       "      <td>0.0</td>\n",
       "      <td>0.0</td>\n",
       "      <td>0.0</td>\n",
       "    </tr>\n",
       "    <tr>\n",
       "      <th>1411</th>\n",
       "      <td>2.564949</td>\n",
       "      <td>0</td>\n",
       "      <td>10.946570</td>\n",
       "      <td>0</td>\n",
       "      <td>0</td>\n",
       "      <td>0</td>\n",
       "      <td>0</td>\n",
       "      <td>0</td>\n",
       "      <td>0</td>\n",
       "      <td>0</td>\n",
       "      <td>...</td>\n",
       "      <td>0.0</td>\n",
       "      <td>0.0</td>\n",
       "      <td>0.0</td>\n",
       "      <td>0.0</td>\n",
       "      <td>0.0</td>\n",
       "      <td>0.0</td>\n",
       "      <td>0.0</td>\n",
       "      <td>0.0</td>\n",
       "      <td>0.0</td>\n",
       "      <td>0.0</td>\n",
       "    </tr>\n",
       "  </tbody>\n",
       "</table>\n",
       "<p>5 rows × 189 columns</p>\n",
       "</div>"
      ]
     },
     "execution_count": 117,
     "metadata": {},
     "output_type": "execute_result"
    }
   ],
   "execution_count": 117
  },
  {
   "metadata": {
    "ExecuteTime": {
     "end_time": "2025-09-30T15:13:29.767697Z",
     "start_time": "2025-09-30T15:13:29.736391Z"
    }
   },
   "cell_type": "code",
   "source": [
    "X_train = X_train.drop(columns=[col for col in X_train.columns if col.startswith(\"Genre_\")])\n",
    "X_test = X_test.drop(columns=[col for col in X_test.columns if col.startswith(\"Genre_\")])"
   ],
   "id": "53c1fc6750ab121b",
   "outputs": [],
   "execution_count": 118
  },
  {
   "metadata": {
    "ExecuteTime": {
     "end_time": "2025-09-30T15:13:39.913438Z",
     "start_time": "2025-09-30T15:13:39.887729Z"
    }
   },
   "cell_type": "code",
   "source": [
    "scaler = StandardScaler()\n",
    "X_train = scaler.fit_transform(X_train)\n",
    "X_test = scaler.transform(X_test)"
   ],
   "id": "46fc1056d6e0605e",
   "outputs": [],
   "execution_count": 120
  },
  {
   "metadata": {
    "ExecuteTime": {
     "end_time": "2025-09-30T15:13:44.467001Z",
     "start_time": "2025-09-30T15:13:44.451184Z"
    }
   },
   "cell_type": "code",
   "source": [
    "# balancing\n",
    "sample_weights = compute_sample_weight('balanced', y_train.astype(int))"
   ],
   "id": "5188777333a56c30",
   "outputs": [],
   "execution_count": 121
  },
  {
   "metadata": {
    "ExecuteTime": {
     "end_time": "2025-09-30T15:13:55.117060Z",
     "start_time": "2025-09-30T15:13:45.155029Z"
    }
   },
   "cell_type": "code",
   "source": [
    "model_weighted = RandomForestRegressor(n_estimators=300, min_samples_leaf=2, random_state=42 )\n",
    "model_weighted.fit(X_train, y_train, sample_weight=sample_weights)"
   ],
   "id": "329eb737aebc3c23",
   "outputs": [
    {
     "data": {
      "text/plain": [
       "RandomForestRegressor(min_samples_leaf=2, n_estimators=300, random_state=42)"
      ],
      "text/html": [
       "<style>#sk-container-id-2 {\n",
       "  /* Definition of color scheme common for light and dark mode */\n",
       "  --sklearn-color-text: black;\n",
       "  --sklearn-color-line: gray;\n",
       "  /* Definition of color scheme for unfitted estimators */\n",
       "  --sklearn-color-unfitted-level-0: #fff5e6;\n",
       "  --sklearn-color-unfitted-level-1: #f6e4d2;\n",
       "  --sklearn-color-unfitted-level-2: #ffe0b3;\n",
       "  --sklearn-color-unfitted-level-3: chocolate;\n",
       "  /* Definition of color scheme for fitted estimators */\n",
       "  --sklearn-color-fitted-level-0: #f0f8ff;\n",
       "  --sklearn-color-fitted-level-1: #d4ebff;\n",
       "  --sklearn-color-fitted-level-2: #b3dbfd;\n",
       "  --sklearn-color-fitted-level-3: cornflowerblue;\n",
       "\n",
       "  /* Specific color for light theme */\n",
       "  --sklearn-color-text-on-default-background: var(--sg-text-color, var(--theme-code-foreground, var(--jp-content-font-color1, black)));\n",
       "  --sklearn-color-background: var(--sg-background-color, var(--theme-background, var(--jp-layout-color0, white)));\n",
       "  --sklearn-color-border-box: var(--sg-text-color, var(--theme-code-foreground, var(--jp-content-font-color1, black)));\n",
       "  --sklearn-color-icon: #696969;\n",
       "\n",
       "  @media (prefers-color-scheme: dark) {\n",
       "    /* Redefinition of color scheme for dark theme */\n",
       "    --sklearn-color-text-on-default-background: var(--sg-text-color, var(--theme-code-foreground, var(--jp-content-font-color1, white)));\n",
       "    --sklearn-color-background: var(--sg-background-color, var(--theme-background, var(--jp-layout-color0, #111)));\n",
       "    --sklearn-color-border-box: var(--sg-text-color, var(--theme-code-foreground, var(--jp-content-font-color1, white)));\n",
       "    --sklearn-color-icon: #878787;\n",
       "  }\n",
       "}\n",
       "\n",
       "#sk-container-id-2 {\n",
       "  color: var(--sklearn-color-text);\n",
       "}\n",
       "\n",
       "#sk-container-id-2 pre {\n",
       "  padding: 0;\n",
       "}\n",
       "\n",
       "#sk-container-id-2 input.sk-hidden--visually {\n",
       "  border: 0;\n",
       "  clip: rect(1px 1px 1px 1px);\n",
       "  clip: rect(1px, 1px, 1px, 1px);\n",
       "  height: 1px;\n",
       "  margin: -1px;\n",
       "  overflow: hidden;\n",
       "  padding: 0;\n",
       "  position: absolute;\n",
       "  width: 1px;\n",
       "}\n",
       "\n",
       "#sk-container-id-2 div.sk-dashed-wrapped {\n",
       "  border: 1px dashed var(--sklearn-color-line);\n",
       "  margin: 0 0.4em 0.5em 0.4em;\n",
       "  box-sizing: border-box;\n",
       "  padding-bottom: 0.4em;\n",
       "  background-color: var(--sklearn-color-background);\n",
       "}\n",
       "\n",
       "#sk-container-id-2 div.sk-container {\n",
       "  /* jupyter's `normalize.less` sets `[hidden] { display: none; }`\n",
       "     but bootstrap.min.css set `[hidden] { display: none !important; }`\n",
       "     so we also need the `!important` here to be able to override the\n",
       "     default hidden behavior on the sphinx rendered scikit-learn.org.\n",
       "     See: https://github.com/scikit-learn/scikit-learn/issues/21755 */\n",
       "  display: inline-block !important;\n",
       "  position: relative;\n",
       "}\n",
       "\n",
       "#sk-container-id-2 div.sk-text-repr-fallback {\n",
       "  display: none;\n",
       "}\n",
       "\n",
       "div.sk-parallel-item,\n",
       "div.sk-serial,\n",
       "div.sk-item {\n",
       "  /* draw centered vertical line to link estimators */\n",
       "  background-image: linear-gradient(var(--sklearn-color-text-on-default-background), var(--sklearn-color-text-on-default-background));\n",
       "  background-size: 2px 100%;\n",
       "  background-repeat: no-repeat;\n",
       "  background-position: center center;\n",
       "}\n",
       "\n",
       "/* Parallel-specific style estimator block */\n",
       "\n",
       "#sk-container-id-2 div.sk-parallel-item::after {\n",
       "  content: \"\";\n",
       "  width: 100%;\n",
       "  border-bottom: 2px solid var(--sklearn-color-text-on-default-background);\n",
       "  flex-grow: 1;\n",
       "}\n",
       "\n",
       "#sk-container-id-2 div.sk-parallel {\n",
       "  display: flex;\n",
       "  align-items: stretch;\n",
       "  justify-content: center;\n",
       "  background-color: var(--sklearn-color-background);\n",
       "  position: relative;\n",
       "}\n",
       "\n",
       "#sk-container-id-2 div.sk-parallel-item {\n",
       "  display: flex;\n",
       "  flex-direction: column;\n",
       "}\n",
       "\n",
       "#sk-container-id-2 div.sk-parallel-item:first-child::after {\n",
       "  align-self: flex-end;\n",
       "  width: 50%;\n",
       "}\n",
       "\n",
       "#sk-container-id-2 div.sk-parallel-item:last-child::after {\n",
       "  align-self: flex-start;\n",
       "  width: 50%;\n",
       "}\n",
       "\n",
       "#sk-container-id-2 div.sk-parallel-item:only-child::after {\n",
       "  width: 0;\n",
       "}\n",
       "\n",
       "/* Serial-specific style estimator block */\n",
       "\n",
       "#sk-container-id-2 div.sk-serial {\n",
       "  display: flex;\n",
       "  flex-direction: column;\n",
       "  align-items: center;\n",
       "  background-color: var(--sklearn-color-background);\n",
       "  padding-right: 1em;\n",
       "  padding-left: 1em;\n",
       "}\n",
       "\n",
       "\n",
       "/* Toggleable style: style used for estimator/Pipeline/ColumnTransformer box that is\n",
       "clickable and can be expanded/collapsed.\n",
       "- Pipeline and ColumnTransformer use this feature and define the default style\n",
       "- Estimators will overwrite some part of the style using the `sk-estimator` class\n",
       "*/\n",
       "\n",
       "/* Pipeline and ColumnTransformer style (default) */\n",
       "\n",
       "#sk-container-id-2 div.sk-toggleable {\n",
       "  /* Default theme specific background. It is overwritten whether we have a\n",
       "  specific estimator or a Pipeline/ColumnTransformer */\n",
       "  background-color: var(--sklearn-color-background);\n",
       "}\n",
       "\n",
       "/* Toggleable label */\n",
       "#sk-container-id-2 label.sk-toggleable__label {\n",
       "  cursor: pointer;\n",
       "  display: block;\n",
       "  width: 100%;\n",
       "  margin-bottom: 0;\n",
       "  padding: 0.5em;\n",
       "  box-sizing: border-box;\n",
       "  text-align: center;\n",
       "}\n",
       "\n",
       "#sk-container-id-2 label.sk-toggleable__label-arrow:before {\n",
       "  /* Arrow on the left of the label */\n",
       "  content: \"▸\";\n",
       "  float: left;\n",
       "  margin-right: 0.25em;\n",
       "  color: var(--sklearn-color-icon);\n",
       "}\n",
       "\n",
       "#sk-container-id-2 label.sk-toggleable__label-arrow:hover:before {\n",
       "  color: var(--sklearn-color-text);\n",
       "}\n",
       "\n",
       "/* Toggleable content - dropdown */\n",
       "\n",
       "#sk-container-id-2 div.sk-toggleable__content {\n",
       "  max-height: 0;\n",
       "  max-width: 0;\n",
       "  overflow: hidden;\n",
       "  text-align: left;\n",
       "  /* unfitted */\n",
       "  background-color: var(--sklearn-color-unfitted-level-0);\n",
       "}\n",
       "\n",
       "#sk-container-id-2 div.sk-toggleable__content.fitted {\n",
       "  /* fitted */\n",
       "  background-color: var(--sklearn-color-fitted-level-0);\n",
       "}\n",
       "\n",
       "#sk-container-id-2 div.sk-toggleable__content pre {\n",
       "  margin: 0.2em;\n",
       "  border-radius: 0.25em;\n",
       "  color: var(--sklearn-color-text);\n",
       "  /* unfitted */\n",
       "  background-color: var(--sklearn-color-unfitted-level-0);\n",
       "}\n",
       "\n",
       "#sk-container-id-2 div.sk-toggleable__content.fitted pre {\n",
       "  /* unfitted */\n",
       "  background-color: var(--sklearn-color-fitted-level-0);\n",
       "}\n",
       "\n",
       "#sk-container-id-2 input.sk-toggleable__control:checked~div.sk-toggleable__content {\n",
       "  /* Expand drop-down */\n",
       "  max-height: 200px;\n",
       "  max-width: 100%;\n",
       "  overflow: auto;\n",
       "}\n",
       "\n",
       "#sk-container-id-2 input.sk-toggleable__control:checked~label.sk-toggleable__label-arrow:before {\n",
       "  content: \"▾\";\n",
       "}\n",
       "\n",
       "/* Pipeline/ColumnTransformer-specific style */\n",
       "\n",
       "#sk-container-id-2 div.sk-label input.sk-toggleable__control:checked~label.sk-toggleable__label {\n",
       "  color: var(--sklearn-color-text);\n",
       "  background-color: var(--sklearn-color-unfitted-level-2);\n",
       "}\n",
       "\n",
       "#sk-container-id-2 div.sk-label.fitted input.sk-toggleable__control:checked~label.sk-toggleable__label {\n",
       "  background-color: var(--sklearn-color-fitted-level-2);\n",
       "}\n",
       "\n",
       "/* Estimator-specific style */\n",
       "\n",
       "/* Colorize estimator box */\n",
       "#sk-container-id-2 div.sk-estimator input.sk-toggleable__control:checked~label.sk-toggleable__label {\n",
       "  /* unfitted */\n",
       "  background-color: var(--sklearn-color-unfitted-level-2);\n",
       "}\n",
       "\n",
       "#sk-container-id-2 div.sk-estimator.fitted input.sk-toggleable__control:checked~label.sk-toggleable__label {\n",
       "  /* fitted */\n",
       "  background-color: var(--sklearn-color-fitted-level-2);\n",
       "}\n",
       "\n",
       "#sk-container-id-2 div.sk-label label.sk-toggleable__label,\n",
       "#sk-container-id-2 div.sk-label label {\n",
       "  /* The background is the default theme color */\n",
       "  color: var(--sklearn-color-text-on-default-background);\n",
       "}\n",
       "\n",
       "/* On hover, darken the color of the background */\n",
       "#sk-container-id-2 div.sk-label:hover label.sk-toggleable__label {\n",
       "  color: var(--sklearn-color-text);\n",
       "  background-color: var(--sklearn-color-unfitted-level-2);\n",
       "}\n",
       "\n",
       "/* Label box, darken color on hover, fitted */\n",
       "#sk-container-id-2 div.sk-label.fitted:hover label.sk-toggleable__label.fitted {\n",
       "  color: var(--sklearn-color-text);\n",
       "  background-color: var(--sklearn-color-fitted-level-2);\n",
       "}\n",
       "\n",
       "/* Estimator label */\n",
       "\n",
       "#sk-container-id-2 div.sk-label label {\n",
       "  font-family: monospace;\n",
       "  font-weight: bold;\n",
       "  display: inline-block;\n",
       "  line-height: 1.2em;\n",
       "}\n",
       "\n",
       "#sk-container-id-2 div.sk-label-container {\n",
       "  text-align: center;\n",
       "}\n",
       "\n",
       "/* Estimator-specific */\n",
       "#sk-container-id-2 div.sk-estimator {\n",
       "  font-family: monospace;\n",
       "  border: 1px dotted var(--sklearn-color-border-box);\n",
       "  border-radius: 0.25em;\n",
       "  box-sizing: border-box;\n",
       "  margin-bottom: 0.5em;\n",
       "  /* unfitted */\n",
       "  background-color: var(--sklearn-color-unfitted-level-0);\n",
       "}\n",
       "\n",
       "#sk-container-id-2 div.sk-estimator.fitted {\n",
       "  /* fitted */\n",
       "  background-color: var(--sklearn-color-fitted-level-0);\n",
       "}\n",
       "\n",
       "/* on hover */\n",
       "#sk-container-id-2 div.sk-estimator:hover {\n",
       "  /* unfitted */\n",
       "  background-color: var(--sklearn-color-unfitted-level-2);\n",
       "}\n",
       "\n",
       "#sk-container-id-2 div.sk-estimator.fitted:hover {\n",
       "  /* fitted */\n",
       "  background-color: var(--sklearn-color-fitted-level-2);\n",
       "}\n",
       "\n",
       "/* Specification for estimator info (e.g. \"i\" and \"?\") */\n",
       "\n",
       "/* Common style for \"i\" and \"?\" */\n",
       "\n",
       ".sk-estimator-doc-link,\n",
       "a:link.sk-estimator-doc-link,\n",
       "a:visited.sk-estimator-doc-link {\n",
       "  float: right;\n",
       "  font-size: smaller;\n",
       "  line-height: 1em;\n",
       "  font-family: monospace;\n",
       "  background-color: var(--sklearn-color-background);\n",
       "  border-radius: 1em;\n",
       "  height: 1em;\n",
       "  width: 1em;\n",
       "  text-decoration: none !important;\n",
       "  margin-left: 1ex;\n",
       "  /* unfitted */\n",
       "  border: var(--sklearn-color-unfitted-level-1) 1pt solid;\n",
       "  color: var(--sklearn-color-unfitted-level-1);\n",
       "}\n",
       "\n",
       ".sk-estimator-doc-link.fitted,\n",
       "a:link.sk-estimator-doc-link.fitted,\n",
       "a:visited.sk-estimator-doc-link.fitted {\n",
       "  /* fitted */\n",
       "  border: var(--sklearn-color-fitted-level-1) 1pt solid;\n",
       "  color: var(--sklearn-color-fitted-level-1);\n",
       "}\n",
       "\n",
       "/* On hover */\n",
       "div.sk-estimator:hover .sk-estimator-doc-link:hover,\n",
       ".sk-estimator-doc-link:hover,\n",
       "div.sk-label-container:hover .sk-estimator-doc-link:hover,\n",
       ".sk-estimator-doc-link:hover {\n",
       "  /* unfitted */\n",
       "  background-color: var(--sklearn-color-unfitted-level-3);\n",
       "  color: var(--sklearn-color-background);\n",
       "  text-decoration: none;\n",
       "}\n",
       "\n",
       "div.sk-estimator.fitted:hover .sk-estimator-doc-link.fitted:hover,\n",
       ".sk-estimator-doc-link.fitted:hover,\n",
       "div.sk-label-container:hover .sk-estimator-doc-link.fitted:hover,\n",
       ".sk-estimator-doc-link.fitted:hover {\n",
       "  /* fitted */\n",
       "  background-color: var(--sklearn-color-fitted-level-3);\n",
       "  color: var(--sklearn-color-background);\n",
       "  text-decoration: none;\n",
       "}\n",
       "\n",
       "/* Span, style for the box shown on hovering the info icon */\n",
       ".sk-estimator-doc-link span {\n",
       "  display: none;\n",
       "  z-index: 9999;\n",
       "  position: relative;\n",
       "  font-weight: normal;\n",
       "  right: .2ex;\n",
       "  padding: .5ex;\n",
       "  margin: .5ex;\n",
       "  width: min-content;\n",
       "  min-width: 20ex;\n",
       "  max-width: 50ex;\n",
       "  color: var(--sklearn-color-text);\n",
       "  box-shadow: 2pt 2pt 4pt #999;\n",
       "  /* unfitted */\n",
       "  background: var(--sklearn-color-unfitted-level-0);\n",
       "  border: .5pt solid var(--sklearn-color-unfitted-level-3);\n",
       "}\n",
       "\n",
       ".sk-estimator-doc-link.fitted span {\n",
       "  /* fitted */\n",
       "  background: var(--sklearn-color-fitted-level-0);\n",
       "  border: var(--sklearn-color-fitted-level-3);\n",
       "}\n",
       "\n",
       ".sk-estimator-doc-link:hover span {\n",
       "  display: block;\n",
       "}\n",
       "\n",
       "/* \"?\"-specific style due to the `<a>` HTML tag */\n",
       "\n",
       "#sk-container-id-2 a.estimator_doc_link {\n",
       "  float: right;\n",
       "  font-size: 1rem;\n",
       "  line-height: 1em;\n",
       "  font-family: monospace;\n",
       "  background-color: var(--sklearn-color-background);\n",
       "  border-radius: 1rem;\n",
       "  height: 1rem;\n",
       "  width: 1rem;\n",
       "  text-decoration: none;\n",
       "  /* unfitted */\n",
       "  color: var(--sklearn-color-unfitted-level-1);\n",
       "  border: var(--sklearn-color-unfitted-level-1) 1pt solid;\n",
       "}\n",
       "\n",
       "#sk-container-id-2 a.estimator_doc_link.fitted {\n",
       "  /* fitted */\n",
       "  border: var(--sklearn-color-fitted-level-1) 1pt solid;\n",
       "  color: var(--sklearn-color-fitted-level-1);\n",
       "}\n",
       "\n",
       "/* On hover */\n",
       "#sk-container-id-2 a.estimator_doc_link:hover {\n",
       "  /* unfitted */\n",
       "  background-color: var(--sklearn-color-unfitted-level-3);\n",
       "  color: var(--sklearn-color-background);\n",
       "  text-decoration: none;\n",
       "}\n",
       "\n",
       "#sk-container-id-2 a.estimator_doc_link.fitted:hover {\n",
       "  /* fitted */\n",
       "  background-color: var(--sklearn-color-fitted-level-3);\n",
       "}\n",
       "</style><div id=\"sk-container-id-2\" class=\"sk-top-container\"><div class=\"sk-text-repr-fallback\"><pre>RandomForestRegressor(min_samples_leaf=2, n_estimators=300, random_state=42)</pre><b>In a Jupyter environment, please rerun this cell to show the HTML representation or trust the notebook. <br />On GitHub, the HTML representation is unable to render, please try loading this page with nbviewer.org.</b></div><div class=\"sk-container\" hidden><div class=\"sk-item\"><div class=\"sk-estimator fitted sk-toggleable\"><input class=\"sk-toggleable__control sk-hidden--visually\" id=\"sk-estimator-id-2\" type=\"checkbox\" checked><label for=\"sk-estimator-id-2\" class=\"sk-toggleable__label fitted sk-toggleable__label-arrow fitted\">&nbsp;&nbsp;RandomForestRegressor<a class=\"sk-estimator-doc-link fitted\" rel=\"noreferrer\" target=\"_blank\" href=\"https://scikit-learn.org/1.5/modules/generated/sklearn.ensemble.RandomForestRegressor.html\">?<span>Documentation for RandomForestRegressor</span></a><span class=\"sk-estimator-doc-link fitted\">i<span>Fitted</span></span></label><div class=\"sk-toggleable__content fitted\"><pre>RandomForestRegressor(min_samples_leaf=2, n_estimators=300, random_state=42)</pre></div> </div></div></div></div>"
      ]
     },
     "execution_count": 122,
     "metadata": {},
     "output_type": "execute_result"
    }
   ],
   "execution_count": 122
  },
  {
   "metadata": {
    "ExecuteTime": {
     "end_time": "2025-09-30T15:13:55.201806Z",
     "start_time": "2025-09-30T15:13:55.117060Z"
    }
   },
   "cell_type": "code",
   "source": "y_pred_weight = model_weighted.predict(X_test)",
   "id": "827e0341ac849e5d",
   "outputs": [],
   "execution_count": 123
  },
  {
   "metadata": {
    "ExecuteTime": {
     "end_time": "2025-09-30T15:13:55.230558Z",
     "start_time": "2025-09-30T15:13:55.203815Z"
    }
   },
   "cell_type": "code",
   "source": [
    "print(\"Weighted\")\n",
    "results = comprehensive_evaluation(y_test, y_pred_weight)\n",
    "for metric, value in results.items():\n",
    "    print(f\"{metric}: {value:.3f}\")"
   ],
   "id": "dab6f3a28793dbf0",
   "outputs": [
    {
     "name": "stdout",
     "output_type": "stream",
     "text": [
      "Weighted\n",
      "MAE: 1.125\n",
      "MSE: 1.971\n",
      "RMSE: 1.404\n",
      "R2: 0.394\n",
      "Correlation: 0.632\n",
      "Accuracy_±0.5: 0.286\n",
      "Accuracy_±1.0: 0.523\n",
      "Accuracy_±1.5: 0.700\n",
      "MAE_score_1: 3.315\n",
      "MAE_score_2: 1.997\n",
      "MAE_score_3: 1.750\n",
      "MAE_score_4: 1.057\n",
      "MAE_score_5: 0.825\n",
      "MAE_score_6: 0.868\n",
      "MAE_score_7: 0.955\n",
      "MAE_score_8: 1.380\n",
      "MAE_score_9: 1.565\n",
      "MAE_score_10: 1.437\n"
     ]
    }
   ],
   "execution_count": 124
  },
  {
   "metadata": {},
   "cell_type": "code",
   "source": [
    "# importances = pd.Series(model_weighted.feature_importances_, index=X.columns)\n",
    "# importances.nlargest(20).plot(kind='barh', figsize=(8,6))\n",
    "# plt.title(\"Top-20 Feature Importances\")\n",
    "# plt.show()"
   ],
   "id": "d708ea98efecb5d4",
   "outputs": [],
   "execution_count": null
  },
  {
   "metadata": {
    "ExecuteTime": {
     "end_time": "2025-09-30T15:14:11.195336Z",
     "start_time": "2025-09-30T15:14:00.766489Z"
    }
   },
   "cell_type": "code",
   "source": [
    "from catboost import CatBoostRegressor\n",
    "\n",
    "model = CatBoostRegressor(\n",
    "    iterations=1000,\n",
    "    learning_rate=0.05,\n",
    "    depth=8,\n",
    "    eval_metric='RMSE',\n",
    "    random_seed=42,\n",
    "    verbose=100\n",
    ")\n",
    "\n",
    "model.fit(X_train, y_train, eval_set=(X_test, y_test), use_best_model=True, sample_weight=sample_weights)\n",
    "y_pred_cb = model.predict(X_test)\n"
   ],
   "id": "c1673046cfe54409",
   "outputs": [
    {
     "name": "stdout",
     "output_type": "stream",
     "text": [
      "0:\tlearn: 2.8020786\ttest: 1.7875222\tbest: 1.7875222 (0)\ttotal: 6.5ms\tremaining: 6.49s\n",
      "100:\tlearn: 1.3772697\ttest: 1.5403469\tbest: 1.5343411 (31)\ttotal: 1.02s\tremaining: 9.12s\n",
      "200:\tlearn: 1.1559824\ttest: 1.4667172\tbest: 1.4667172 (200)\ttotal: 2.04s\tremaining: 8.11s\n",
      "300:\tlearn: 1.0144849\ttest: 1.4266616\tbest: 1.4266616 (300)\ttotal: 3s\tremaining: 6.97s\n",
      "400:\tlearn: 0.9301378\ttest: 1.4051876\tbest: 1.4050445 (398)\ttotal: 4.02s\tremaining: 6s\n",
      "500:\tlearn: 0.8712727\ttest: 1.3947699\tbest: 1.3946057 (499)\ttotal: 4.93s\tremaining: 4.92s\n",
      "600:\tlearn: 0.8220703\ttest: 1.3887467\tbest: 1.3887467 (600)\ttotal: 6.03s\tremaining: 4.01s\n",
      "700:\tlearn: 0.7822126\ttest: 1.3818395\tbest: 1.3816942 (694)\ttotal: 7.07s\tremaining: 3.02s\n",
      "800:\tlearn: 0.7456581\ttest: 1.3785648\tbest: 1.3784789 (799)\ttotal: 8.04s\tremaining: 2s\n",
      "900:\tlearn: 0.7124860\ttest: 1.3748723\tbest: 1.3747950 (899)\ttotal: 9.22s\tremaining: 1.01s\n",
      "999:\tlearn: 0.6829288\ttest: 1.3722756\tbest: 1.3721086 (976)\ttotal: 10.1s\tremaining: 0us\n",
      "\n",
      "bestTest = 1.37210859\n",
      "bestIteration = 976\n",
      "\n",
      "Shrink model to first 977 iterations.\n"
     ]
    }
   ],
   "execution_count": 125
  },
  {
   "metadata": {
    "ExecuteTime": {
     "end_time": "2025-09-30T15:14:11.226911Z",
     "start_time": "2025-09-30T15:14:11.201388Z"
    }
   },
   "cell_type": "code",
   "source": [
    "print(\"Catboost\")\n",
    "results = comprehensive_evaluation(y_test, y_pred_cb)\n",
    "for metric, value in results.items():\n",
    "    print(f\"{metric}: {value:.3f}\")"
   ],
   "id": "5fde4ef92604d7b9",
   "outputs": [
    {
     "name": "stdout",
     "output_type": "stream",
     "text": [
      "Catboost\n",
      "MAE: 1.074\n",
      "MSE: 1.883\n",
      "RMSE: 1.372\n",
      "R2: 0.421\n",
      "Correlation: 0.667\n",
      "Accuracy_±0.5: 0.308\n",
      "Accuracy_±1.0: 0.551\n",
      "Accuracy_±1.5: 0.736\n",
      "MAE_score_1: 3.319\n",
      "MAE_score_2: 1.735\n",
      "MAE_score_3: 1.470\n",
      "MAE_score_4: 0.969\n",
      "MAE_score_5: 0.916\n",
      "MAE_score_6: 0.971\n",
      "MAE_score_7: 0.943\n",
      "MAE_score_8: 1.191\n",
      "MAE_score_9: 1.315\n",
      "MAE_score_10: 0.889\n"
     ]
    }
   ],
   "execution_count": 126
  },
  {
   "metadata": {},
   "cell_type": "code",
   "source": "# df.drop(columns=['log_members'], inplace=True)",
   "id": "8bb4f310641af0ea",
   "outputs": [],
   "execution_count": null
  },
  {
   "metadata": {},
   "cell_type": "code",
   "source": [
    "# importances = pd.Series(model_weighted.feature_importances_, index=X.columns)\n",
    "# importances.nlargest(20).plot(kind='barh', figsize=(8,6))\n",
    "# plt.title(\"Top-20 Feature Importances\")\n",
    "# plt.show()"
   ],
   "id": "49cba5214c1289e8",
   "outputs": [],
   "execution_count": null
  }
 ],
 "metadata": {
  "kernelspec": {
   "display_name": "Python 3",
   "language": "python",
   "name": "python3"
  },
  "language_info": {
   "codemirror_mode": {
    "name": "ipython",
    "version": 2
   },
   "file_extension": ".py",
   "mimetype": "text/x-python",
   "name": "python",
   "nbconvert_exporter": "python",
   "pygments_lexer": "ipython2",
   "version": "2.7.6"
  }
 },
 "nbformat": 4,
 "nbformat_minor": 5
}
