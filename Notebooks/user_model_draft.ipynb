{
 "cells": [
  {
   "metadata": {},
   "cell_type": "code",
   "source": [
    "import pandas as pd\n",
    "import requests\n",
    "import numpy as np\n",
    "from sklearn.model_selection import train_test_split\n",
    "import matplotlib.pyplot as plt\n",
    "from sklearn.model_selection import cross_val_score, KFold, RepeatedKFold\n",
    "import time \n",
    "from sklearn.preprocessing import StandardScaler\n",
    "from sklearn.ensemble import RandomForestRegressor\n",
    "from sklearn.metrics import mean_squared_error, r2_score, mean_absolute_error\n",
    "from sklearn.utils.class_weight import compute_sample_weight\n",
    "import seaborn as sb"
   ],
   "id": "7a020d8717b4e494",
   "outputs": [],
   "execution_count": null
  },
  {
   "metadata": {
    "ExecuteTime": {
     "end_time": "2025-09-29T19:58:59.151645Z",
     "start_time": "2025-09-29T19:58:59.135899Z"
    }
   },
   "cell_type": "code",
   "source": [
    "def get_user_animelist(username: str, client_id: str):\n",
    "    # Loads list of anime from MAL for a given user\n",
    "    url = f'https://api.myanimelist.net/v2/users/{username}/animelist?limit=500'\n",
    "    headers = {\n",
    "        'X-MAL-CLIENT-ID': client_id\n",
    "    }\n",
    "    params = {\n",
    "        'fields': 'id, title, list_status{score,status}, start_season{year}, mean, genres, popularity, media_type, rating, num_episodes, studios, num_list_users,favorites'\n",
    "    }\n",
    "\n",
    "    all_data = []\n",
    "    next_page = url\n",
    "\n",
    "    while next_page:\n",
    "        response = requests.get(next_page, headers=headers, params=params if next_page == url else None)\n",
    "        if response.status_code != 200:\n",
    "            raise ValueError(f\"Error with API request: {response.status_code} - {response.text}\")\n",
    "\n",
    "        data = response.json()\n",
    "        all_data.extend(data['data'])\n",
    "        next_page = data.get(\"paging\", {}).get(\"next\")\n",
    "\n",
    "        print(f\"Loaded {len(all_data)} anime...\")\n",
    "\n",
    "    return all_data"
   ],
   "id": "d7052a10b430a951",
   "outputs": [],
   "execution_count": 195
  },
  {
   "metadata": {
    "ExecuteTime": {
     "end_time": "2025-09-29T19:58:59.464714Z",
     "start_time": "2025-09-29T19:58:59.439001Z"
    }
   },
   "cell_type": "code",
   "source": [
    "def to_dataframe(all_data):\n",
    "    rows = []\n",
    "    for item in all_data:\n",
    "        anime = item['node']\n",
    "        score = item.get('list_status', {}).get('score')\n",
    "        status = item.get('list_status', {}).get('status')\n",
    "        # num_episodes_watched = item.get('list_status', {}).get('num_episodes_watched')\n",
    "        year = item.get('node', {}).get('start_season', {}).get('year')\n",
    "        rows.append({\n",
    "            \"id\": anime['id'],\n",
    "            \"title\": anime['title'],\n",
    "            \"mean\": anime.get('mean'),\n",
    "            \"genres\": [g['name'] for g in anime.get('genres', [])],\n",
    "            \"studios\": [s['name'] for s in anime.get('studios', [])],\n",
    "            \"rating\": anime.get('rating'),\n",
    "            \"year\": year,\n",
    "            \"type\": anime.get('media_type'),\n",
    "            \"popularity\": anime.get('popularity'),\n",
    "            \"score\": score,\n",
    "            \"status\": status,\n",
    "            \"members\": anime['num_list_users'],\n",
    "            \"num_episodes\": anime['num_episodes'],\n",
    "        })\n",
    "    \n",
    "    df = pd.DataFrame(rows)\n",
    "    df['studios'] = df['studios'].str.join(\", \")\n",
    "    df['genres'] = df['genres'].str.join(\", \")\n",
    "\n",
    "    return df"
   ],
   "id": "a2e71aabff7eb53a",
   "outputs": [],
   "execution_count": 196
  },
  {
   "metadata": {
    "ExecuteTime": {
     "end_time": "2025-09-29T19:58:59.742988Z",
     "start_time": "2025-09-29T19:58:59.717092Z"
    }
   },
   "cell_type": "code",
   "source": [
    "def comprehensive_evaluation(y_true, y_pred):\n",
    "    \"\"\"complex evaluation\"\"\"\n",
    "    \n",
    "    mae = mean_absolute_error(y_true, y_pred)\n",
    "    mse = mean_squared_error(y_true, y_pred)\n",
    "    rmse = np.sqrt(mse)\n",
    "    r2 = r2_score(y_true, y_pred)\n",
    "    \n",
    "    accuracy_05 = np.mean(np.abs(y_true - y_pred) <= 0.5)\n",
    "    accuracy_1 = np.mean(np.abs(y_true - y_pred) <= 1.0)\n",
    "    accuracy_15 = np.mean(np.abs(y_true - y_pred) <= 1.5)\n",
    "    \n",
    "    score_metrics = {}\n",
    "    for score in range(1, 11):\n",
    "        mask = (y_true == score)\n",
    "        if mask.sum() > 0:\n",
    "            score_mae = mean_absolute_error(y_true[mask], y_pred[mask])\n",
    "            score_metrics[f'MAE_score_{score}'] = score_mae\n",
    "    \n",
    "    correlation = np.corrcoef(y_true, y_pred)[0, 1]\n",
    "    \n",
    "    return {\n",
    "        'MAE': mae,\n",
    "        'MSE': mse, \n",
    "        'RMSE': rmse,\n",
    "        'R2': r2,\n",
    "        'Correlation': correlation,\n",
    "        'Accuracy_±0.5': accuracy_05,\n",
    "        'Accuracy_±1.0': accuracy_1,\n",
    "        'Accuracy_±1.5': accuracy_15,\n",
    "        **score_metrics\n",
    "    }\n"
   ],
   "id": "3b05124ae04492fb",
   "outputs": [],
   "execution_count": 197
  },
  {
   "metadata": {
    "ExecuteTime": {
     "end_time": "2025-09-29T19:59:00.057291Z",
     "start_time": "2025-09-29T19:59:00.047669Z"
    }
   },
   "cell_type": "code",
   "source": [
    "import configparser\n",
    "\n",
    "config = configparser.ConfigParser()\n",
    "config.read('../config.ini')\n",
    "USER_NAME = config.get('USER','USER_NAME').strip()\n",
    "CLIENT_ID = config.get('USER','CLIENT_ID').strip()"
   ],
   "id": "2b3d7ad773319581",
   "outputs": [],
   "execution_count": 198
  },
  {
   "metadata": {
    "ExecuteTime": {
     "end_time": "2025-09-29T19:59:08.841325Z",
     "start_time": "2025-09-29T19:59:00.382630Z"
    }
   },
   "cell_type": "code",
   "source": "data = get_user_animelist(USER_NAME, CLIENT_ID)",
   "id": "e493f342e7d95fb8",
   "outputs": [
    {
     "name": "stdout",
     "output_type": "stream",
     "text": [
      "Loaded 500 anime...\n",
      "Loaded 1000 anime...\n",
      "Loaded 1500 anime...\n",
      "Loaded 2000 anime...\n",
      "Loaded 2500 anime...\n",
      "Loaded 3000 anime...\n",
      "Loaded 3500 anime...\n",
      "Loaded 4000 anime...\n",
      "Loaded 4500 anime...\n",
      "Loaded 5000 anime...\n",
      "Loaded 5054 anime...\n"
     ]
    }
   ],
   "execution_count": 199
  },
  {
   "metadata": {
    "ExecuteTime": {
     "end_time": "2025-09-29T19:59:08.904830Z",
     "start_time": "2025-09-29T19:59:08.845354Z"
    }
   },
   "cell_type": "code",
   "source": "df = to_dataframe(data)",
   "id": "4e1e4c2201d6987f",
   "outputs": [],
   "execution_count": 200
  },
  {
   "metadata": {
    "ExecuteTime": {
     "end_time": "2025-09-29T19:59:08.920881Z",
     "start_time": "2025-09-29T19:59:08.904830Z"
    }
   },
   "cell_type": "code",
   "source": "df.tail(10)",
   "id": "c4783076b6adc94e",
   "outputs": [
    {
     "data": {
      "text/plain": [
       "         id                                              title  mean  \\\n",
       "5044   3354                               Zombie-Loan Specials  6.97   \n",
       "5045  37976                                    Zombieland Saga  7.50   \n",
       "5046  50159          Zombieland Saga Movie: Yumeginga Paradise   NaN   \n",
       "5047  40174                            Zombieland Saga Revenge  7.99   \n",
       "5048  59421  Zutaboro Reijou wa Ane no Moto Konyakusha ni D...  7.36   \n",
       "5049  31245  Zutto Mae kara Suki deshita. Kokuhaku Jikkou I...  7.20   \n",
       "5050  52034                                       [Oshi no Ko]  8.56   \n",
       "5051  55791                            [Oshi no Ko] 2nd Season  8.55   \n",
       "5052  60058                            [Oshi no Ko] 3rd Season   NaN   \n",
       "5053   1692                                            _Summer  5.55   \n",
       "\n",
       "                                                 genres           studios  \\\n",
       "5044              Action, Horror, Shounen, Supernatural          XEBEC M2   \n",
       "5045  Award Winning, Comedy, Idols (Female), Music, ...             MAPPA   \n",
       "5046  Comedy, Idols (Female), Music, Parody, Superna...             MAPPA   \n",
       "5047  Comedy, Idols (Female), Music, Parody, Superna...             MAPPA   \n",
       "5048                              Drama, Josei, Romance     LandQ studios   \n",
       "5049                                    Romance, School  Qualia Animation   \n",
       "5050  Award Winning, Drama, Reincarnation, Seinen, S...         Doga Kobo   \n",
       "5051              Drama, Reincarnation, Seinen, Showbiz         Doga Kobo   \n",
       "5052              Drama, Reincarnation, Seinen, Showbiz         Doga Kobo   \n",
       "5053                              Drama, Harem, Romance         Rikuentai   \n",
       "\n",
       "     rating    year     type  popularity  score         status  members  \\\n",
       "5044  pg_13  2008.0  special        4498      5      completed    29784   \n",
       "5045      r  2018.0       tv         463      9      completed   523459   \n",
       "5046      r  2025.0    movie        4244      0  plan_to_watch    33868   \n",
       "5047      r  2021.0       tv        1163      8      completed   232665   \n",
       "5048  pg_13  2025.0       tv        3615      5      completed    46248   \n",
       "5049  pg_13  2016.0    movie        1076      5      completed   249713   \n",
       "5050  pg_13  2023.0       tv         188      9      completed   983653   \n",
       "5051  pg_13  2024.0       tv         532      8      completed   467947   \n",
       "5052  pg_13  2026.0       tv        2074      0  plan_to_watch   117663   \n",
       "5053  pg_13  2006.0      ova        6682      2      completed    11199   \n",
       "\n",
       "      num_episodes  \n",
       "5044             2  \n",
       "5045            12  \n",
       "5046             1  \n",
       "5047            12  \n",
       "5048            12  \n",
       "5049             1  \n",
       "5050            11  \n",
       "5051            13  \n",
       "5052             0  \n",
       "5053             2  "
      ],
      "text/html": [
       "<div>\n",
       "<style scoped>\n",
       "    .dataframe tbody tr th:only-of-type {\n",
       "        vertical-align: middle;\n",
       "    }\n",
       "\n",
       "    .dataframe tbody tr th {\n",
       "        vertical-align: top;\n",
       "    }\n",
       "\n",
       "    .dataframe thead th {\n",
       "        text-align: right;\n",
       "    }\n",
       "</style>\n",
       "<table border=\"1\" class=\"dataframe\">\n",
       "  <thead>\n",
       "    <tr style=\"text-align: right;\">\n",
       "      <th></th>\n",
       "      <th>id</th>\n",
       "      <th>title</th>\n",
       "      <th>mean</th>\n",
       "      <th>genres</th>\n",
       "      <th>studios</th>\n",
       "      <th>rating</th>\n",
       "      <th>year</th>\n",
       "      <th>type</th>\n",
       "      <th>popularity</th>\n",
       "      <th>score</th>\n",
       "      <th>status</th>\n",
       "      <th>members</th>\n",
       "      <th>num_episodes</th>\n",
       "    </tr>\n",
       "  </thead>\n",
       "  <tbody>\n",
       "    <tr>\n",
       "      <th>5044</th>\n",
       "      <td>3354</td>\n",
       "      <td>Zombie-Loan Specials</td>\n",
       "      <td>6.97</td>\n",
       "      <td>Action, Horror, Shounen, Supernatural</td>\n",
       "      <td>XEBEC M2</td>\n",
       "      <td>pg_13</td>\n",
       "      <td>2008.0</td>\n",
       "      <td>special</td>\n",
       "      <td>4498</td>\n",
       "      <td>5</td>\n",
       "      <td>completed</td>\n",
       "      <td>29784</td>\n",
       "      <td>2</td>\n",
       "    </tr>\n",
       "    <tr>\n",
       "      <th>5045</th>\n",
       "      <td>37976</td>\n",
       "      <td>Zombieland Saga</td>\n",
       "      <td>7.50</td>\n",
       "      <td>Award Winning, Comedy, Idols (Female), Music, ...</td>\n",
       "      <td>MAPPA</td>\n",
       "      <td>r</td>\n",
       "      <td>2018.0</td>\n",
       "      <td>tv</td>\n",
       "      <td>463</td>\n",
       "      <td>9</td>\n",
       "      <td>completed</td>\n",
       "      <td>523459</td>\n",
       "      <td>12</td>\n",
       "    </tr>\n",
       "    <tr>\n",
       "      <th>5046</th>\n",
       "      <td>50159</td>\n",
       "      <td>Zombieland Saga Movie: Yumeginga Paradise</td>\n",
       "      <td>NaN</td>\n",
       "      <td>Comedy, Idols (Female), Music, Parody, Superna...</td>\n",
       "      <td>MAPPA</td>\n",
       "      <td>r</td>\n",
       "      <td>2025.0</td>\n",
       "      <td>movie</td>\n",
       "      <td>4244</td>\n",
       "      <td>0</td>\n",
       "      <td>plan_to_watch</td>\n",
       "      <td>33868</td>\n",
       "      <td>1</td>\n",
       "    </tr>\n",
       "    <tr>\n",
       "      <th>5047</th>\n",
       "      <td>40174</td>\n",
       "      <td>Zombieland Saga Revenge</td>\n",
       "      <td>7.99</td>\n",
       "      <td>Comedy, Idols (Female), Music, Parody, Superna...</td>\n",
       "      <td>MAPPA</td>\n",
       "      <td>r</td>\n",
       "      <td>2021.0</td>\n",
       "      <td>tv</td>\n",
       "      <td>1163</td>\n",
       "      <td>8</td>\n",
       "      <td>completed</td>\n",
       "      <td>232665</td>\n",
       "      <td>12</td>\n",
       "    </tr>\n",
       "    <tr>\n",
       "      <th>5048</th>\n",
       "      <td>59421</td>\n",
       "      <td>Zutaboro Reijou wa Ane no Moto Konyakusha ni D...</td>\n",
       "      <td>7.36</td>\n",
       "      <td>Drama, Josei, Romance</td>\n",
       "      <td>LandQ studios</td>\n",
       "      <td>pg_13</td>\n",
       "      <td>2025.0</td>\n",
       "      <td>tv</td>\n",
       "      <td>3615</td>\n",
       "      <td>5</td>\n",
       "      <td>completed</td>\n",
       "      <td>46248</td>\n",
       "      <td>12</td>\n",
       "    </tr>\n",
       "    <tr>\n",
       "      <th>5049</th>\n",
       "      <td>31245</td>\n",
       "      <td>Zutto Mae kara Suki deshita. Kokuhaku Jikkou I...</td>\n",
       "      <td>7.20</td>\n",
       "      <td>Romance, School</td>\n",
       "      <td>Qualia Animation</td>\n",
       "      <td>pg_13</td>\n",
       "      <td>2016.0</td>\n",
       "      <td>movie</td>\n",
       "      <td>1076</td>\n",
       "      <td>5</td>\n",
       "      <td>completed</td>\n",
       "      <td>249713</td>\n",
       "      <td>1</td>\n",
       "    </tr>\n",
       "    <tr>\n",
       "      <th>5050</th>\n",
       "      <td>52034</td>\n",
       "      <td>[Oshi no Ko]</td>\n",
       "      <td>8.56</td>\n",
       "      <td>Award Winning, Drama, Reincarnation, Seinen, S...</td>\n",
       "      <td>Doga Kobo</td>\n",
       "      <td>pg_13</td>\n",
       "      <td>2023.0</td>\n",
       "      <td>tv</td>\n",
       "      <td>188</td>\n",
       "      <td>9</td>\n",
       "      <td>completed</td>\n",
       "      <td>983653</td>\n",
       "      <td>11</td>\n",
       "    </tr>\n",
       "    <tr>\n",
       "      <th>5051</th>\n",
       "      <td>55791</td>\n",
       "      <td>[Oshi no Ko] 2nd Season</td>\n",
       "      <td>8.55</td>\n",
       "      <td>Drama, Reincarnation, Seinen, Showbiz</td>\n",
       "      <td>Doga Kobo</td>\n",
       "      <td>pg_13</td>\n",
       "      <td>2024.0</td>\n",
       "      <td>tv</td>\n",
       "      <td>532</td>\n",
       "      <td>8</td>\n",
       "      <td>completed</td>\n",
       "      <td>467947</td>\n",
       "      <td>13</td>\n",
       "    </tr>\n",
       "    <tr>\n",
       "      <th>5052</th>\n",
       "      <td>60058</td>\n",
       "      <td>[Oshi no Ko] 3rd Season</td>\n",
       "      <td>NaN</td>\n",
       "      <td>Drama, Reincarnation, Seinen, Showbiz</td>\n",
       "      <td>Doga Kobo</td>\n",
       "      <td>pg_13</td>\n",
       "      <td>2026.0</td>\n",
       "      <td>tv</td>\n",
       "      <td>2074</td>\n",
       "      <td>0</td>\n",
       "      <td>plan_to_watch</td>\n",
       "      <td>117663</td>\n",
       "      <td>0</td>\n",
       "    </tr>\n",
       "    <tr>\n",
       "      <th>5053</th>\n",
       "      <td>1692</td>\n",
       "      <td>_Summer</td>\n",
       "      <td>5.55</td>\n",
       "      <td>Drama, Harem, Romance</td>\n",
       "      <td>Rikuentai</td>\n",
       "      <td>pg_13</td>\n",
       "      <td>2006.0</td>\n",
       "      <td>ova</td>\n",
       "      <td>6682</td>\n",
       "      <td>2</td>\n",
       "      <td>completed</td>\n",
       "      <td>11199</td>\n",
       "      <td>2</td>\n",
       "    </tr>\n",
       "  </tbody>\n",
       "</table>\n",
       "</div>"
      ]
     },
     "execution_count": 201,
     "metadata": {},
     "output_type": "execute_result"
    }
   ],
   "execution_count": 201
  },
  {
   "metadata": {
    "ExecuteTime": {
     "end_time": "2025-09-29T19:59:08.940812Z",
     "start_time": "2025-09-29T19:59:08.920881Z"
    }
   },
   "cell_type": "code",
   "source": [
    "df[\"studios\"].replace(to_replace=\"\", value=\"Unknown\", inplace=True)\n",
    "df[\"genres\"].replace(to_replace=\"\", value=\"Unknown\", inplace=True)\n",
    "df = df.dropna(subset=['score'])"
   ],
   "id": "656c118c51421dfd",
   "outputs": [
    {
     "name": "stderr",
     "output_type": "stream",
     "text": [
      "C:\\Users\\dobre\\AppData\\Local\\Temp\\ipykernel_23600\\87429005.py:1: FutureWarning: A value is trying to be set on a copy of a DataFrame or Series through chained assignment using an inplace method.\n",
      "The behavior will change in pandas 3.0. This inplace method will never work because the intermediate object on which we are setting values always behaves as a copy.\n",
      "\n",
      "For example, when doing 'df[col].method(value, inplace=True)', try using 'df.method({col: value}, inplace=True)' or df[col] = df[col].method(value) instead, to perform the operation inplace on the original object.\n",
      "\n",
      "\n",
      "  df[\"studios\"].replace(to_replace=\"\", value=\"Unknown\", inplace=True)\n",
      "C:\\Users\\dobre\\AppData\\Local\\Temp\\ipykernel_23600\\87429005.py:2: FutureWarning: A value is trying to be set on a copy of a DataFrame or Series through chained assignment using an inplace method.\n",
      "The behavior will change in pandas 3.0. This inplace method will never work because the intermediate object on which we are setting values always behaves as a copy.\n",
      "\n",
      "For example, when doing 'df[col].method(value, inplace=True)', try using 'df.method({col: value}, inplace=True)' or df[col] = df[col].method(value) instead, to perform the operation inplace on the original object.\n",
      "\n",
      "\n",
      "  df[\"genres\"].replace(to_replace=\"\", value=\"Unknown\", inplace=True)\n"
     ]
    }
   ],
   "execution_count": 202
  },
  {
   "metadata": {
    "ExecuteTime": {
     "end_time": "2025-09-29T19:59:49.127153Z",
     "start_time": "2025-09-29T19:59:49.099730Z"
    }
   },
   "cell_type": "code",
   "source": "display(df[\"score\"].value_counts().head(11))",
   "id": "f269c82f26651821",
   "outputs": [
    {
     "data": {
      "text/plain": [
       "score\n",
       "0     1329\n",
       "5      793\n",
       "7      756\n",
       "6      574\n",
       "8      517\n",
       "4      434\n",
       "3      350\n",
       "9      151\n",
       "2      114\n",
       "10      25\n",
       "1       11\n",
       "Name: count, dtype: int64"
      ]
     },
     "metadata": {},
     "output_type": "display_data"
    }
   ],
   "execution_count": 203
  },
  {
   "metadata": {
    "ExecuteTime": {
     "end_time": "2025-09-29T19:59:56.375937Z",
     "start_time": "2025-09-29T19:59:56.352560Z"
    }
   },
   "cell_type": "code",
   "source": "df.drop(columns=['title'], inplace=True)",
   "id": "cb5cda6ffb3bb23c",
   "outputs": [],
   "execution_count": 204
  },
  {
   "metadata": {
    "ExecuteTime": {
     "end_time": "2025-09-29T19:59:57.304504Z",
     "start_time": "2025-09-29T19:59:57.284394Z"
    }
   },
   "cell_type": "code",
   "source": [
    "df = df[df['score'] > 0].copy()\n",
    "    \n",
    "df['mean'] = df['mean'].fillna(df.groupby('type')['mean'].transform('median'))\n",
    "    \n",
    "categorical_cols = ['type', 'rating', 'status']\n",
    "for col in categorical_cols:\n",
    "    df[col] = df[col].fillna('Unknown')"
   ],
   "id": "6fc3a7bc389d858e",
   "outputs": [],
   "execution_count": 205
  },
  {
   "metadata": {
    "ExecuteTime": {
     "end_time": "2025-09-29T19:59:58.120864Z",
     "start_time": "2025-09-29T19:59:58.107119Z"
    }
   },
   "cell_type": "code",
   "source": [
    "df['year'] = df['year'].fillna(df['year'].mode()[0])\n",
    "df['num_episodes'] = df['num_episodes'].fillna(df['num_episodes'].mode()[0])"
   ],
   "id": "bb92a571b7833b0f",
   "outputs": [],
   "execution_count": 206
  },
  {
   "metadata": {
    "ExecuteTime": {
     "end_time": "2025-09-29T19:59:58.556783Z",
     "start_time": "2025-09-29T19:59:58.541003Z"
    }
   },
   "cell_type": "code",
   "source": "df['popularity'] = df['popularity'].fillna(df['popularity'].median())",
   "id": "822f30ae0069e0dd",
   "outputs": [],
   "execution_count": 207
  },
  {
   "metadata": {
    "ExecuteTime": {
     "end_time": "2025-09-29T19:59:58.973688Z",
     "start_time": "2025-09-29T19:59:58.940473Z"
    }
   },
   "cell_type": "code",
   "source": [
    "df['anime_age'] = 2025 - df['year']\n",
    "df['anime_age'] = df['anime_age'].astype(int)\n",
    "df.drop(columns=['year'], inplace=True)"
   ],
   "id": "48ad632da83ec0f2",
   "outputs": [],
   "execution_count": 208
  },
  {
   "metadata": {
    "ExecuteTime": {
     "end_time": "2025-09-29T19:59:59.394840Z",
     "start_time": "2025-09-29T19:59:59.374581Z"
    }
   },
   "cell_type": "code",
   "source": [
    "df['log_members'] = np.log1p(df['members'])\n",
    "df.drop(columns=['id', 'members'], inplace=True)"
   ],
   "id": "96c72ca71b313fb9",
   "outputs": [],
   "execution_count": 209
  },
  {
   "metadata": {
    "ExecuteTime": {
     "end_time": "2025-09-29T20:00:00.242703Z",
     "start_time": "2025-09-29T19:59:59.875004Z"
    }
   },
   "cell_type": "code",
   "source": [
    "# Get dummy variables for each unique genre\n",
    "genre_dummies = (\n",
    "    df['genres']\n",
    "    .str.split(', ', expand=True) \n",
    "    .stack()       \n",
    "    .str.get_dummies()         \n",
    "    .groupby(level=0)         \n",
    "    .sum()                    \n",
    "    .add_prefix('Genre_')  \n",
    ")\n",
    "\n",
    "df.drop(columns=['genres'], inplace=True)"
   ],
   "id": "9d52098ed6f3cf6f",
   "outputs": [],
   "execution_count": 210
  },
  {
   "metadata": {
    "ExecuteTime": {
     "end_time": "2025-09-29T20:00:00.875743Z",
     "start_time": "2025-09-29T20:00:00.853955Z"
    }
   },
   "cell_type": "code",
   "source": "df = pd.concat([df, genre_dummies], axis=1)",
   "id": "a87bf71c326a8336",
   "outputs": [],
   "execution_count": 211
  },
  {
   "metadata": {
    "ExecuteTime": {
     "end_time": "2025-09-29T20:00:01.384534Z",
     "start_time": "2025-09-29T20:00:01.367577Z"
    }
   },
   "cell_type": "code",
   "source": [
    "genre_columns = [col for col in df.columns if col.startswith('Genre_')]\n",
    "\n",
    "genre_counts = df[genre_columns].sum().sort_values(ascending=False)\n",
    "print(genre_counts)"
   ],
   "id": "1bb6561a86cbb474",
   "outputs": [
    {
     "name": "stdout",
     "output_type": "stream",
     "text": [
      "Genre_Action         1480\n",
      "Genre_Comedy         1335\n",
      "Genre_Fantasy         996\n",
      "Genre_School          918\n",
      "Genre_Romance         871\n",
      "                     ... \n",
      "Genre_Educational       6\n",
      "Genre_Hentai            2\n",
      "Genre_Boys Love         2\n",
      "Genre_Erotica           2\n",
      "Genre_Unknown           1\n",
      "Length: 79, dtype: int64\n"
     ]
    }
   ],
   "execution_count": 212
  },
  {
   "metadata": {
    "ExecuteTime": {
     "end_time": "2025-09-29T20:00:02.846576Z",
     "start_time": "2025-09-29T20:00:02.824847Z"
    }
   },
   "cell_type": "code",
   "source": [
    "top_genres = genre_counts.nlargest(40).index\n",
    "antitop_genres = genre_counts.nsmallest(20).index\n",
    "\n",
    "other_genres = [\n",
    "    col for col in genre_columns\n",
    "    if col not in top_genres and col not in antitop_genres\n",
    "]\n",
    "\n",
    "df['Genre_Rare'] = df[antitop_genres].max(axis=1)\n",
    "df['Genre_Other'] = df[other_genres].max(axis=1)\n",
    "df.drop(columns=other_genres, inplace=True)\n",
    "df.drop(columns=antitop_genres, inplace=True)"
   ],
   "id": "69cb1465197951a5",
   "outputs": [],
   "execution_count": 213
  },
  {
   "metadata": {
    "ExecuteTime": {
     "end_time": "2025-09-29T20:00:03.245029Z",
     "start_time": "2025-09-29T20:00:03.227537Z"
    }
   },
   "cell_type": "code",
   "source": [
    "type_dummies = pd.get_dummies(df['type'], prefix='Type')\n",
    "df = pd.concat([df, type_dummies], axis=1)\n",
    "df.drop(columns=['type'], inplace=True)"
   ],
   "id": "bd71a70d384c6a63",
   "outputs": [],
   "execution_count": 214
  },
  {
   "metadata": {
    "ExecuteTime": {
     "end_time": "2025-09-29T20:00:03.605505Z",
     "start_time": "2025-09-29T20:00:03.580662Z"
    }
   },
   "cell_type": "code",
   "source": [
    "top_studios = df['studios'].value_counts().nlargest(10).index\n",
    "print(top_studios)"
   ],
   "id": "2f46c4610178dbe0",
   "outputs": [
    {
     "name": "stdout",
     "output_type": "stream",
     "text": [
      "Index(['J.C.Staff', 'A-1 Pictures', 'Madhouse', 'Studio Deen', 'Sunrise',\n",
      "       'Production I.G', 'Bones', 'SILVER LINK.', 'Gonzo', 'Toei Animation'],\n",
      "      dtype='object', name='studios')\n"
     ]
    }
   ],
   "execution_count": 215
  },
  {
   "metadata": {
    "ExecuteTime": {
     "end_time": "2025-09-29T20:00:04.006650Z",
     "start_time": "2025-09-29T20:00:03.998919Z"
    }
   },
   "cell_type": "code",
   "source": "df['studios'] = df['studios'].apply(lambda x: x if x in top_studios else 'Studios_Other')",
   "id": "8094fbd8565deb33",
   "outputs": [],
   "execution_count": 216
  },
  {
   "metadata": {
    "ExecuteTime": {
     "end_time": "2025-09-29T20:00:04.568250Z",
     "start_time": "2025-09-29T20:00:04.552315Z"
    }
   },
   "cell_type": "code",
   "source": [
    "studio_dummies = pd.get_dummies(df['studios'], prefix='Studios')\n",
    "df = pd.concat([df, studio_dummies], axis=1)\n",
    "df.drop(columns=['studios'], inplace=True)"
   ],
   "id": "ac0c9e49f86d4346",
   "outputs": [],
   "execution_count": 217
  },
  {
   "metadata": {
    "ExecuteTime": {
     "end_time": "2025-09-29T20:00:05.282264Z",
     "start_time": "2025-09-29T20:00:05.258709Z"
    }
   },
   "cell_type": "code",
   "source": [
    "rating_dummies = pd.get_dummies(df['rating'], prefix='Rating')\n",
    "df = pd.concat([df, rating_dummies], axis=1)\n",
    "df.drop(columns=['rating'], inplace=True)"
   ],
   "id": "126fb5dbd378ec10",
   "outputs": [],
   "execution_count": 218
  },
  {
   "metadata": {
    "ExecuteTime": {
     "end_time": "2025-09-29T20:00:05.736955Z",
     "start_time": "2025-09-29T20:00:05.705083Z"
    }
   },
   "cell_type": "code",
   "source": [
    "status_dummies = pd.get_dummies(df['status'], prefix='Status')\n",
    "df = pd.concat([df, status_dummies], axis=1)\n",
    "df.drop(columns=['status'], inplace=True)"
   ],
   "id": "bbca1d6b46517b34",
   "outputs": [],
   "execution_count": 219
  },
  {
   "metadata": {
    "ExecuteTime": {
     "end_time": "2025-09-29T20:00:06.334705Z",
     "start_time": "2025-09-29T20:00:06.318628Z"
    }
   },
   "cell_type": "code",
   "source": [
    "bool_cols = df.select_dtypes('bool').columns\n",
    "\n",
    "df[bool_cols] = df[bool_cols].astype(int)"
   ],
   "id": "912256dec29366ff",
   "outputs": [],
   "execution_count": 220
  },
  {
   "metadata": {
    "ExecuteTime": {
     "end_time": "2025-09-29T20:00:07.073127Z",
     "start_time": "2025-09-29T20:00:06.965340Z"
    }
   },
   "cell_type": "code",
   "source": "df.drop(columns=['Genre_Unknown'], inplace=True)",
   "id": "ddcccea889c0e4c",
   "outputs": [
    {
     "ename": "KeyError",
     "evalue": "\"['Genre_Unknown'] not found in axis\"",
     "output_type": "error",
     "traceback": [
      "\u001B[1;31m---------------------------------------------------------------------------\u001B[0m",
      "\u001B[1;31mKeyError\u001B[0m                                  Traceback (most recent call last)",
      "Cell \u001B[1;32mIn[221], line 1\u001B[0m\n\u001B[1;32m----> 1\u001B[0m \u001B[43mdf\u001B[49m\u001B[38;5;241;43m.\u001B[39;49m\u001B[43mdrop\u001B[49m\u001B[43m(\u001B[49m\u001B[43mcolumns\u001B[49m\u001B[38;5;241;43m=\u001B[39;49m\u001B[43m[\u001B[49m\u001B[38;5;124;43m'\u001B[39;49m\u001B[38;5;124;43mGenre_Unknown\u001B[39;49m\u001B[38;5;124;43m'\u001B[39;49m\u001B[43m]\u001B[49m\u001B[43m,\u001B[49m\u001B[43m \u001B[49m\u001B[43minplace\u001B[49m\u001B[38;5;241;43m=\u001B[39;49m\u001B[38;5;28;43;01mTrue\u001B[39;49;00m\u001B[43m)\u001B[49m\n",
      "File \u001B[1;32m~\\Documents\\Code\\Anime_Rating_Project\\venv\\lib\\site-packages\\pandas\\core\\frame.py:5581\u001B[0m, in \u001B[0;36mDataFrame.drop\u001B[1;34m(self, labels, axis, index, columns, level, inplace, errors)\u001B[0m\n\u001B[0;32m   5433\u001B[0m \u001B[38;5;28;01mdef\u001B[39;00m \u001B[38;5;21mdrop\u001B[39m(\n\u001B[0;32m   5434\u001B[0m     \u001B[38;5;28mself\u001B[39m,\n\u001B[0;32m   5435\u001B[0m     labels: IndexLabel \u001B[38;5;241m|\u001B[39m \u001B[38;5;28;01mNone\u001B[39;00m \u001B[38;5;241m=\u001B[39m \u001B[38;5;28;01mNone\u001B[39;00m,\n\u001B[1;32m   (...)\u001B[0m\n\u001B[0;32m   5442\u001B[0m     errors: IgnoreRaise \u001B[38;5;241m=\u001B[39m \u001B[38;5;124m\"\u001B[39m\u001B[38;5;124mraise\u001B[39m\u001B[38;5;124m\"\u001B[39m,\n\u001B[0;32m   5443\u001B[0m ) \u001B[38;5;241m-\u001B[39m\u001B[38;5;241m>\u001B[39m DataFrame \u001B[38;5;241m|\u001B[39m \u001B[38;5;28;01mNone\u001B[39;00m:\n\u001B[0;32m   5444\u001B[0m \u001B[38;5;250m    \u001B[39m\u001B[38;5;124;03m\"\"\"\u001B[39;00m\n\u001B[0;32m   5445\u001B[0m \u001B[38;5;124;03m    Drop specified labels from rows or columns.\u001B[39;00m\n\u001B[0;32m   5446\u001B[0m \n\u001B[1;32m   (...)\u001B[0m\n\u001B[0;32m   5579\u001B[0m \u001B[38;5;124;03m            weight  1.0     0.8\u001B[39;00m\n\u001B[0;32m   5580\u001B[0m \u001B[38;5;124;03m    \"\"\"\u001B[39;00m\n\u001B[1;32m-> 5581\u001B[0m     \u001B[38;5;28;01mreturn\u001B[39;00m \u001B[38;5;28;43msuper\u001B[39;49m\u001B[43m(\u001B[49m\u001B[43m)\u001B[49m\u001B[38;5;241;43m.\u001B[39;49m\u001B[43mdrop\u001B[49m\u001B[43m(\u001B[49m\n\u001B[0;32m   5582\u001B[0m \u001B[43m        \u001B[49m\u001B[43mlabels\u001B[49m\u001B[38;5;241;43m=\u001B[39;49m\u001B[43mlabels\u001B[49m\u001B[43m,\u001B[49m\n\u001B[0;32m   5583\u001B[0m \u001B[43m        \u001B[49m\u001B[43maxis\u001B[49m\u001B[38;5;241;43m=\u001B[39;49m\u001B[43maxis\u001B[49m\u001B[43m,\u001B[49m\n\u001B[0;32m   5584\u001B[0m \u001B[43m        \u001B[49m\u001B[43mindex\u001B[49m\u001B[38;5;241;43m=\u001B[39;49m\u001B[43mindex\u001B[49m\u001B[43m,\u001B[49m\n\u001B[0;32m   5585\u001B[0m \u001B[43m        \u001B[49m\u001B[43mcolumns\u001B[49m\u001B[38;5;241;43m=\u001B[39;49m\u001B[43mcolumns\u001B[49m\u001B[43m,\u001B[49m\n\u001B[0;32m   5586\u001B[0m \u001B[43m        \u001B[49m\u001B[43mlevel\u001B[49m\u001B[38;5;241;43m=\u001B[39;49m\u001B[43mlevel\u001B[49m\u001B[43m,\u001B[49m\n\u001B[0;32m   5587\u001B[0m \u001B[43m        \u001B[49m\u001B[43minplace\u001B[49m\u001B[38;5;241;43m=\u001B[39;49m\u001B[43minplace\u001B[49m\u001B[43m,\u001B[49m\n\u001B[0;32m   5588\u001B[0m \u001B[43m        \u001B[49m\u001B[43merrors\u001B[49m\u001B[38;5;241;43m=\u001B[39;49m\u001B[43merrors\u001B[49m\u001B[43m,\u001B[49m\n\u001B[0;32m   5589\u001B[0m \u001B[43m    \u001B[49m\u001B[43m)\u001B[49m\n",
      "File \u001B[1;32m~\\Documents\\Code\\Anime_Rating_Project\\venv\\lib\\site-packages\\pandas\\core\\generic.py:4788\u001B[0m, in \u001B[0;36mNDFrame.drop\u001B[1;34m(self, labels, axis, index, columns, level, inplace, errors)\u001B[0m\n\u001B[0;32m   4786\u001B[0m \u001B[38;5;28;01mfor\u001B[39;00m axis, labels \u001B[38;5;129;01min\u001B[39;00m axes\u001B[38;5;241m.\u001B[39mitems():\n\u001B[0;32m   4787\u001B[0m     \u001B[38;5;28;01mif\u001B[39;00m labels \u001B[38;5;129;01mis\u001B[39;00m \u001B[38;5;129;01mnot\u001B[39;00m \u001B[38;5;28;01mNone\u001B[39;00m:\n\u001B[1;32m-> 4788\u001B[0m         obj \u001B[38;5;241m=\u001B[39m \u001B[43mobj\u001B[49m\u001B[38;5;241;43m.\u001B[39;49m\u001B[43m_drop_axis\u001B[49m\u001B[43m(\u001B[49m\u001B[43mlabels\u001B[49m\u001B[43m,\u001B[49m\u001B[43m \u001B[49m\u001B[43maxis\u001B[49m\u001B[43m,\u001B[49m\u001B[43m \u001B[49m\u001B[43mlevel\u001B[49m\u001B[38;5;241;43m=\u001B[39;49m\u001B[43mlevel\u001B[49m\u001B[43m,\u001B[49m\u001B[43m \u001B[49m\u001B[43merrors\u001B[49m\u001B[38;5;241;43m=\u001B[39;49m\u001B[43merrors\u001B[49m\u001B[43m)\u001B[49m\n\u001B[0;32m   4790\u001B[0m \u001B[38;5;28;01mif\u001B[39;00m inplace:\n\u001B[0;32m   4791\u001B[0m     \u001B[38;5;28mself\u001B[39m\u001B[38;5;241m.\u001B[39m_update_inplace(obj)\n",
      "File \u001B[1;32m~\\Documents\\Code\\Anime_Rating_Project\\venv\\lib\\site-packages\\pandas\\core\\generic.py:4830\u001B[0m, in \u001B[0;36mNDFrame._drop_axis\u001B[1;34m(self, labels, axis, level, errors, only_slice)\u001B[0m\n\u001B[0;32m   4828\u001B[0m         new_axis \u001B[38;5;241m=\u001B[39m axis\u001B[38;5;241m.\u001B[39mdrop(labels, level\u001B[38;5;241m=\u001B[39mlevel, errors\u001B[38;5;241m=\u001B[39merrors)\n\u001B[0;32m   4829\u001B[0m     \u001B[38;5;28;01melse\u001B[39;00m:\n\u001B[1;32m-> 4830\u001B[0m         new_axis \u001B[38;5;241m=\u001B[39m \u001B[43maxis\u001B[49m\u001B[38;5;241;43m.\u001B[39;49m\u001B[43mdrop\u001B[49m\u001B[43m(\u001B[49m\u001B[43mlabels\u001B[49m\u001B[43m,\u001B[49m\u001B[43m \u001B[49m\u001B[43merrors\u001B[49m\u001B[38;5;241;43m=\u001B[39;49m\u001B[43merrors\u001B[49m\u001B[43m)\u001B[49m\n\u001B[0;32m   4831\u001B[0m     indexer \u001B[38;5;241m=\u001B[39m axis\u001B[38;5;241m.\u001B[39mget_indexer(new_axis)\n\u001B[0;32m   4833\u001B[0m \u001B[38;5;66;03m# Case for non-unique axis\u001B[39;00m\n\u001B[0;32m   4834\u001B[0m \u001B[38;5;28;01melse\u001B[39;00m:\n",
      "File \u001B[1;32m~\\Documents\\Code\\Anime_Rating_Project\\venv\\lib\\site-packages\\pandas\\core\\indexes\\base.py:7070\u001B[0m, in \u001B[0;36mIndex.drop\u001B[1;34m(self, labels, errors)\u001B[0m\n\u001B[0;32m   7068\u001B[0m \u001B[38;5;28;01mif\u001B[39;00m mask\u001B[38;5;241m.\u001B[39many():\n\u001B[0;32m   7069\u001B[0m     \u001B[38;5;28;01mif\u001B[39;00m errors \u001B[38;5;241m!=\u001B[39m \u001B[38;5;124m\"\u001B[39m\u001B[38;5;124mignore\u001B[39m\u001B[38;5;124m\"\u001B[39m:\n\u001B[1;32m-> 7070\u001B[0m         \u001B[38;5;28;01mraise\u001B[39;00m \u001B[38;5;167;01mKeyError\u001B[39;00m(\u001B[38;5;124mf\u001B[39m\u001B[38;5;124m\"\u001B[39m\u001B[38;5;132;01m{\u001B[39;00mlabels[mask]\u001B[38;5;241m.\u001B[39mtolist()\u001B[38;5;132;01m}\u001B[39;00m\u001B[38;5;124m not found in axis\u001B[39m\u001B[38;5;124m\"\u001B[39m)\n\u001B[0;32m   7071\u001B[0m     indexer \u001B[38;5;241m=\u001B[39m indexer[\u001B[38;5;241m~\u001B[39mmask]\n\u001B[0;32m   7072\u001B[0m \u001B[38;5;28;01mreturn\u001B[39;00m \u001B[38;5;28mself\u001B[39m\u001B[38;5;241m.\u001B[39mdelete(indexer)\n",
      "\u001B[1;31mKeyError\u001B[0m: \"['Genre_Unknown'] not found in axis\""
     ]
    }
   ],
   "execution_count": 221
  },
  {
   "metadata": {
    "ExecuteTime": {
     "end_time": "2025-09-29T20:00:08.644777Z",
     "start_time": "2025-09-29T20:00:08.612759Z"
    }
   },
   "cell_type": "code",
   "source": [
    "correlation = df['mean'].corr(df['score'])\n",
    "print(correlation)"
   ],
   "id": "9316e3d81ba7f8c7",
   "outputs": [
    {
     "name": "stdout",
     "output_type": "stream",
     "text": [
      "0.6884308880423077\n"
     ]
    }
   ],
   "execution_count": 222
  },
  {
   "metadata": {
    "ExecuteTime": {
     "end_time": "2025-09-29T20:00:10.185615Z",
     "start_time": "2025-09-29T20:00:09.515091Z"
    }
   },
   "cell_type": "code",
   "source": [
    "corr_cols = ['score', 'mean', 'popularity', 'anime_age', \n",
    "             'log_members', \n",
    "             'Status_completed', 'Status_dropped', \n",
    "             'Rating_g', 'Rating_rx']\n",
    "\n",
    "corr_matrix = df[corr_cols].corr()\n",
    "sb.heatmap(corr_matrix, annot=True)\n",
    "plt.show()"
   ],
   "id": "ae5d323831dd7970",
   "outputs": [
    {
     "data": {
      "text/plain": [
       "<Figure size 640x480 with 2 Axes>"
      ],
      "image/png": "[encoded data removed]"
     },
     "metadata": {},
     "output_type": "display_data"
    }
   ],
   "execution_count": 223
  },
  {
   "metadata": {
    "ExecuteTime": {
     "end_time": "2025-09-29T20:00:18.567709Z",
     "start_time": "2025-09-29T20:00:18.520330Z"
    }
   },
   "cell_type": "code",
   "source": [
    "corr_with_score = df.corr()['score']\n",
    "high_corr_cols = corr_with_score[np.abs(corr_with_score) > 0.65].index\n",
    "high_corr_cols = high_corr_cols.drop('score')\n",
    "print(high_corr_cols)"
   ],
   "id": "e334eebf17fd9a70",
   "outputs": [
    {
     "name": "stdout",
     "output_type": "stream",
     "text": [
      "Index(['mean'], dtype='object')\n"
     ]
    }
   ],
   "execution_count": 224
  },
  {
   "metadata": {
    "ExecuteTime": {
     "end_time": "2025-09-29T20:00:19.329872Z",
     "start_time": "2025-09-29T20:00:19.314132Z"
    }
   },
   "cell_type": "code",
   "source": "df.drop(columns=high_corr_cols, inplace=True)",
   "id": "e4735cd8df6e9a53",
   "outputs": [],
   "execution_count": 225
  },
  {
   "metadata": {
    "ExecuteTime": {
     "end_time": "2025-09-29T20:00:20.087037Z",
     "start_time": "2025-09-29T20:00:20.071228Z"
    }
   },
   "cell_type": "code",
   "source": [
    "df['num_episodes'] = np.log1p(df['num_episodes'])\n",
    "df.drop(columns=['popularity'], inplace=True)"
   ],
   "id": "1968790fd8a3d54f",
   "outputs": [],
   "execution_count": 226
  },
  {
   "metadata": {
    "ExecuteTime": {
     "end_time": "2025-09-29T20:00:20.832578Z",
     "start_time": "2025-09-29T20:00:20.818112Z"
    }
   },
   "cell_type": "code",
   "source": [
    "X = df.drop(columns=['score'])\n",
    "y = df['score']"
   ],
   "id": "27bd2952506f29c",
   "outputs": [],
   "execution_count": 227
  },
  {
   "metadata": {
    "ExecuteTime": {
     "end_time": "2025-09-29T20:00:21.458870Z",
     "start_time": "2025-09-29T20:00:21.452802Z"
    }
   },
   "cell_type": "code",
   "source": [
    "# scaler = StandardScaler()\n",
    "# X = scaler.fit_transform(X)"
   ],
   "id": "101a46af10f0901b",
   "outputs": [],
   "execution_count": 228
  },
  {
   "metadata": {
    "ExecuteTime": {
     "end_time": "2025-09-29T20:00:22.040515Z",
     "start_time": "2025-09-29T20:00:22.024684Z"
    }
   },
   "cell_type": "code",
   "source": "X_train, X_test, y_train, y_test = train_test_split(X, y, test_size=0.2, random_state=42,stratify=y)",
   "id": "9dc3c5852237c268",
   "outputs": [],
   "execution_count": 229
  },
  {
   "metadata": {
    "ExecuteTime": {
     "end_time": "2025-09-29T20:00:22.517Z",
     "start_time": "2025-09-29T20:00:22.503352Z"
    }
   },
   "cell_type": "code",
   "source": [
    "# balancing\n",
    "sample_weights = compute_sample_weight('balanced', y_train.astype(int))"
   ],
   "id": "5188777333a56c30",
   "outputs": [],
   "execution_count": 230
  },
  {
   "metadata": {
    "ExecuteTime": {
     "end_time": "2025-09-29T20:00:27.915851Z",
     "start_time": "2025-09-29T20:00:22.969042Z"
    }
   },
   "cell_type": "code",
   "source": [
    "model_weighted = RandomForestRegressor(n_estimators=300, min_samples_leaf=2, random_state=42 )\n",
    "model_weighted.fit(X_train, y_train, sample_weight=sample_weights)"
   ],
   "id": "329eb737aebc3c23",
   "outputs": [
    {
     "data": {
      "text/plain": [
       "RandomForestRegressor(min_samples_leaf=2, n_estimators=300, random_state=42)"
      ],
      "text/html": [
       "<style>#sk-container-id-9 {\n",
       "  /* Definition of color scheme common for light and dark mode */\n",
       "  --sklearn-color-text: black;\n",
       "  --sklearn-color-line: gray;\n",
       "  /* Definition of color scheme for unfitted estimators */\n",
       "  --sklearn-color-unfitted-level-0: #fff5e6;\n",
       "  --sklearn-color-unfitted-level-1: #f6e4d2;\n",
       "  --sklearn-color-unfitted-level-2: #ffe0b3;\n",
       "  --sklearn-color-unfitted-level-3: chocolate;\n",
       "  /* Definition of color scheme for fitted estimators */\n",
       "  --sklearn-color-fitted-level-0: #f0f8ff;\n",
       "  --sklearn-color-fitted-level-1: #d4ebff;\n",
       "  --sklearn-color-fitted-level-2: #b3dbfd;\n",
       "  --sklearn-color-fitted-level-3: cornflowerblue;\n",
       "\n",
       "  /* Specific color for light theme */\n",
       "  --sklearn-color-text-on-default-background: var(--sg-text-color, var(--theme-code-foreground, var(--jp-content-font-color1, black)));\n",
       "  --sklearn-color-background: var(--sg-background-color, var(--theme-background, var(--jp-layout-color0, white)));\n",
       "  --sklearn-color-border-box: var(--sg-text-color, var(--theme-code-foreground, var(--jp-content-font-color1, black)));\n",
       "  --sklearn-color-icon: #696969;\n",
       "\n",
       "  @media (prefers-color-scheme: dark) {\n",
       "    /* Redefinition of color scheme for dark theme */\n",
       "    --sklearn-color-text-on-default-background: var(--sg-text-color, var(--theme-code-foreground, var(--jp-content-font-color1, white)));\n",
       "    --sklearn-color-background: var(--sg-background-color, var(--theme-background, var(--jp-layout-color0, #111)));\n",
       "    --sklearn-color-border-box: var(--sg-text-color, var(--theme-code-foreground, var(--jp-content-font-color1, white)));\n",
       "    --sklearn-color-icon: #878787;\n",
       "  }\n",
       "}\n",
       "\n",
       "#sk-container-id-9 {\n",
       "  color: var(--sklearn-color-text);\n",
       "}\n",
       "\n",
       "#sk-container-id-9 pre {\n",
       "  padding: 0;\n",
       "}\n",
       "\n",
       "#sk-container-id-9 input.sk-hidden--visually {\n",
       "  border: 0;\n",
       "  clip: rect(1px 1px 1px 1px);\n",
       "  clip: rect(1px, 1px, 1px, 1px);\n",
       "  height: 1px;\n",
       "  margin: -1px;\n",
       "  overflow: hidden;\n",
       "  padding: 0;\n",
       "  position: absolute;\n",
       "  width: 1px;\n",
       "}\n",
       "\n",
       "#sk-container-id-9 div.sk-dashed-wrapped {\n",
       "  border: 1px dashed var(--sklearn-color-line);\n",
       "  margin: 0 0.4em 0.5em 0.4em;\n",
       "  box-sizing: border-box;\n",
       "  padding-bottom: 0.4em;\n",
       "  background-color: var(--sklearn-color-background);\n",
       "}\n",
       "\n",
       "#sk-container-id-9 div.sk-container {\n",
       "  /* jupyter's `normalize.less` sets `[hidden] { display: none; }`\n",
       "     but bootstrap.min.css set `[hidden] { display: none !important; }`\n",
       "     so we also need the `!important` here to be able to override the\n",
       "     default hidden behavior on the sphinx rendered scikit-learn.org.\n",
       "     See: https://github.com/scikit-learn/scikit-learn/issues/21755 */\n",
       "  display: inline-block !important;\n",
       "  position: relative;\n",
       "}\n",
       "\n",
       "#sk-container-id-9 div.sk-text-repr-fallback {\n",
       "  display: none;\n",
       "}\n",
       "\n",
       "div.sk-parallel-item,\n",
       "div.sk-serial,\n",
       "div.sk-item {\n",
       "  /* draw centered vertical line to link estimators */\n",
       "  background-image: linear-gradient(var(--sklearn-color-text-on-default-background), var(--sklearn-color-text-on-default-background));\n",
       "  background-size: 2px 100%;\n",
       "  background-repeat: no-repeat;\n",
       "  background-position: center center;\n",
       "}\n",
       "\n",
       "/* Parallel-specific style estimator block */\n",
       "\n",
       "#sk-container-id-9 div.sk-parallel-item::after {\n",
       "  content: \"\";\n",
       "  width: 100%;\n",
       "  border-bottom: 2px solid var(--sklearn-color-text-on-default-background);\n",
       "  flex-grow: 1;\n",
       "}\n",
       "\n",
       "#sk-container-id-9 div.sk-parallel {\n",
       "  display: flex;\n",
       "  align-items: stretch;\n",
       "  justify-content: center;\n",
       "  background-color: var(--sklearn-color-background);\n",
       "  position: relative;\n",
       "}\n",
       "\n",
       "#sk-container-id-9 div.sk-parallel-item {\n",
       "  display: flex;\n",
       "  flex-direction: column;\n",
       "}\n",
       "\n",
       "#sk-container-id-9 div.sk-parallel-item:first-child::after {\n",
       "  align-self: flex-end;\n",
       "  width: 50%;\n",
       "}\n",
       "\n",
       "#sk-container-id-9 div.sk-parallel-item:last-child::after {\n",
       "  align-self: flex-start;\n",
       "  width: 50%;\n",
       "}\n",
       "\n",
       "#sk-container-id-9 div.sk-parallel-item:only-child::after {\n",
       "  width: 0;\n",
       "}\n",
       "\n",
       "/* Serial-specific style estimator block */\n",
       "\n",
       "#sk-container-id-9 div.sk-serial {\n",
       "  display: flex;\n",
       "  flex-direction: column;\n",
       "  align-items: center;\n",
       "  background-color: var(--sklearn-color-background);\n",
       "  padding-right: 1em;\n",
       "  padding-left: 1em;\n",
       "}\n",
       "\n",
       "\n",
       "/* Toggleable style: style used for estimator/Pipeline/ColumnTransformer box that is\n",
       "clickable and can be expanded/collapsed.\n",
       "- Pipeline and ColumnTransformer use this feature and define the default style\n",
       "- Estimators will overwrite some part of the style using the `sk-estimator` class\n",
       "*/\n",
       "\n",
       "/* Pipeline and ColumnTransformer style (default) */\n",
       "\n",
       "#sk-container-id-9 div.sk-toggleable {\n",
       "  /* Default theme specific background. It is overwritten whether we have a\n",
       "  specific estimator or a Pipeline/ColumnTransformer */\n",
       "  background-color: var(--sklearn-color-background);\n",
       "}\n",
       "\n",
       "/* Toggleable label */\n",
       "#sk-container-id-9 label.sk-toggleable__label {\n",
       "  cursor: pointer;\n",
       "  display: block;\n",
       "  width: 100%;\n",
       "  margin-bottom: 0;\n",
       "  padding: 0.5em;\n",
       "  box-sizing: border-box;\n",
       "  text-align: center;\n",
       "}\n",
       "\n",
       "#sk-container-id-9 label.sk-toggleable__label-arrow:before {\n",
       "  /* Arrow on the left of the label */\n",
       "  content: \"▸\";\n",
       "  float: left;\n",
       "  margin-right: 0.25em;\n",
       "  color: var(--sklearn-color-icon);\n",
       "}\n",
       "\n",
       "#sk-container-id-9 label.sk-toggleable__label-arrow:hover:before {\n",
       "  color: var(--sklearn-color-text);\n",
       "}\n",
       "\n",
       "/* Toggleable content - dropdown */\n",
       "\n",
       "#sk-container-id-9 div.sk-toggleable__content {\n",
       "  max-height: 0;\n",
       "  max-width: 0;\n",
       "  overflow: hidden;\n",
       "  text-align: left;\n",
       "  /* unfitted */\n",
       "  background-color: var(--sklearn-color-unfitted-level-0);\n",
       "}\n",
       "\n",
       "#sk-container-id-9 div.sk-toggleable__content.fitted {\n",
       "  /* fitted */\n",
       "  background-color: var(--sklearn-color-fitted-level-0);\n",
       "}\n",
       "\n",
       "#sk-container-id-9 div.sk-toggleable__content pre {\n",
       "  margin: 0.2em;\n",
       "  border-radius: 0.25em;\n",
       "  color: var(--sklearn-color-text);\n",
       "  /* unfitted */\n",
       "  background-color: var(--sklearn-color-unfitted-level-0);\n",
       "}\n",
       "\n",
       "#sk-container-id-9 div.sk-toggleable__content.fitted pre {\n",
       "  /* unfitted */\n",
       "  background-color: var(--sklearn-color-fitted-level-0);\n",
       "}\n",
       "\n",
       "#sk-container-id-9 input.sk-toggleable__control:checked~div.sk-toggleable__content {\n",
       "  /* Expand drop-down */\n",
       "  max-height: 200px;\n",
       "  max-width: 100%;\n",
       "  overflow: auto;\n",
       "}\n",
       "\n",
       "#sk-container-id-9 input.sk-toggleable__control:checked~label.sk-toggleable__label-arrow:before {\n",
       "  content: \"▾\";\n",
       "}\n",
       "\n",
       "/* Pipeline/ColumnTransformer-specific style */\n",
       "\n",
       "#sk-container-id-9 div.sk-label input.sk-toggleable__control:checked~label.sk-toggleable__label {\n",
       "  color: var(--sklearn-color-text);\n",
       "  background-color: var(--sklearn-color-unfitted-level-2);\n",
       "}\n",
       "\n",
       "#sk-container-id-9 div.sk-label.fitted input.sk-toggleable__control:checked~label.sk-toggleable__label {\n",
       "  background-color: var(--sklearn-color-fitted-level-2);\n",
       "}\n",
       "\n",
       "/* Estimator-specific style */\n",
       "\n",
       "/* Colorize estimator box */\n",
       "#sk-container-id-9 div.sk-estimator input.sk-toggleable__control:checked~label.sk-toggleable__label {\n",
       "  /* unfitted */\n",
       "  background-color: var(--sklearn-color-unfitted-level-2);\n",
       "}\n",
       "\n",
       "#sk-container-id-9 div.sk-estimator.fitted input.sk-toggleable__control:checked~label.sk-toggleable__label {\n",
       "  /* fitted */\n",
       "  background-color: var(--sklearn-color-fitted-level-2);\n",
       "}\n",
       "\n",
       "#sk-container-id-9 div.sk-label label.sk-toggleable__label,\n",
       "#sk-container-id-9 div.sk-label label {\n",
       "  /* The background is the default theme color */\n",
       "  color: var(--sklearn-color-text-on-default-background);\n",
       "}\n",
       "\n",
       "/* On hover, darken the color of the background */\n",
       "#sk-container-id-9 div.sk-label:hover label.sk-toggleable__label {\n",
       "  color: var(--sklearn-color-text);\n",
       "  background-color: var(--sklearn-color-unfitted-level-2);\n",
       "}\n",
       "\n",
       "/* Label box, darken color on hover, fitted */\n",
       "#sk-container-id-9 div.sk-label.fitted:hover label.sk-toggleable__label.fitted {\n",
       "  color: var(--sklearn-color-text);\n",
       "  background-color: var(--sklearn-color-fitted-level-2);\n",
       "}\n",
       "\n",
       "/* Estimator label */\n",
       "\n",
       "#sk-container-id-9 div.sk-label label {\n",
       "  font-family: monospace;\n",
       "  font-weight: bold;\n",
       "  display: inline-block;\n",
       "  line-height: 1.2em;\n",
       "}\n",
       "\n",
       "#sk-container-id-9 div.sk-label-container {\n",
       "  text-align: center;\n",
       "}\n",
       "\n",
       "/* Estimator-specific */\n",
       "#sk-container-id-9 div.sk-estimator {\n",
       "  font-family: monospace;\n",
       "  border: 1px dotted var(--sklearn-color-border-box);\n",
       "  border-radius: 0.25em;\n",
       "  box-sizing: border-box;\n",
       "  margin-bottom: 0.5em;\n",
       "  /* unfitted */\n",
       "  background-color: var(--sklearn-color-unfitted-level-0);\n",
       "}\n",
       "\n",
       "#sk-container-id-9 div.sk-estimator.fitted {\n",
       "  /* fitted */\n",
       "  background-color: var(--sklearn-color-fitted-level-0);\n",
       "}\n",
       "\n",
       "/* on hover */\n",
       "#sk-container-id-9 div.sk-estimator:hover {\n",
       "  /* unfitted */\n",
       "  background-color: var(--sklearn-color-unfitted-level-2);\n",
       "}\n",
       "\n",
       "#sk-container-id-9 div.sk-estimator.fitted:hover {\n",
       "  /* fitted */\n",
       "  background-color: var(--sklearn-color-fitted-level-2);\n",
       "}\n",
       "\n",
       "/* Specification for estimator info (e.g. \"i\" and \"?\") */\n",
       "\n",
       "/* Common style for \"i\" and \"?\" */\n",
       "\n",
       ".sk-estimator-doc-link,\n",
       "a:link.sk-estimator-doc-link,\n",
       "a:visited.sk-estimator-doc-link {\n",
       "  float: right;\n",
       "  font-size: smaller;\n",
       "  line-height: 1em;\n",
       "  font-family: monospace;\n",
       "  background-color: var(--sklearn-color-background);\n",
       "  border-radius: 1em;\n",
       "  height: 1em;\n",
       "  width: 1em;\n",
       "  text-decoration: none !important;\n",
       "  margin-left: 1ex;\n",
       "  /* unfitted */\n",
       "  border: var(--sklearn-color-unfitted-level-1) 1pt solid;\n",
       "  color: var(--sklearn-color-unfitted-level-1);\n",
       "}\n",
       "\n",
       ".sk-estimator-doc-link.fitted,\n",
       "a:link.sk-estimator-doc-link.fitted,\n",
       "a:visited.sk-estimator-doc-link.fitted {\n",
       "  /* fitted */\n",
       "  border: var(--sklearn-color-fitted-level-1) 1pt solid;\n",
       "  color: var(--sklearn-color-fitted-level-1);\n",
       "}\n",
       "\n",
       "/* On hover */\n",
       "div.sk-estimator:hover .sk-estimator-doc-link:hover,\n",
       ".sk-estimator-doc-link:hover,\n",
       "div.sk-label-container:hover .sk-estimator-doc-link:hover,\n",
       ".sk-estimator-doc-link:hover {\n",
       "  /* unfitted */\n",
       "  background-color: var(--sklearn-color-unfitted-level-3);\n",
       "  color: var(--sklearn-color-background);\n",
       "  text-decoration: none;\n",
       "}\n",
       "\n",
       "div.sk-estimator.fitted:hover .sk-estimator-doc-link.fitted:hover,\n",
       ".sk-estimator-doc-link.fitted:hover,\n",
       "div.sk-label-container:hover .sk-estimator-doc-link.fitted:hover,\n",
       ".sk-estimator-doc-link.fitted:hover {\n",
       "  /* fitted */\n",
       "  background-color: var(--sklearn-color-fitted-level-3);\n",
       "  color: var(--sklearn-color-background);\n",
       "  text-decoration: none;\n",
       "}\n",
       "\n",
       "/* Span, style for the box shown on hovering the info icon */\n",
       ".sk-estimator-doc-link span {\n",
       "  display: none;\n",
       "  z-index: 9999;\n",
       "  position: relative;\n",
       "  font-weight: normal;\n",
       "  right: .2ex;\n",
       "  padding: .5ex;\n",
       "  margin: .5ex;\n",
       "  width: min-content;\n",
       "  min-width: 20ex;\n",
       "  max-width: 50ex;\n",
       "  color: var(--sklearn-color-text);\n",
       "  box-shadow: 2pt 2pt 4pt #999;\n",
       "  /* unfitted */\n",
       "  background: var(--sklearn-color-unfitted-level-0);\n",
       "  border: .5pt solid var(--sklearn-color-unfitted-level-3);\n",
       "}\n",
       "\n",
       ".sk-estimator-doc-link.fitted span {\n",
       "  /* fitted */\n",
       "  background: var(--sklearn-color-fitted-level-0);\n",
       "  border: var(--sklearn-color-fitted-level-3);\n",
       "}\n",
       "\n",
       ".sk-estimator-doc-link:hover span {\n",
       "  display: block;\n",
       "}\n",
       "\n",
       "/* \"?\"-specific style due to the `<a>` HTML tag */\n",
       "\n",
       "#sk-container-id-9 a.estimator_doc_link {\n",
       "  float: right;\n",
       "  font-size: 1rem;\n",
       "  line-height: 1em;\n",
       "  font-family: monospace;\n",
       "  background-color: var(--sklearn-color-background);\n",
       "  border-radius: 1rem;\n",
       "  height: 1rem;\n",
       "  width: 1rem;\n",
       "  text-decoration: none;\n",
       "  /* unfitted */\n",
       "  color: var(--sklearn-color-unfitted-level-1);\n",
       "  border: var(--sklearn-color-unfitted-level-1) 1pt solid;\n",
       "}\n",
       "\n",
       "#sk-container-id-9 a.estimator_doc_link.fitted {\n",
       "  /* fitted */\n",
       "  border: var(--sklearn-color-fitted-level-1) 1pt solid;\n",
       "  color: var(--sklearn-color-fitted-level-1);\n",
       "}\n",
       "\n",
       "/* On hover */\n",
       "#sk-container-id-9 a.estimator_doc_link:hover {\n",
       "  /* unfitted */\n",
       "  background-color: var(--sklearn-color-unfitted-level-3);\n",
       "  color: var(--sklearn-color-background);\n",
       "  text-decoration: none;\n",
       "}\n",
       "\n",
       "#sk-container-id-9 a.estimator_doc_link.fitted:hover {\n",
       "  /* fitted */\n",
       "  background-color: var(--sklearn-color-fitted-level-3);\n",
       "}\n",
       "</style><div id=\"sk-container-id-9\" class=\"sk-top-container\"><div class=\"sk-text-repr-fallback\"><pre>RandomForestRegressor(min_samples_leaf=2, n_estimators=300, random_state=42)</pre><b>In a Jupyter environment, please rerun this cell to show the HTML representation or trust the notebook. <br />On GitHub, the HTML representation is unable to render, please try loading this page with nbviewer.org.</b></div><div class=\"sk-container\" hidden><div class=\"sk-item\"><div class=\"sk-estimator fitted sk-toggleable\"><input class=\"sk-toggleable__control sk-hidden--visually\" id=\"sk-estimator-id-9\" type=\"checkbox\" checked><label for=\"sk-estimator-id-9\" class=\"sk-toggleable__label fitted sk-toggleable__label-arrow fitted\">&nbsp;&nbsp;RandomForestRegressor<a class=\"sk-estimator-doc-link fitted\" rel=\"noreferrer\" target=\"_blank\" href=\"https://scikit-learn.org/1.5/modules/generated/sklearn.ensemble.RandomForestRegressor.html\">?<span>Documentation for RandomForestRegressor</span></a><span class=\"sk-estimator-doc-link fitted\">i<span>Fitted</span></span></label><div class=\"sk-toggleable__content fitted\"><pre>RandomForestRegressor(min_samples_leaf=2, n_estimators=300, random_state=42)</pre></div> </div></div></div></div>"
      ]
     },
     "execution_count": 231,
     "metadata": {},
     "output_type": "execute_result"
    }
   ],
   "execution_count": 231
  },
  {
   "metadata": {
    "ExecuteTime": {
     "end_time": "2025-09-29T20:01:13.182585Z",
     "start_time": "2025-09-29T20:01:13.136377Z"
    }
   },
   "cell_type": "code",
   "source": "y_pred_weight = model_weighted.predict(X_test)",
   "id": "827e0341ac849e5d",
   "outputs": [],
   "execution_count": 232
  },
  {
   "metadata": {
    "ExecuteTime": {
     "end_time": "2025-09-29T20:01:13.820073Z",
     "start_time": "2025-09-29T20:01:13.804441Z"
    }
   },
   "cell_type": "code",
   "source": [
    "print(\"Weighted\")\n",
    "results = comprehensive_evaluation(y_test, y_pred_weight)\n",
    "for metric, value in results.items():\n",
    "    print(f\"{metric}: {value:.3f}\")"
   ],
   "id": "dab6f3a28793dbf0",
   "outputs": [
    {
     "name": "stdout",
     "output_type": "stream",
     "text": [
      "Weighted\n",
      "MAE: 1.123\n",
      "MSE: 1.950\n",
      "RMSE: 1.396\n",
      "R2: 0.401\n",
      "Correlation: 0.636\n",
      "Accuracy_±0.5: 0.271\n",
      "Accuracy_±1.0: 0.505\n",
      "Accuracy_±1.5: 0.715\n",
      "MAE_score_1: 3.359\n",
      "MAE_score_2: 2.023\n",
      "MAE_score_3: 1.732\n",
      "MAE_score_4: 1.071\n",
      "MAE_score_5: 0.823\n",
      "MAE_score_6: 0.875\n",
      "MAE_score_7: 0.929\n",
      "MAE_score_8: 1.388\n",
      "MAE_score_9: 1.578\n",
      "MAE_score_10: 1.386\n"
     ]
    }
   ],
   "execution_count": 233
  },
  {
   "metadata": {
    "ExecuteTime": {
     "end_time": "2025-09-29T20:01:23.481657Z",
     "start_time": "2025-09-29T20:01:23.307280Z"
    }
   },
   "cell_type": "code",
   "source": [
    "X = df.drop(columns=['score'])\n",
    "importances = pd.Series(model_weighted.feature_importances_, index=X.columns)\n",
    "importances.nlargest(20).plot(kind='barh', figsize=(8,6))\n",
    "plt.title(\"Top-20 Feature Importances\")\n",
    "plt.show()"
   ],
   "id": "d708ea98efecb5d4",
   "outputs": [
    {
     "data": {
      "text/plain": [
       "<Figure size 800x600 with 1 Axes>"
      ],
      "image/png": "[encoded data removed]"
     },
     "metadata": {},
     "output_type": "display_data"
    }
   ],
   "execution_count": 234
  },
  {
   "metadata": {
    "ExecuteTime": {
     "end_time": "2025-09-29T20:03:52.773715Z",
     "start_time": "2025-09-29T20:03:47.124645Z"
    }
   },
   "cell_type": "code",
   "source": [
    "from catboost import CatBoostRegressor\n",
    "\n",
    "model = CatBoostRegressor(\n",
    "    iterations=1000,\n",
    "    learning_rate=0.05,\n",
    "    depth=8,\n",
    "    eval_metric='RMSE',\n",
    "    random_seed=42,\n",
    "    verbose=100\n",
    ")\n",
    "\n",
    "model.fit(X_train, y_train, eval_set=(X_test, y_test), use_best_model=True, sample_weight=sample_weights)\n",
    "y_pred_cb = model.predict(X_test)\n"
   ],
   "id": "c1673046cfe54409",
   "outputs": [
    {
     "name": "stdout",
     "output_type": "stream",
     "text": [
      "0:\tlearn: 2.8124701\ttest: 1.7979898\tbest: 1.7979898 (0)\ttotal: 4.37ms\tremaining: 4.37s\n",
      "100:\tlearn: 1.3116403\ttest: 1.4950531\tbest: 1.4950531 (100)\ttotal: 441ms\tremaining: 3.92s\n",
      "200:\tlearn: 1.1050521\ttest: 1.4331927\tbest: 1.4331927 (200)\ttotal: 842ms\tremaining: 3.35s\n",
      "300:\tlearn: 0.9757510\ttest: 1.3954090\tbest: 1.3954090 (300)\ttotal: 1.35s\tremaining: 3.14s\n",
      "400:\tlearn: 0.8924066\ttest: 1.3846906\tbest: 1.3840197 (395)\ttotal: 2.04s\tremaining: 3.04s\n",
      "500:\tlearn: 0.8246347\ttest: 1.3777971\tbest: 1.3777255 (499)\ttotal: 2.48s\tremaining: 2.47s\n",
      "600:\tlearn: 0.7800830\ttest: 1.3727688\tbest: 1.3727688 (600)\ttotal: 2.93s\tremaining: 1.95s\n",
      "700:\tlearn: 0.7355701\ttest: 1.3692593\tbest: 1.3692593 (700)\ttotal: 3.38s\tremaining: 1.44s\n",
      "800:\tlearn: 0.6942777\ttest: 1.3677429\tbest: 1.3673881 (781)\ttotal: 3.81s\tremaining: 946ms\n",
      "900:\tlearn: 0.6572281\ttest: 1.3660554\tbest: 1.3659712 (891)\ttotal: 4.4s\tremaining: 483ms\n",
      "999:\tlearn: 0.6234497\ttest: 1.3657239\tbest: 1.3649865 (957)\ttotal: 5.33s\tremaining: 0us\n",
      "\n",
      "bestTest = 1.364986547\n",
      "bestIteration = 957\n",
      "\n",
      "Shrink model to first 958 iterations.\n"
     ]
    }
   ],
   "execution_count": 241
  },
  {
   "metadata": {
    "ExecuteTime": {
     "end_time": "2025-09-29T20:03:52.805304Z",
     "start_time": "2025-09-29T20:03:52.773715Z"
    }
   },
   "cell_type": "code",
   "source": [
    "print(\"Catboost\")\n",
    "results = comprehensive_evaluation(y_test, y_pred_cb)\n",
    "for metric, value in results.items():\n",
    "    print(f\"{metric}: {value:.3f}\")"
   ],
   "id": "5fde4ef92604d7b9",
   "outputs": [
    {
     "name": "stdout",
     "output_type": "stream",
     "text": [
      "Catboost\n",
      "MAE: 1.075\n",
      "MSE: 1.863\n",
      "RMSE: 1.365\n",
      "R2: 0.428\n",
      "Correlation: 0.668\n",
      "Accuracy_±0.5: 0.302\n",
      "Accuracy_±1.0: 0.540\n",
      "Accuracy_±1.5: 0.738\n",
      "MAE_score_1: 3.461\n",
      "MAE_score_2: 1.740\n",
      "MAE_score_3: 1.488\n",
      "MAE_score_4: 0.959\n",
      "MAE_score_5: 0.862\n",
      "MAE_score_6: 0.925\n",
      "MAE_score_7: 0.997\n",
      "MAE_score_8: 1.240\n",
      "MAE_score_9: 1.307\n",
      "MAE_score_10: 1.048\n"
     ]
    }
   ],
   "execution_count": 242
  },
  {
   "metadata": {},
   "cell_type": "code",
   "outputs": [],
   "execution_count": null,
   "source": "",
   "id": "73d2cc0716ffda6"
  }
 ],
 "metadata": {
  "kernelspec": {
   "display_name": "Python 3",
   "language": "python",
   "name": "python3"
  },
  "language_info": {
   "codemirror_mode": {
    "name": "ipython",
    "version": 2
   },
   "file_extension": ".py",
   "mimetype": "text/x-python",
   "name": "python",
   "nbconvert_exporter": "python",
   "pygments_lexer": "ipython2",
   "version": "2.7.6"
  }
 },
 "nbformat": 4,
 "nbformat_minor": 5
}
