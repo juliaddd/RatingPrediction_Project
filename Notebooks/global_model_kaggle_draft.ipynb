{
 "cells": [
  {
   "cell_type": "code",
   "id": "initial_id",
   "metadata": {
    "collapsed": true
   },
   "source": "import pandas as pd",
   "outputs": [],
   "execution_count": null
  },
  {
   "metadata": {},
   "cell_type": "code",
   "source": "df = pd.read_csv('../data/anime.csv')",
   "id": "8a7ca14475dcd87b",
   "outputs": [],
   "execution_count": null
  },
  {
   "metadata": {},
   "cell_type": "code",
   "source": "df.info()",
   "id": "9d88be3ff705d4dd",
   "outputs": [],
   "execution_count": null
  },
  {
   "metadata": {},
   "cell_type": "code",
   "source": "df.drop(labels=['Name',\"English name\",\"Japanese name\",'Aired','Producers','Licensors','Duration','Members','Watching','On-Hold'], axis='columns', inplace=True)",
   "id": "d261558f4fc301d7",
   "outputs": [],
   "execution_count": null
  },
  {
   "metadata": {},
   "cell_type": "code",
   "source": "df.info()",
   "id": "ec07d7637c971df2",
   "outputs": [],
   "execution_count": null
  },
  {
   "metadata": {},
   "cell_type": "code",
   "source": "print(df[\"Score\"])",
   "id": "3d4520aa06e5ca50",
   "outputs": [],
   "execution_count": null
  },
  {
   "metadata": {},
   "cell_type": "code",
   "source": "print(df[\"Episodes\"])",
   "id": "608069bafe0a7957",
   "outputs": [],
   "execution_count": null
  },
  {
   "metadata": {},
   "cell_type": "code",
   "source": [
    "numeric_cols = [\n",
    "    'Score', 'Episodes', 'Ranked',\n",
    "    'Score-10','Score-9','Score-8','Score-7','Score-6',\n",
    "    'Score-5','Score-4','Score-3','Score-2','Score-1'\n",
    "]"
   ],
   "id": "b2201a4ed9009c20",
   "outputs": [],
   "execution_count": null
  },
  {
   "metadata": {},
   "cell_type": "code",
   "source": [
    "for col in numeric_cols:\n",
    "    df[col] = pd.to_numeric(df[col], errors='coerce')"
   ],
   "id": "a5c91f23272af6ad",
   "outputs": [],
   "execution_count": null
  },
  {
   "metadata": {},
   "cell_type": "code",
   "source": "print(df[numeric_cols].isna().sum())",
   "id": "9c223ce11b69300b",
   "outputs": [],
   "execution_count": null
  },
  {
   "metadata": {},
   "cell_type": "code",
   "source": "df[\"Episodes\"] =df['Episodes'].fillna(0)",
   "id": "7ed7dca522790fd0",
   "outputs": [],
   "execution_count": null
  },
  {
   "metadata": {},
   "cell_type": "code",
   "source": [
    "score_cols = ['Score-10','Score-9','Score-8','Score-7','Score-6',\n",
    "              'Score-5','Score-4','Score-3','Score-2','Score-1']\n",
    "df[score_cols] = df[score_cols].fillna(0)"
   ],
   "id": "497ffe568ce2f24b",
   "outputs": [],
   "execution_count": null
  },
  {
   "metadata": {},
   "cell_type": "code",
   "source": "print(df[numeric_cols].isna().sum())",
   "id": "3595a44690256c6",
   "outputs": [],
   "execution_count": null
  },
  {
   "metadata": {},
   "cell_type": "code",
   "source": "df.dropna(subset=\"Score\", inplace=True)",
   "id": "63e226e07efed338",
   "outputs": [],
   "execution_count": null
  },
  {
   "metadata": {},
   "cell_type": "code",
   "source": "print(df[numeric_cols].isna().sum())",
   "id": "b4bd514fe5d5d39b",
   "outputs": [],
   "execution_count": null
  },
  {
   "metadata": {},
   "cell_type": "code",
   "source": [
    "freq = df[\"Studios\"].value_counts().count()\n",
    "print(\"Printing the frequency\")\n",
    "display(freq)"
   ],
   "id": "2e9408c988830efa",
   "outputs": [],
   "execution_count": null
  },
  {
   "metadata": {},
   "cell_type": "code",
   "outputs": [],
   "execution_count": null,
   "source": [
    "cat = df.select_dtypes(include='O').keys()\n",
    "\n",
    "cat"
   ],
   "id": "c036bf717733875"
  },
  {
   "metadata": {},
   "cell_type": "code",
   "source": [
    "# Get dummy variables for each unique genre\n",
    "genre_dummies = df['Genres'].str.get_dummies(sep=', ')\n",
    "\n",
    "# Merge with original dataframe\n",
    "df = pd.concat([df, genre_dummies], axis=1)"
   ],
   "id": "977a17081c953ebd",
   "outputs": [],
   "execution_count": null
  },
  {
   "metadata": {},
   "cell_type": "code",
   "source": "df.info()",
   "id": "be4b301407c950d3",
   "outputs": [],
   "execution_count": null
  },
  {
   "metadata": {},
   "cell_type": "code",
   "source": [
    "df[['Season','Year']] = df['Premiered'].str.split(' ', expand=True)\n",
    "df.drop(columns=['Season'], inplace=True)\n",
    "df['Year'] = pd.to_numeric(df['Year'], errors='coerce')"
   ],
   "id": "4c1747d00eee499f",
   "outputs": [],
   "execution_count": null
  },
  {
   "metadata": {},
   "cell_type": "code",
   "source": "df.info()",
   "id": "9054756fe30cc954",
   "outputs": [],
   "execution_count": null
  },
  {
   "metadata": {},
   "cell_type": "code",
   "source": "df['Year'].fillna(0, inplace=True)",
   "id": "ba57d4702f31ccae",
   "outputs": [],
   "execution_count": null
  },
  {
   "metadata": {},
   "cell_type": "code",
   "source": [
    "freq = df[\"Type\"].value_counts()\n",
    "print(\"Printing the frequency\")\n",
    "display(freq)"
   ],
   "id": "8509af7e9ea9ee93",
   "outputs": [],
   "execution_count": null
  },
  {
   "metadata": {},
   "cell_type": "code",
   "source": [
    "freq = df['Rating'].value_counts()\n",
    "display(freq)"
   ],
   "id": "7e747a2859dc978b",
   "outputs": [],
   "execution_count": null
  },
  {
   "metadata": {},
   "cell_type": "code",
   "source": "from sklearn.preprocessing import OneHotEncoder",
   "id": "4a714ccd69076934",
   "outputs": [],
   "execution_count": null
  },
  {
   "metadata": {},
   "cell_type": "code",
   "source": "categorical_columns = ['Type', 'Rating']",
   "id": "56d6164ba6de163f",
   "outputs": [],
   "execution_count": null
  },
  {
   "metadata": {},
   "cell_type": "code",
   "source": "encoder = OneHotEncoder(categories='auto')",
   "id": "ffa152cb969c783c",
   "outputs": [],
   "execution_count": null
  },
  {
   "metadata": {},
   "cell_type": "code",
   "source": "onehot_encoded = encoder.fit_transform(df[categorical_columns]).toarray()",
   "id": "b3e4038770218a43",
   "outputs": [],
   "execution_count": null
  },
  {
   "metadata": {},
   "cell_type": "code",
   "source": "one_hot_df = pd.DataFrame(onehot_encoded, columns=encoder.get_feature_names_out(categorical_columns))",
   "id": "dc0536ef1130b973",
   "outputs": [],
   "execution_count": null
  },
  {
   "metadata": {},
   "cell_type": "code",
   "source": "display(one_hot_df)",
   "id": "3ec07567773135ca",
   "outputs": [],
   "execution_count": null
  },
  {
   "metadata": {},
   "cell_type": "code",
   "source": "df.drop(labels=['Genres'], axis='columns', inplace=True)",
   "id": "87a4826e2e1299da",
   "outputs": [],
   "execution_count": null
  },
  {
   "metadata": {},
   "cell_type": "markdown",
   "source": [
    " 3   Type           12421 non-null  object \n",
    "\n",
    " 6   Studios        12421 non-null  object \n",
    " \n",
    "\n",
    "8   Rating         12421 non-null  object \n",
    "\n",
    "\n"
   ],
   "id": "a3b1ebaeb38f6711"
  },
  {
   "metadata": {},
   "cell_type": "code",
   "source": "freq = df['Rating'].value_counts()",
   "id": "bdd9c4d397439432",
   "outputs": [],
   "execution_count": null
  },
  {
   "metadata": {},
   "cell_type": "code",
   "source": "display(freq)",
   "id": "3990670532c6d970",
   "outputs": [],
   "execution_count": null
  },
  {
   "metadata": {},
   "cell_type": "code",
   "source": [
    "type_dummies = pd.get_dummies(df['Type'], prefix='Type')\n",
    "df = pd.concat([df, type_dummies], axis=1)"
   ],
   "id": "a06218d9814bde6",
   "outputs": [],
   "execution_count": null
  },
  {
   "metadata": {},
   "cell_type": "code",
   "source": "df.info()",
   "id": "f87776922e53fbc9",
   "outputs": [],
   "execution_count": null
  },
  {
   "metadata": {},
   "cell_type": "code",
   "source": [
    "df[['Rating_index','Rating_info']] = df['Rating'].str.split(' - ', expand=True)\n",
    "df.drop(columns=['Rating_info'], inplace=True)\n",
    "\n",
    "rating_dummies = pd.get_dummies(df['Rating_index'], prefix='Rating')\n",
    "df = pd.concat([df, rating_dummies], axis=1)"
   ],
   "id": "2c4eedb3609ba04e",
   "outputs": [],
   "execution_count": null
  },
  {
   "metadata": {},
   "cell_type": "code",
   "source": "df.head()",
   "id": "6e2d83a04c4e5fc4",
   "outputs": [],
   "execution_count": null
  },
  {
   "metadata": {},
   "cell_type": "code",
   "source": [
    "df.drop(labels=['Rating_index'], axis='columns', inplace=True)\n",
    "df.info()"
   ],
   "id": "b5e22f3fe3a76a56",
   "outputs": [],
   "execution_count": null
  },
  {
   "metadata": {},
   "cell_type": "code",
   "source": "df.drop(labels=['Rating_Unknown'], axis='columns', inplace=True)",
   "id": "9d4c7fa6b5a71deb",
   "outputs": [],
   "execution_count": null
  },
  {
   "metadata": {},
   "cell_type": "code",
   "source": [
    "top_studios = df['Studios'].value_counts().nlargest(10).index\n",
    "df['Studios'] = df['Studios'].apply(lambda x: x if x in top_studios else 'Other')\n"
   ],
   "id": "f5482e84ac33a54f",
   "outputs": [],
   "execution_count": null
  },
  {
   "metadata": {},
   "cell_type": "code",
   "source": "display(df['Studios'].value_counts().head(10))",
   "id": "74db3722b24df39f",
   "outputs": [],
   "execution_count": null
  },
  {
   "metadata": {},
   "cell_type": "code",
   "source": [
    "studio_dummies = pd.get_dummies(df['Studios'], prefix='Studio')\n",
    "df = pd.concat([df, studio_dummies], axis=1)"
   ],
   "id": "8a804dc1185304f3",
   "outputs": [],
   "execution_count": null
  },
  {
   "metadata": {},
   "cell_type": "code",
   "source": "df.info()",
   "id": "b7e78ecf16e74506",
   "outputs": [],
   "execution_count": null
  },
  {
   "metadata": {},
   "cell_type": "code",
   "source": "df.drop(labels=['Studios', 'Studio_Unknown', 'Type', 'Rating'], axis='columns', inplace=True)",
   "id": "49c79e70a0458f20",
   "outputs": [],
   "execution_count": null
  },
  {
   "metadata": {},
   "cell_type": "code",
   "source": "df.describe()",
   "id": "8fce47354626e6f4",
   "outputs": [],
   "execution_count": null
  },
  {
   "metadata": {},
   "cell_type": "code",
   "source": [
    "bool_cols = df.select_dtypes('bool').columns\n",
    "\n",
    "df[bool_cols] = df[bool_cols].astype(int)"
   ],
   "id": "ae043bc51508cdc7",
   "outputs": [],
   "execution_count": null
  },
  {
   "metadata": {},
   "cell_type": "code",
   "source": [
    "X = df.drop(columns=['Score', 'MAL_ID'])\n",
    "score_related_cols = ['Score-10','Score-9','Score-8','Score-7',\n",
    "                      'Score-6','Score-5','Score-4','Score-3','Score-2','Score-1', 'Ranked']\n",
    "\n",
    "X = X.drop(columns=score_related_cols)\n",
    "y = df['Score']"
   ],
   "id": "98005d62c91889a",
   "outputs": [],
   "execution_count": null
  },
  {
   "metadata": {},
   "cell_type": "code",
   "source": [
    "from sklearn.model_selection import train_test_split\n",
    "X_train, X_test, y_train, y_test = train_test_split(X, y, test_size=0.2, random_state=42)"
   ],
   "id": "bc4a582998b13cbb",
   "outputs": [],
   "execution_count": null
  },
  {
   "metadata": {},
   "cell_type": "code",
   "source": [
    "from sklearn.ensemble import RandomForestRegressor\n",
    "from sklearn.metrics import mean_squared_error, r2_score\n",
    "\n",
    "model = RandomForestRegressor(\n",
    "    n_estimators=200, random_state=42, n_jobs=-1\n",
    ")\n",
    "model.fit(X_train, y_train)\n",
    "\n",
    "y_pred = model.predict(X_test)\n",
    "print(\"MSE:\", mean_squared_error(y_test, y_pred))\n",
    "print(\"R2:\", r2_score(y_test, y_pred))\n"
   ],
   "id": "8330ba9db03ee8a6",
   "outputs": [],
   "execution_count": null
  },
  {
   "metadata": {},
   "cell_type": "code",
   "source": "X.info()",
   "id": "24c4038e87015b1a",
   "outputs": [],
   "execution_count": null
  },
  {
   "metadata": {},
   "cell_type": "code",
   "source": [
    "import matplotlib.pyplot as plt\n",
    "import pandas as pd\n",
    "\n",
    "importances = pd.Series(model.feature_importances_, index=X.columns)\n",
    "importances.nlargest(20).plot(kind='barh', figsize=(8,6))\n",
    "plt.title(\"Top-20 Feature Importances\")\n",
    "plt.show()"
   ],
   "id": "a1f758038079f6d1",
   "outputs": [],
   "execution_count": null
  },
  {
   "metadata": {},
   "cell_type": "code",
   "source": [
    "from sklearn.model_selection import cross_val_score\n",
    "import numpy as np\n",
    "\n",
    "scores = cross_val_score(model, X, y, cv=5, scoring='r2', n_jobs=-1)\n",
    "print(\"R2:\", scores)\n",
    "print(\"Mean R2:\", np.mean(scores))"
   ],
   "id": "522a98b4357d6603",
   "outputs": [],
   "execution_count": null
  }
 ],
 "metadata": {
  "kernelspec": {
   "display_name": "Python 3",
   "language": "python",
   "name": "python3"
  },
  "language_info": {
   "codemirror_mode": {
    "name": "ipython",
    "version": 2
   },
   "file_extension": ".py",
   "mimetype": "text/x-python",
   "name": "python",
   "nbconvert_exporter": "python",
   "pygments_lexer": "ipython2",
   "version": "2.7.6"
  }
 },
 "nbformat": 4,
 "nbformat_minor": 5
}
