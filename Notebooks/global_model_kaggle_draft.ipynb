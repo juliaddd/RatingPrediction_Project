{
 "cells": [
  {
   "cell_type": "code",
   "id": "initial_id",
   "metadata": {
    "collapsed": true,
    "ExecuteTime": {
     "end_time": "2025-10-05T10:39:24.023168Z",
     "start_time": "2025-10-05T10:39:24.007463Z"
    }
   },
   "source": [
    "import pandas as pd\n",
    "import numpy as np\n",
    "import matplotlib.pyplot as plt\n",
    "from sklearn.preprocessing import MinMaxScaler"
   ],
   "outputs": [],
   "execution_count": 126
  },
  {
   "metadata": {
    "ExecuteTime": {
     "end_time": "2025-10-05T10:56:52.613923Z",
     "start_time": "2025-10-05T10:56:52.468929Z"
    }
   },
   "cell_type": "code",
   "source": "df = pd.read_csv('../data/anime.csv')",
   "id": "8a7ca14475dcd87b",
   "outputs": [],
   "execution_count": 188
  },
  {
   "metadata": {
    "ExecuteTime": {
     "end_time": "2025-10-05T10:56:53.059291Z",
     "start_time": "2025-10-05T10:56:53.037673Z"
    }
   },
   "cell_type": "code",
   "source": "df.drop(labels=['Name',\"English name\",\"Japanese name\",'Aired','Producers','Licensors','Duration','Members','Watching','On-Hold'], axis='columns', inplace=True)",
   "id": "d261558f4fc301d7",
   "outputs": [],
   "execution_count": 189
  },
  {
   "metadata": {},
   "cell_type": "code",
   "source": "df.info()",
   "id": "ec07d7637c971df2",
   "outputs": [],
   "execution_count": null
  },
  {
   "metadata": {
    "ExecuteTime": {
     "end_time": "2025-10-05T10:56:53.806241Z",
     "start_time": "2025-10-05T10:56:53.800673Z"
    }
   },
   "cell_type": "code",
   "source": [
    "numeric_cols = [\n",
    "    'Score', 'Episodes', 'Ranked',\n",
    "    'Score-10','Score-9','Score-8','Score-7','Score-6',\n",
    "    'Score-5','Score-4','Score-3','Score-2','Score-1'\n",
    "]"
   ],
   "id": "b2201a4ed9009c20",
   "outputs": [],
   "execution_count": 191
  },
  {
   "metadata": {
    "ExecuteTime": {
     "end_time": "2025-10-05T10:56:54.271702Z",
     "start_time": "2025-10-05T10:56:54.191757Z"
    }
   },
   "cell_type": "code",
   "source": [
    "for col in numeric_cols:\n",
    "    df[col] = pd.to_numeric(df[col], errors='coerce')"
   ],
   "id": "a5c91f23272af6ad",
   "outputs": [],
   "execution_count": 192
  },
  {
   "metadata": {
    "ExecuteTime": {
     "end_time": "2025-10-05T10:56:54.652957Z",
     "start_time": "2025-10-05T10:56:54.633290Z"
    }
   },
   "cell_type": "code",
   "source": "print(df[numeric_cols].isna().sum())",
   "id": "9c223ce11b69300b",
   "outputs": [
    {
     "name": "stdout",
     "output_type": "stream",
     "text": [
      "Score       5141\n",
      "Episodes     516\n",
      "Ranked      1762\n",
      "Score-10     437\n",
      "Score-9     3167\n",
      "Score-8     1371\n",
      "Score-7      503\n",
      "Score-6      511\n",
      "Score-5      584\n",
      "Score-4      977\n",
      "Score-3     1307\n",
      "Score-2     1597\n",
      "Score-1      459\n",
      "dtype: int64\n"
     ]
    }
   ],
   "execution_count": 193
  },
  {
   "metadata": {
    "ExecuteTime": {
     "end_time": "2025-10-05T10:56:55.006147Z",
     "start_time": "2025-10-05T10:56:54.974297Z"
    }
   },
   "cell_type": "code",
   "source": "df[\"Episodes\"] =df['Episodes'].fillna(0)",
   "id": "7ed7dca522790fd0",
   "outputs": [],
   "execution_count": 194
  },
  {
   "metadata": {
    "ExecuteTime": {
     "end_time": "2025-10-05T10:56:55.643544Z",
     "start_time": "2025-10-05T10:56:55.632684Z"
    }
   },
   "cell_type": "code",
   "source": [
    "score_cols = ['Score-10','Score-9','Score-8','Score-7','Score-6',\n",
    "              'Score-5','Score-4','Score-3','Score-2','Score-1']\n",
    "df[score_cols] = df[score_cols].fillna(0)"
   ],
   "id": "497ffe568ce2f24b",
   "outputs": [],
   "execution_count": 195
  },
  {
   "metadata": {},
   "cell_type": "code",
   "source": "print(df[numeric_cols].isna().sum())",
   "id": "3595a44690256c6",
   "outputs": [],
   "execution_count": null
  },
  {
   "metadata": {
    "ExecuteTime": {
     "end_time": "2025-10-05T10:56:56.222517Z",
     "start_time": "2025-10-05T10:56:56.210968Z"
    }
   },
   "cell_type": "code",
   "source": [
    "cat = df.select_dtypes(include='O').keys()\n",
    "\n",
    "cat"
   ],
   "id": "c036bf717733875",
   "outputs": [
    {
     "data": {
      "text/plain": [
       "Index(['Genres', 'Type', 'Premiered', 'Studios', 'Source', 'Rating'], dtype='object')"
      ]
     },
     "execution_count": 197,
     "metadata": {},
     "output_type": "execute_result"
    }
   ],
   "execution_count": 197
  },
  {
   "metadata": {
    "ExecuteTime": {
     "end_time": "2025-10-05T10:56:56.725482Z",
     "start_time": "2025-10-05T10:56:56.711395Z"
    }
   },
   "cell_type": "code",
   "source": [
    "def preprocess(df):\n",
    "    df = df.copy()\n",
    "    df = df.dropna(subset=['Score'])\n",
    "    \n",
    "    categorical_cols = ['Studios', 'Genres', 'Rating', 'Source', 'Type']\n",
    "    for col in categorical_cols:\n",
    "        df[col] = df[col].fillna('Unknown')\n",
    "        df[col] = df[col].replace('', 'Unknown')\n",
    "    \n",
    "    numeric_cols = ['Episodes', 'Ranked']\n",
    "    for col in numeric_cols:\n",
    "        df[col] = df[col].fillna(df[col].median())\n",
    "    return df"
   ],
   "id": "ba57d4702f31ccae",
   "outputs": [],
   "execution_count": 198
  },
  {
   "metadata": {
    "ExecuteTime": {
     "end_time": "2025-10-05T10:56:57.104295Z",
     "start_time": "2025-10-05T10:56:57.077420Z"
    }
   },
   "cell_type": "code",
   "source": "df = preprocess(df)",
   "id": "31004aa5e77ea79e",
   "outputs": [],
   "execution_count": 199
  },
  {
   "metadata": {
    "ExecuteTime": {
     "end_time": "2025-10-05T10:56:57.692990Z",
     "start_time": "2025-10-05T10:56:57.510332Z"
    }
   },
   "cell_type": "code",
   "source": [
    "# Get dummy variables for each unique genre\n",
    "genre_dummies = df['Genres'].str.get_dummies(sep=', ')\n",
    "\n",
    "# Merge with original dataframe\n",
    "df = pd.concat([df, genre_dummies], axis=1)"
   ],
   "id": "977a17081c953ebd",
   "outputs": [],
   "execution_count": 200
  },
  {
   "metadata": {},
   "cell_type": "code",
   "source": "df.info()",
   "id": "be4b301407c950d3",
   "outputs": [],
   "execution_count": null
  },
  {
   "metadata": {
    "ExecuteTime": {
     "end_time": "2025-10-05T10:56:58.315959Z",
     "start_time": "2025-10-05T10:56:58.284312Z"
    }
   },
   "cell_type": "code",
   "source": [
    "df[['Season','Year']] = df['Premiered'].str.split(' ', expand=True)\n",
    "df.drop(columns=['Season'], inplace=True)\n",
    "df['Year'] = pd.to_numeric(df['Year'], errors='coerce')"
   ],
   "id": "4c1747d00eee499f",
   "outputs": [],
   "execution_count": 202
  },
  {
   "metadata": {
    "ExecuteTime": {
     "end_time": "2025-10-05T10:56:58.660375Z",
     "start_time": "2025-10-05T10:56:58.649254Z"
    }
   },
   "cell_type": "code",
   "source": [
    "if 'Year' in df.columns:\n",
    "    df['Year'] = 2025 - df['Year']"
   ],
   "id": "4980b4b026d75e28",
   "outputs": [],
   "execution_count": 203
  },
  {
   "metadata": {
    "ExecuteTime": {
     "end_time": "2025-10-05T10:56:59.098138Z",
     "start_time": "2025-10-05T10:56:59.066809Z"
    }
   },
   "cell_type": "code",
   "source": [
    "if 'Year' in df.columns:\n",
    "        df['age_category'] = pd.cut(\n",
    "            df['Year'],\n",
    "            bins=[-1, 2, 5, 10, 20, np.inf],\n",
    "            labels=['new', 'recent', 'modern', 'old', 'classic']\n",
    "        )\n",
    "        df = pd.get_dummies(df, columns=['age_category'], drop_first=True)\n",
    "        df = df.drop(columns=['Year'])"
   ],
   "id": "7e6e7c9b3601f4fe",
   "outputs": [],
   "execution_count": 204
  },
  {
   "metadata": {
    "ExecuteTime": {
     "end_time": "2025-10-05T10:56:59.457888Z",
     "start_time": "2025-10-05T10:56:59.425824Z"
    }
   },
   "cell_type": "code",
   "source": [
    "if 'Episodes' in df.columns:\n",
    "        df['episode_cat'] = pd.cut(\n",
    "            df['Episodes'],\n",
    "            bins=[0,1,10,18,26,57,np.inf],\n",
    "            labels=['single', 'short', 'one_season','two_season', 'long', 'very_long'] # 1, 2-10, 11-18, 18-26,25-57,58-\n",
    "        )\n",
    "        df = pd.get_dummies(df, columns=['episode_cat'], drop_first=True)\n",
    "        df = df.drop(columns=['Episodes'])"
   ],
   "id": "e6cfdeda55ba6dff",
   "outputs": [],
   "execution_count": 205
  },
  {
   "metadata": {},
   "cell_type": "code",
   "source": "df.info()",
   "id": "9054756fe30cc954",
   "outputs": [],
   "execution_count": null
  },
  {
   "metadata": {
    "ExecuteTime": {
     "end_time": "2025-10-05T10:57:00.516636Z",
     "start_time": "2025-10-05T10:57:00.500675Z"
    }
   },
   "cell_type": "code",
   "source": [
    "freq = df[\"Type\"].value_counts()\n",
    "print(\"Printing the frequency\")\n",
    "display(freq)"
   ],
   "id": "8509af7e9ea9ee93",
   "outputs": [
    {
     "name": "stdout",
     "output_type": "stream",
     "text": [
      "Printing the frequency\n"
     ]
    },
    {
     "data": {
      "text/plain": [
       "Type\n",
       "TV         3837\n",
       "OVA        2999\n",
       "Movie      2017\n",
       "Special    1754\n",
       "ONA        1084\n",
       "Music       730\n",
       "Name: count, dtype: int64"
      ]
     },
     "metadata": {},
     "output_type": "display_data"
    }
   ],
   "execution_count": 207
  },
  {
   "metadata": {
    "ExecuteTime": {
     "end_time": "2025-10-05T10:57:01.093320Z",
     "start_time": "2025-10-05T10:57:01.084314Z"
    }
   },
   "cell_type": "code",
   "source": [
    "freq = df['Rating'].value_counts()\n",
    "display(freq)"
   ],
   "id": "7e747a2859dc978b",
   "outputs": [
    {
     "data": {
      "text/plain": [
       "Rating\n",
       "PG-13 - Teens 13 or older         5456\n",
       "G - All Ages                      2663\n",
       "Rx - Hentai                       1328\n",
       "R - 17+ (violence & profanity)    1080\n",
       "R+ - Mild Nudity                   917\n",
       "PG - Children                      866\n",
       "Unknown                            111\n",
       "Name: count, dtype: int64"
      ]
     },
     "metadata": {},
     "output_type": "display_data"
    }
   ],
   "execution_count": 208
  },
  {
   "metadata": {
    "ExecuteTime": {
     "end_time": "2025-10-05T10:57:01.614575Z",
     "start_time": "2025-10-05T10:57:01.598894Z"
    }
   },
   "cell_type": "code",
   "source": "from sklearn.preprocessing import OneHotEncoder",
   "id": "4a714ccd69076934",
   "outputs": [],
   "execution_count": 209
  },
  {
   "metadata": {
    "ExecuteTime": {
     "end_time": "2025-10-05T10:57:01.983740Z",
     "start_time": "2025-10-05T10:57:01.960605Z"
    }
   },
   "cell_type": "code",
   "source": "categorical_columns = ['Type', 'Rating']",
   "id": "56d6164ba6de163f",
   "outputs": [],
   "execution_count": 210
  },
  {
   "metadata": {
    "ExecuteTime": {
     "end_time": "2025-10-05T10:57:02.293308Z",
     "start_time": "2025-10-05T10:57:02.277456Z"
    }
   },
   "cell_type": "code",
   "source": "encoder = OneHotEncoder(categories='auto')",
   "id": "ffa152cb969c783c",
   "outputs": [],
   "execution_count": 211
  },
  {
   "metadata": {
    "ExecuteTime": {
     "end_time": "2025-10-05T10:57:02.679842Z",
     "start_time": "2025-10-05T10:57:02.657024Z"
    }
   },
   "cell_type": "code",
   "source": "onehot_encoded = encoder.fit_transform(df[categorical_columns]).toarray()",
   "id": "b3e4038770218a43",
   "outputs": [],
   "execution_count": 212
  },
  {
   "metadata": {
    "ExecuteTime": {
     "end_time": "2025-10-05T10:57:03.053678Z",
     "start_time": "2025-10-05T10:57:03.045708Z"
    }
   },
   "cell_type": "code",
   "source": "one_hot_df = pd.DataFrame(onehot_encoded, columns=encoder.get_feature_names_out(categorical_columns))",
   "id": "dc0536ef1130b973",
   "outputs": [],
   "execution_count": 213
  },
  {
   "metadata": {},
   "cell_type": "code",
   "source": "display(one_hot_df)",
   "id": "3ec07567773135ca",
   "outputs": [],
   "execution_count": null
  },
  {
   "metadata": {
    "ExecuteTime": {
     "end_time": "2025-10-05T10:57:03.855341Z",
     "start_time": "2025-10-05T10:57:03.831548Z"
    }
   },
   "cell_type": "code",
   "source": [
    "type_dummies = pd.get_dummies(df['Type'], prefix='Type')\n",
    "df = pd.concat([df, type_dummies], axis=1)"
   ],
   "id": "a06218d9814bde6",
   "outputs": [],
   "execution_count": 215
  },
  {
   "metadata": {
    "ExecuteTime": {
     "end_time": "2025-10-05T10:57:04.387150Z",
     "start_time": "2025-10-05T10:57:04.342006Z"
    }
   },
   "cell_type": "code",
   "source": [
    "df[['Rating_index','Rating_info']] = df['Rating'].str.split(' - ', expand=True)\n",
    "df.drop(columns=['Rating_info'], inplace=True)\n",
    "\n",
    "rating_dummies = pd.get_dummies(df['Rating_index'], prefix='Rating')\n",
    "df = pd.concat([df, rating_dummies], axis=1)"
   ],
   "id": "2c4eedb3609ba04e",
   "outputs": [],
   "execution_count": 216
  },
  {
   "metadata": {
    "ExecuteTime": {
     "end_time": "2025-10-05T10:57:04.668381Z",
     "start_time": "2025-10-05T10:57:04.636274Z"
    }
   },
   "cell_type": "code",
   "source": "df.head()",
   "id": "6e2d83a04c4e5fc4",
   "outputs": [
    {
     "data": {
      "text/plain": [
       "   MAL_ID  Score                                             Genres   Type  \\\n",
       "0       1   8.78    Action, Adventure, Comedy, Drama, Sci-Fi, Space     TV   \n",
       "1       5   8.39              Action, Drama, Mystery, Sci-Fi, Space  Movie   \n",
       "2       6   8.24  Action, Sci-Fi, Adventure, Comedy, Drama, Shounen     TV   \n",
       "3       7   7.27  Action, Mystery, Police, Supernatural, Drama, ...     TV   \n",
       "4       8   6.98          Adventure, Fantasy, Shounen, Supernatural     TV   \n",
       "\n",
       "     Premiered         Studios    Source                          Rating  \\\n",
       "0  Spring 1998         Sunrise  Original  R - 17+ (violence & profanity)   \n",
       "1      Unknown           Bones  Original  R - 17+ (violence & profanity)   \n",
       "2  Spring 1998        Madhouse     Manga       PG-13 - Teens 13 or older   \n",
       "3  Summer 2002         Sunrise  Original       PG-13 - Teens 13 or older   \n",
       "4    Fall 2004  Toei Animation     Manga                   PG - Children   \n",
       "\n",
       "   Ranked  Popularity  ...  Type_Special  Type_TV  Rating_index  Rating_G  \\\n",
       "0    28.0          39  ...         False     True             R     False   \n",
       "1   159.0         518  ...         False    False             R     False   \n",
       "2   266.0         201  ...         False     True         PG-13     False   \n",
       "3  2481.0        1467  ...         False     True         PG-13     False   \n",
       "4  3710.0        4369  ...         False     True            PG     False   \n",
       "\n",
       "   Rating_PG  Rating_PG-13  Rating_R  Rating_R+  Rating_Rx  Rating_Unknown  \n",
       "0      False         False      True      False      False           False  \n",
       "1      False         False      True      False      False           False  \n",
       "2      False          True     False      False      False           False  \n",
       "3      False          True     False      False      False           False  \n",
       "4       True         False     False      False      False           False  \n",
       "\n",
       "[5 rows x 91 columns]"
      ],
      "text/html": [
       "<div>\n",
       "<style scoped>\n",
       "    .dataframe tbody tr th:only-of-type {\n",
       "        vertical-align: middle;\n",
       "    }\n",
       "\n",
       "    .dataframe tbody tr th {\n",
       "        vertical-align: top;\n",
       "    }\n",
       "\n",
       "    .dataframe thead th {\n",
       "        text-align: right;\n",
       "    }\n",
       "</style>\n",
       "<table border=\"1\" class=\"dataframe\">\n",
       "  <thead>\n",
       "    <tr style=\"text-align: right;\">\n",
       "      <th></th>\n",
       "      <th>MAL_ID</th>\n",
       "      <th>Score</th>\n",
       "      <th>Genres</th>\n",
       "      <th>Type</th>\n",
       "      <th>Premiered</th>\n",
       "      <th>Studios</th>\n",
       "      <th>Source</th>\n",
       "      <th>Rating</th>\n",
       "      <th>Ranked</th>\n",
       "      <th>Popularity</th>\n",
       "      <th>...</th>\n",
       "      <th>Type_Special</th>\n",
       "      <th>Type_TV</th>\n",
       "      <th>Rating_index</th>\n",
       "      <th>Rating_G</th>\n",
       "      <th>Rating_PG</th>\n",
       "      <th>Rating_PG-13</th>\n",
       "      <th>Rating_R</th>\n",
       "      <th>Rating_R+</th>\n",
       "      <th>Rating_Rx</th>\n",
       "      <th>Rating_Unknown</th>\n",
       "    </tr>\n",
       "  </thead>\n",
       "  <tbody>\n",
       "    <tr>\n",
       "      <th>0</th>\n",
       "      <td>1</td>\n",
       "      <td>8.78</td>\n",
       "      <td>Action, Adventure, Comedy, Drama, Sci-Fi, Space</td>\n",
       "      <td>TV</td>\n",
       "      <td>Spring 1998</td>\n",
       "      <td>Sunrise</td>\n",
       "      <td>Original</td>\n",
       "      <td>R - 17+ (violence &amp; profanity)</td>\n",
       "      <td>28.0</td>\n",
       "      <td>39</td>\n",
       "      <td>...</td>\n",
       "      <td>False</td>\n",
       "      <td>True</td>\n",
       "      <td>R</td>\n",
       "      <td>False</td>\n",
       "      <td>False</td>\n",
       "      <td>False</td>\n",
       "      <td>True</td>\n",
       "      <td>False</td>\n",
       "      <td>False</td>\n",
       "      <td>False</td>\n",
       "    </tr>\n",
       "    <tr>\n",
       "      <th>1</th>\n",
       "      <td>5</td>\n",
       "      <td>8.39</td>\n",
       "      <td>Action, Drama, Mystery, Sci-Fi, Space</td>\n",
       "      <td>Movie</td>\n",
       "      <td>Unknown</td>\n",
       "      <td>Bones</td>\n",
       "      <td>Original</td>\n",
       "      <td>R - 17+ (violence &amp; profanity)</td>\n",
       "      <td>159.0</td>\n",
       "      <td>518</td>\n",
       "      <td>...</td>\n",
       "      <td>False</td>\n",
       "      <td>False</td>\n",
       "      <td>R</td>\n",
       "      <td>False</td>\n",
       "      <td>False</td>\n",
       "      <td>False</td>\n",
       "      <td>True</td>\n",
       "      <td>False</td>\n",
       "      <td>False</td>\n",
       "      <td>False</td>\n",
       "    </tr>\n",
       "    <tr>\n",
       "      <th>2</th>\n",
       "      <td>6</td>\n",
       "      <td>8.24</td>\n",
       "      <td>Action, Sci-Fi, Adventure, Comedy, Drama, Shounen</td>\n",
       "      <td>TV</td>\n",
       "      <td>Spring 1998</td>\n",
       "      <td>Madhouse</td>\n",
       "      <td>Manga</td>\n",
       "      <td>PG-13 - Teens 13 or older</td>\n",
       "      <td>266.0</td>\n",
       "      <td>201</td>\n",
       "      <td>...</td>\n",
       "      <td>False</td>\n",
       "      <td>True</td>\n",
       "      <td>PG-13</td>\n",
       "      <td>False</td>\n",
       "      <td>False</td>\n",
       "      <td>True</td>\n",
       "      <td>False</td>\n",
       "      <td>False</td>\n",
       "      <td>False</td>\n",
       "      <td>False</td>\n",
       "    </tr>\n",
       "    <tr>\n",
       "      <th>3</th>\n",
       "      <td>7</td>\n",
       "      <td>7.27</td>\n",
       "      <td>Action, Mystery, Police, Supernatural, Drama, ...</td>\n",
       "      <td>TV</td>\n",
       "      <td>Summer 2002</td>\n",
       "      <td>Sunrise</td>\n",
       "      <td>Original</td>\n",
       "      <td>PG-13 - Teens 13 or older</td>\n",
       "      <td>2481.0</td>\n",
       "      <td>1467</td>\n",
       "      <td>...</td>\n",
       "      <td>False</td>\n",
       "      <td>True</td>\n",
       "      <td>PG-13</td>\n",
       "      <td>False</td>\n",
       "      <td>False</td>\n",
       "      <td>True</td>\n",
       "      <td>False</td>\n",
       "      <td>False</td>\n",
       "      <td>False</td>\n",
       "      <td>False</td>\n",
       "    </tr>\n",
       "    <tr>\n",
       "      <th>4</th>\n",
       "      <td>8</td>\n",
       "      <td>6.98</td>\n",
       "      <td>Adventure, Fantasy, Shounen, Supernatural</td>\n",
       "      <td>TV</td>\n",
       "      <td>Fall 2004</td>\n",
       "      <td>Toei Animation</td>\n",
       "      <td>Manga</td>\n",
       "      <td>PG - Children</td>\n",
       "      <td>3710.0</td>\n",
       "      <td>4369</td>\n",
       "      <td>...</td>\n",
       "      <td>False</td>\n",
       "      <td>True</td>\n",
       "      <td>PG</td>\n",
       "      <td>False</td>\n",
       "      <td>True</td>\n",
       "      <td>False</td>\n",
       "      <td>False</td>\n",
       "      <td>False</td>\n",
       "      <td>False</td>\n",
       "      <td>False</td>\n",
       "    </tr>\n",
       "  </tbody>\n",
       "</table>\n",
       "<p>5 rows × 91 columns</p>\n",
       "</div>"
      ]
     },
     "execution_count": 217,
     "metadata": {},
     "output_type": "execute_result"
    }
   ],
   "execution_count": 217
  },
  {
   "metadata": {
    "ExecuteTime": {
     "end_time": "2025-10-05T10:57:05.355574Z",
     "start_time": "2025-10-05T10:57:05.339816Z"
    }
   },
   "cell_type": "code",
   "source": "df.drop(labels=['Genres', 'Type', 'Type_TV', 'Rating', 'Premiered', 'Rating_index', 'Rating_PG-13','Rating_Unknown'], axis='columns', inplace=True)",
   "id": "74c0941c9b654c95",
   "outputs": [],
   "execution_count": 218
  },
  {
   "metadata": {
    "ExecuteTime": {
     "end_time": "2025-10-05T10:57:16.878569Z",
     "start_time": "2025-10-05T10:57:16.864750Z"
    }
   },
   "cell_type": "code",
   "source": "# df.drop(labels=['Rating_Unknown'], axis='columns', inplace=True)",
   "id": "9d4c7fa6b5a71deb",
   "outputs": [],
   "execution_count": 221
  },
  {
   "metadata": {
    "ExecuteTime": {
     "end_time": "2025-10-05T10:57:17.403704Z",
     "start_time": "2025-10-05T10:57:17.378328Z"
    }
   },
   "cell_type": "code",
   "source": [
    "top_studios = df['Studios'].value_counts().nlargest(10).index\n",
    "df['Studios'] = df['Studios'].apply(lambda x: x if x in top_studios else 'Other')"
   ],
   "id": "f5482e84ac33a54f",
   "outputs": [],
   "execution_count": 222
  },
  {
   "metadata": {},
   "cell_type": "code",
   "source": "display(df['Studios'].value_counts().head(10))",
   "id": "74db3722b24df39f",
   "outputs": [],
   "execution_count": null
  },
  {
   "metadata": {
    "ExecuteTime": {
     "end_time": "2025-10-05T10:57:18.589649Z",
     "start_time": "2025-10-05T10:57:18.558155Z"
    }
   },
   "cell_type": "code",
   "source": [
    "studio_dummies = pd.get_dummies(df['Studios'], prefix='Studio')\n",
    "df = pd.concat([df, studio_dummies], axis=1)"
   ],
   "id": "8a804dc1185304f3",
   "outputs": [],
   "execution_count": 224
  },
  {
   "metadata": {},
   "cell_type": "code",
   "source": "df.info()",
   "id": "b7e78ecf16e74506",
   "outputs": [],
   "execution_count": null
  },
  {
   "metadata": {
    "ExecuteTime": {
     "end_time": "2025-10-05T10:57:19.863706Z",
     "start_time": "2025-10-05T10:57:19.833184Z"
    }
   },
   "cell_type": "code",
   "source": "df.drop(labels=['Studios', 'Studio_Unknown', 'Unknown'], axis='columns', inplace=True)",
   "id": "49c79e70a0458f20",
   "outputs": [],
   "execution_count": 226
  },
  {
   "metadata": {
    "ExecuteTime": {
     "end_time": "2025-10-05T10:57:20.539664Z",
     "start_time": "2025-10-05T10:57:20.523585Z"
    }
   },
   "cell_type": "code",
   "source": "df.drop(labels=[ 'Source'], axis='columns', inplace=True)",
   "id": "a1fa609f34f2b921",
   "outputs": [],
   "execution_count": 227
  },
  {
   "metadata": {
    "ExecuteTime": {
     "end_time": "2025-10-05T10:57:21.127257Z",
     "start_time": "2025-10-05T10:57:21.095472Z"
    }
   },
   "cell_type": "code",
   "source": "df.info()",
   "id": "8fce47354626e6f4",
   "outputs": [
    {
     "name": "stdout",
     "output_type": "stream",
     "text": [
      "<class 'pandas.core.frame.DataFrame'>\n",
      "Index: 12421 entries, 0 to 17552\n",
      "Data columns (total 89 columns):\n",
      " #   Column                    Non-Null Count  Dtype  \n",
      "---  ------                    --------------  -----  \n",
      " 0   MAL_ID                    12421 non-null  int64  \n",
      " 1   Score                     12421 non-null  float64\n",
      " 2   Ranked                    12421 non-null  float64\n",
      " 3   Popularity                12421 non-null  int64  \n",
      " 4   Favorites                 12421 non-null  int64  \n",
      " 5   Completed                 12421 non-null  int64  \n",
      " 6   Dropped                   12421 non-null  int64  \n",
      " 7   Plan to Watch             12421 non-null  int64  \n",
      " 8   Score-10                  12421 non-null  float64\n",
      " 9   Score-9                   12421 non-null  float64\n",
      " 10  Score-8                   12421 non-null  float64\n",
      " 11  Score-7                   12421 non-null  float64\n",
      " 12  Score-6                   12421 non-null  float64\n",
      " 13  Score-5                   12421 non-null  float64\n",
      " 14  Score-4                   12421 non-null  float64\n",
      " 15  Score-3                   12421 non-null  float64\n",
      " 16  Score-2                   12421 non-null  float64\n",
      " 17  Score-1                   12421 non-null  float64\n",
      " 18  Action                    12421 non-null  int64  \n",
      " 19  Adventure                 12421 non-null  int64  \n",
      " 20  Cars                      12421 non-null  int64  \n",
      " 21  Comedy                    12421 non-null  int64  \n",
      " 22  Dementia                  12421 non-null  int64  \n",
      " 23  Demons                    12421 non-null  int64  \n",
      " 24  Drama                     12421 non-null  int64  \n",
      " 25  Ecchi                     12421 non-null  int64  \n",
      " 26  Fantasy                   12421 non-null  int64  \n",
      " 27  Game                      12421 non-null  int64  \n",
      " 28  Harem                     12421 non-null  int64  \n",
      " 29  Hentai                    12421 non-null  int64  \n",
      " 30  Historical                12421 non-null  int64  \n",
      " 31  Horror                    12421 non-null  int64  \n",
      " 32  Josei                     12421 non-null  int64  \n",
      " 33  Kids                      12421 non-null  int64  \n",
      " 34  Magic                     12421 non-null  int64  \n",
      " 35  Martial Arts              12421 non-null  int64  \n",
      " 36  Mecha                     12421 non-null  int64  \n",
      " 37  Military                  12421 non-null  int64  \n",
      " 38  Music                     12421 non-null  int64  \n",
      " 39  Mystery                   12421 non-null  int64  \n",
      " 40  Parody                    12421 non-null  int64  \n",
      " 41  Police                    12421 non-null  int64  \n",
      " 42  Psychological             12421 non-null  int64  \n",
      " 43  Romance                   12421 non-null  int64  \n",
      " 44  Samurai                   12421 non-null  int64  \n",
      " 45  School                    12421 non-null  int64  \n",
      " 46  Sci-Fi                    12421 non-null  int64  \n",
      " 47  Seinen                    12421 non-null  int64  \n",
      " 48  Shoujo                    12421 non-null  int64  \n",
      " 49  Shoujo Ai                 12421 non-null  int64  \n",
      " 50  Shounen                   12421 non-null  int64  \n",
      " 51  Shounen Ai                12421 non-null  int64  \n",
      " 52  Slice of Life             12421 non-null  int64  \n",
      " 53  Space                     12421 non-null  int64  \n",
      " 54  Sports                    12421 non-null  int64  \n",
      " 55  Super Power               12421 non-null  int64  \n",
      " 56  Supernatural              12421 non-null  int64  \n",
      " 57  Thriller                  12421 non-null  int64  \n",
      " 58  Vampire                   12421 non-null  int64  \n",
      " 59  Yaoi                      12421 non-null  int64  \n",
      " 60  Yuri                      12421 non-null  int64  \n",
      " 61  age_category_recent       12421 non-null  bool   \n",
      " 62  age_category_modern       12421 non-null  bool   \n",
      " 63  age_category_old          12421 non-null  bool   \n",
      " 64  age_category_classic      12421 non-null  bool   \n",
      " 65  episode_cat_short         12421 non-null  bool   \n",
      " 66  episode_cat_one_season    12421 non-null  bool   \n",
      " 67  episode_cat_two_season    12421 non-null  bool   \n",
      " 68  episode_cat_long          12421 non-null  bool   \n",
      " 69  episode_cat_very_long     12421 non-null  bool   \n",
      " 70  Type_Movie                12421 non-null  bool   \n",
      " 71  Type_Music                12421 non-null  bool   \n",
      " 72  Type_ONA                  12421 non-null  bool   \n",
      " 73  Type_OVA                  12421 non-null  bool   \n",
      " 74  Type_Special              12421 non-null  bool   \n",
      " 75  Rating_G                  12421 non-null  bool   \n",
      " 76  Rating_PG                 12421 non-null  bool   \n",
      " 77  Rating_R                  12421 non-null  bool   \n",
      " 78  Rating_R+                 12421 non-null  bool   \n",
      " 79  Rating_Rx                 12421 non-null  bool   \n",
      " 80  Studio_J.C.Staff          12421 non-null  bool   \n",
      " 81  Studio_Madhouse           12421 non-null  bool   \n",
      " 82  Studio_Other              12421 non-null  bool   \n",
      " 83  Studio_Production I.G     12421 non-null  bool   \n",
      " 84  Studio_Studio Deen        12421 non-null  bool   \n",
      " 85  Studio_Studio Pierrot     12421 non-null  bool   \n",
      " 86  Studio_Sunrise            12421 non-null  bool   \n",
      " 87  Studio_TMS Entertainment  12421 non-null  bool   \n",
      " 88  Studio_Toei Animation     12421 non-null  bool   \n",
      "dtypes: bool(28), float64(12), int64(49)\n",
      "memory usage: 6.2 MB\n"
     ]
    }
   ],
   "execution_count": 228
  },
  {
   "metadata": {
    "ExecuteTime": {
     "end_time": "2025-10-05T10:57:22.254090Z",
     "start_time": "2025-10-05T10:57:22.228430Z"
    }
   },
   "cell_type": "code",
   "source": [
    "bool_cols = df.select_dtypes('bool').columns\n",
    "\n",
    "df[bool_cols] = df[bool_cols].astype(int)"
   ],
   "id": "ae043bc51508cdc7",
   "outputs": [],
   "execution_count": 229
  },
  {
   "metadata": {
    "ExecuteTime": {
     "end_time": "2025-10-05T10:57:22.854642Z",
     "start_time": "2025-10-05T10:57:22.830877Z"
    }
   },
   "cell_type": "code",
   "source": [
    "X = df.drop(columns=['Score', 'MAL_ID'])\n",
    "score_related_cols = ['Score-10','Score-9','Score-8','Score-7',\n",
    "                      'Score-6','Score-5','Score-4','Score-3','Score-2','Score-1', 'Ranked']\n",
    "\n",
    "X = X.drop(columns=score_related_cols)\n",
    "y = df['Score']"
   ],
   "id": "98005d62c91889a",
   "outputs": [],
   "execution_count": 230
  },
  {
   "metadata": {
    "ExecuteTime": {
     "end_time": "2025-10-05T10:57:23.739299Z",
     "start_time": "2025-10-05T10:57:23.715458Z"
    }
   },
   "cell_type": "code",
   "source": [
    "from sklearn.model_selection import train_test_split\n",
    "X_train, X_test, y_train, y_test = train_test_split(X, y, test_size=0.2, random_state=42)"
   ],
   "id": "bc4a582998b13cbb",
   "outputs": [],
   "execution_count": 231
  },
  {
   "metadata": {},
   "cell_type": "code",
   "source": "X_train.info()",
   "id": "d57b0d74a1769eef",
   "outputs": [],
   "execution_count": null
  },
  {
   "metadata": {
    "ExecuteTime": {
     "end_time": "2025-10-05T10:57:25.127636Z",
     "start_time": "2025-10-05T10:57:25.103992Z"
    }
   },
   "cell_type": "code",
   "source": [
    "scaler = MinMaxScaler()\n",
    "\n",
    "numeric_cols = ['Popularity', 'Favorites', 'Completed', 'Dropped', 'Plan to Watch']\n",
    "X_train[numeric_cols] = scaler.fit_transform(X_train[numeric_cols])"
   ],
   "id": "bb246fa53ce0a218",
   "outputs": [],
   "execution_count": 233
  },
  {
   "metadata": {
    "ExecuteTime": {
     "end_time": "2025-10-05T10:57:26.181284Z",
     "start_time": "2025-10-05T10:57:26.160279Z"
    }
   },
   "cell_type": "code",
   "source": "X_test[numeric_cols] = scaler.transform(X_test[numeric_cols])",
   "id": "2fa4f4581291049b",
   "outputs": [],
   "execution_count": 234
  },
  {
   "metadata": {
    "ExecuteTime": {
     "end_time": "2025-10-05T10:57:29.585105Z",
     "start_time": "2025-10-05T10:57:27.073816Z"
    }
   },
   "cell_type": "code",
   "source": [
    "from sklearn.ensemble import RandomForestRegressor\n",
    "from sklearn.metrics import mean_squared_error, r2_score\n",
    "\n",
    "model = RandomForestRegressor(\n",
    "    n_estimators=200, random_state=42, n_jobs=-1\n",
    ")\n",
    "model.fit(X_train, y_train)\n",
    "\n",
    "y_pred = model.predict(X_test)\n",
    "print(\"MSE:\", mean_squared_error(y_test, y_pred))\n",
    "print(\"R2:\", r2_score(y_test, y_pred))\n"
   ],
   "id": "8330ba9db03ee8a6",
   "outputs": [
    {
     "name": "stdout",
     "output_type": "stream",
     "text": [
      "MSE: 0.19956034760764588\n",
      "R2: 0.7481595450057045\n"
     ]
    }
   ],
   "execution_count": 235
  },
  {
   "metadata": {},
   "cell_type": "code",
   "source": "X.info()",
   "id": "24c4038e87015b1a",
   "outputs": [],
   "execution_count": null
  },
  {
   "metadata": {
    "ExecuteTime": {
     "end_time": "2025-10-05T11:00:29.723155Z",
     "start_time": "2025-10-05T11:00:28.812935Z"
    }
   },
   "cell_type": "code",
   "source": [
    "import matplotlib.pyplot as plt\n",
    "import pandas as pd\n",
    "\n",
    "importances = pd.Series(model.feature_importances_, index=X.columns)\n",
    "importances.nlargest(20).plot(kind='barh', figsize=(8,6))\n",
    "plt.title(\"Top-20 Feature Importances\")\n",
    "plt.show()"
   ],
   "id": "a1f758038079f6d1",
   "outputs": [
    {
     "data": {
      "text/plain": [
       "<Figure size 800x600 with 1 Axes>"
      ],
      "image/png": "[encoded data removed]"
     },
     "metadata": {},
     "output_type": "display_data"
    }
   ],
   "execution_count": 236
  },
  {
   "metadata": {
    "ExecuteTime": {
     "end_time": "2025-10-05T11:00:50.656558Z",
     "start_time": "2025-10-05T11:00:36.198890Z"
    }
   },
   "cell_type": "code",
   "source": [
    "from sklearn.model_selection import cross_val_score\n",
    "import numpy as np\n",
    "\n",
    "scores = cross_val_score(model, X, y, cv=5, scoring='r2', n_jobs=-1)\n",
    "print(\"R2:\", scores)\n",
    "print(\"Mean R2:\", np.mean(scores))"
   ],
   "id": "522a98b4357d6603",
   "outputs": [
    {
     "name": "stdout",
     "output_type": "stream",
     "text": [
      "R2: [0.67338457 0.69110303 0.73134474 0.77225121 0.57313933]\n",
      "Mean R2: 0.6882445757921776\n"
     ]
    }
   ],
   "execution_count": 237
  },
  {
   "metadata": {},
   "cell_type": "code",
   "outputs": [],
   "execution_count": null,
   "source": "",
   "id": "f63a72a987a7027d"
  }
 ],
 "metadata": {
  "kernelspec": {
   "display_name": "Python 3",
   "language": "python",
   "name": "python3"
  },
  "language_info": {
   "codemirror_mode": {
    "name": "ipython",
    "version": 2
   },
   "file_extension": ".py",
   "mimetype": "text/x-python",
   "name": "python",
   "nbconvert_exporter": "python",
   "pygments_lexer": "ipython2",
   "version": "2.7.6"
  }
 },
 "nbformat": 4,
 "nbformat_minor": 5
}
