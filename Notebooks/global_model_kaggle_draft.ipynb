{
 "cells": [
  {
   "cell_type": "code",
   "id": "initial_id",
   "metadata": {
    "collapsed": true,
    "ExecuteTime": {
     "end_time": "2025-10-08T14:51:28.273202Z",
     "start_time": "2025-10-08T14:51:23.933826Z"
    }
   },
   "source": [
    "import pandas as pd\n",
    "import numpy as np\n",
    "import matplotlib.pyplot as plt\n",
    "from sklearn.preprocessing import MinMaxScaler"
   ],
   "execution_count": 1,
   "outputs": []
  },
  {
   "metadata": {
    "ExecuteTime": {
     "end_time": "2025-10-08T14:52:54.020787Z",
     "start_time": "2025-10-08T14:52:53.885366Z"
    }
   },
   "cell_type": "code",
   "source": "df = pd.read_csv('../data/anime.csv')",
   "id": "8a7ca14475dcd87b",
   "execution_count": 2,
   "outputs": []
  },
  {
   "metadata": {
    "ExecuteTime": {
     "end_time": "2025-10-08T14:52:56.154350Z",
     "start_time": "2025-10-08T14:52:56.123372Z"
    }
   },
   "cell_type": "code",
   "source": "df.drop(labels=['Name',\"English name\",\"Japanese name\",'Aired','Producers','Licensors','Duration','Members','Watching','On-Hold'], axis='columns', inplace=True)",
   "id": "d261558f4fc301d7",
   "execution_count": 3,
   "outputs": []
  },
  {
   "metadata": {
    "ExecuteTime": {
     "end_time": "2025-10-08T14:53:01.413412Z",
     "start_time": "2025-10-08T14:53:01.373439Z"
    }
   },
   "cell_type": "code",
   "source": "df.info()",
   "id": "ec07d7637c971df2",
   "execution_count": 4,
   "outputs": []
  },
  {
   "metadata": {},
   "cell_type": "markdown",
   "source": "this is code for computing baseline for weights calculation ",
   "id": "e031920d16f1fd44"
  },
  {
   "metadata": {
    "ExecuteTime": {
     "end_time": "2025-10-08T15:13:30.531010Z",
     "start_time": "2025-10-08T15:13:30.515182Z"
    }
   },
   "cell_type": "code",
   "source": "df['Score-1']",
   "id": "2de909d419da5c3e",
   "execution_count": 8,
   "outputs": []
  },
  {
   "metadata": {
    "ExecuteTime": {
     "end_time": "2025-10-08T14:53:14.545992Z",
     "start_time": "2025-10-08T14:53:14.493348Z"
    }
   },
   "cell_type": "code",
   "source": "df.describe()",
   "id": "2df359f31494c7cf",
   "execution_count": 5,
   "outputs": []
  },
  {
   "metadata": {},
   "cell_type": "markdown",
   "source": "",
   "id": "34e6792d710b5035"
  },
  {
   "metadata": {
    "ExecuteTime": {
     "end_time": "2025-10-08T15:15:46.165643Z",
     "start_time": "2025-10-08T15:15:46.147377Z"
    }
   },
   "cell_type": "code",
   "source": [
    "score_columns = ['Score-10', 'Score-9', 'Score-8', 'Score-7', 'Score-6',\n",
    "                 'Score-5', 'Score-4', 'Score-3', 'Score-2', 'Score-1']"
   ],
   "id": "16a4eded106d03bd",
   "execution_count": 11,
   "outputs": []
  },
  {
   "metadata": {
    "ExecuteTime": {
     "end_time": "2025-10-08T15:15:47.618013Z",
     "start_time": "2025-10-08T15:15:47.586250Z"
    }
   },
   "cell_type": "code",
   "source": "df = df.dropna(subset=score_columns)",
   "id": "57c5e2366e620eec",
   "execution_count": 12,
   "outputs": []
  },
  {
   "metadata": {
    "ExecuteTime": {
     "end_time": "2025-10-08T15:17:47.306459Z",
     "start_time": "2025-10-08T15:17:47.272836Z"
    }
   },
   "cell_type": "code",
   "source": "df[score_columns] = df[score_columns].replace('Unknown', np.nan)",
   "id": "d5553140f1465e4",
   "execution_count": 19,
   "outputs": []
  },
  {
   "metadata": {
    "ExecuteTime": {
     "end_time": "2025-10-08T15:19:46.093506Z",
     "start_time": "2025-10-08T15:19:46.077819Z"
    }
   },
   "cell_type": "code",
   "source": "df = df.dropna(subset=score_columns)",
   "id": "bf944462b1b7bc74",
   "execution_count": 27,
   "outputs": []
  },
  {
   "metadata": {
    "ExecuteTime": {
     "end_time": "2025-10-08T15:19:47.054922Z",
     "start_time": "2025-10-08T15:19:47.030117Z"
    }
   },
   "cell_type": "code",
   "source": "df[score_columns] = df[score_columns].astype(float).astype(int)",
   "id": "2c62c5bd53f27131",
   "execution_count": 28,
   "outputs": []
  },
  {
   "metadata": {
    "ExecuteTime": {
     "end_time": "2025-10-08T15:19:48.123623Z",
     "start_time": "2025-10-08T15:19:48.110095Z"
    }
   },
   "cell_type": "code",
   "source": "df['num_scored'] =  df[score_columns].sum(axis=1)",
   "id": "2b7adb102e45bbde",
   "execution_count": 29,
   "outputs": []
  },
  {
   "metadata": {
    "ExecuteTime": {
     "end_time": "2025-10-08T15:30:23.038069Z",
     "start_time": "2025-10-08T15:30:23.021729Z"
    }
   },
   "cell_type": "code",
   "source": [
    "print(df['num_scored'].describe())\n",
    "print(\"\\nPercentiles:\")\n",
    "print(df['num_scored'].quantile([0.25, 0.3,  0.5, 0.55, 0.6,0.75, 0.8,  0.9]))"
   ],
   "id": "5454f0ee855a3641",
   "execution_count": 33,
   "outputs": []
  },
  {
   "metadata": {},
   "cell_type": "markdown",
   "source": "this results (percentiles) will be used as baseline",
   "id": "e18c544a9c3900bb"
  },
  {
   "metadata": {
    "ExecuteTime": {
     "end_time": "2025-10-05T10:56:53.806241Z",
     "start_time": "2025-10-05T10:56:53.800673Z"
    }
   },
   "cell_type": "code",
   "source": [
    "numeric_cols = [\n",
    "    'Score', 'Episodes', 'Ranked',\n",
    "    'Score-10','Score-9','Score-8','Score-7','Score-6',\n",
    "    'Score-5','Score-4','Score-3','Score-2','Score-1'\n",
    "]"
   ],
   "id": "b2201a4ed9009c20",
   "execution_count": 191,
   "outputs": []
  },
  {
   "metadata": {
    "ExecuteTime": {
     "end_time": "2025-10-05T10:56:54.271702Z",
     "start_time": "2025-10-05T10:56:54.191757Z"
    }
   },
   "cell_type": "code",
   "source": [
    "for col in numeric_cols:\n",
    "    df[col] = pd.to_numeric(df[col], errors='coerce')"
   ],
   "id": "a5c91f23272af6ad",
   "execution_count": 192,
   "outputs": []
  },
  {
   "metadata": {
    "ExecuteTime": {
     "end_time": "2025-10-05T10:56:54.652957Z",
     "start_time": "2025-10-05T10:56:54.633290Z"
    }
   },
   "cell_type": "code",
   "source": "print(df[numeric_cols].isna().sum())",
   "id": "9c223ce11b69300b",
   "execution_count": 193,
   "outputs": []
  },
  {
   "metadata": {
    "ExecuteTime": {
     "end_time": "2025-10-05T10:56:55.006147Z",
     "start_time": "2025-10-05T10:56:54.974297Z"
    }
   },
   "cell_type": "code",
   "source": "df[\"Episodes\"] =df['Episodes'].fillna(0)",
   "id": "7ed7dca522790fd0",
   "execution_count": 194,
   "outputs": []
  },
  {
   "metadata": {
    "ExecuteTime": {
     "end_time": "2025-10-05T10:56:55.643544Z",
     "start_time": "2025-10-05T10:56:55.632684Z"
    }
   },
   "cell_type": "code",
   "source": [
    "score_cols = ['Score-10','Score-9','Score-8','Score-7','Score-6',\n",
    "              'Score-5','Score-4','Score-3','Score-2','Score-1']\n",
    "df[score_cols] = df[score_cols].fillna(0)"
   ],
   "id": "497ffe568ce2f24b",
   "execution_count": 195,
   "outputs": []
  },
  {
   "metadata": {},
   "cell_type": "code",
   "source": "print(df[numeric_cols].isna().sum())",
   "id": "3595a44690256c6",
   "execution_count": null,
   "outputs": []
  },
  {
   "metadata": {
    "ExecuteTime": {
     "end_time": "2025-10-05T10:56:56.222517Z",
     "start_time": "2025-10-05T10:56:56.210968Z"
    }
   },
   "cell_type": "code",
   "source": [
    "cat = df.select_dtypes(include='O').keys()\n",
    "\n",
    "cat"
   ],
   "id": "c036bf717733875",
   "execution_count": 197,
   "outputs": []
  },
  {
   "metadata": {
    "ExecuteTime": {
     "end_time": "2025-10-05T10:56:56.725482Z",
     "start_time": "2025-10-05T10:56:56.711395Z"
    }
   },
   "cell_type": "code",
   "source": [
    "def preprocess(df):\n",
    "    df = df.copy()\n",
    "    df = df.dropna(subset=['Score'])\n",
    "    \n",
    "    categorical_cols = ['Studios', 'Genres', 'Rating', 'Source', 'Type']\n",
    "    for col in categorical_cols:\n",
    "        df[col] = df[col].fillna('Unknown')\n",
    "        df[col] = df[col].replace('', 'Unknown')\n",
    "    \n",
    "    numeric_cols = ['Episodes', 'Ranked']\n",
    "    for col in numeric_cols:\n",
    "        df[col] = df[col].fillna(df[col].median())\n",
    "    return df"
   ],
   "id": "ba57d4702f31ccae",
   "execution_count": 198,
   "outputs": []
  },
  {
   "metadata": {
    "ExecuteTime": {
     "end_time": "2025-10-05T10:56:57.104295Z",
     "start_time": "2025-10-05T10:56:57.077420Z"
    }
   },
   "cell_type": "code",
   "source": "df = preprocess(df)",
   "id": "31004aa5e77ea79e",
   "execution_count": 199,
   "outputs": []
  },
  {
   "metadata": {
    "ExecuteTime": {
     "end_time": "2025-10-05T10:56:57.692990Z",
     "start_time": "2025-10-05T10:56:57.510332Z"
    }
   },
   "cell_type": "code",
   "source": [
    "# Get dummy variables for each unique genre\n",
    "genre_dummies = df['Genres'].str.get_dummies(sep=', ')\n",
    "\n",
    "# Merge with original dataframe\n",
    "df = pd.concat([df, genre_dummies], axis=1)"
   ],
   "id": "977a17081c953ebd",
   "execution_count": 200,
   "outputs": []
  },
  {
   "metadata": {},
   "cell_type": "code",
   "source": "df.info()",
   "id": "be4b301407c950d3",
   "execution_count": null,
   "outputs": []
  },
  {
   "metadata": {
    "ExecuteTime": {
     "end_time": "2025-10-05T10:56:58.315959Z",
     "start_time": "2025-10-05T10:56:58.284312Z"
    }
   },
   "cell_type": "code",
   "source": [
    "df[['Season','Year']] = df['Premiered'].str.split(' ', expand=True)\n",
    "df.drop(columns=['Season'], inplace=True)\n",
    "df['Year'] = pd.to_numeric(df['Year'], errors='coerce')"
   ],
   "id": "4c1747d00eee499f",
   "execution_count": 202,
   "outputs": []
  },
  {
   "metadata": {
    "ExecuteTime": {
     "end_time": "2025-10-05T10:56:58.660375Z",
     "start_time": "2025-10-05T10:56:58.649254Z"
    }
   },
   "cell_type": "code",
   "source": [
    "if 'Year' in df.columns:\n",
    "    df['Year'] = 2025 - df['Year']"
   ],
   "id": "4980b4b026d75e28",
   "execution_count": 203,
   "outputs": []
  },
  {
   "metadata": {
    "ExecuteTime": {
     "end_time": "2025-10-05T10:56:59.098138Z",
     "start_time": "2025-10-05T10:56:59.066809Z"
    }
   },
   "cell_type": "code",
   "source": [
    "if 'Year' in df.columns:\n",
    "        df['age_category'] = pd.cut(\n",
    "            df['Year'],\n",
    "            bins=[-1, 2, 5, 10, 20, np.inf],\n",
    "            labels=['new', 'recent', 'modern', 'old', 'classic']\n",
    "        )\n",
    "        df = pd.get_dummies(df, columns=['age_category'], drop_first=True)\n",
    "        df = df.drop(columns=['Year'])"
   ],
   "id": "7e6e7c9b3601f4fe",
   "execution_count": 204,
   "outputs": []
  },
  {
   "metadata": {
    "ExecuteTime": {
     "end_time": "2025-10-05T10:56:59.457888Z",
     "start_time": "2025-10-05T10:56:59.425824Z"
    }
   },
   "cell_type": "code",
   "source": [
    "if 'Episodes' in df.columns:\n",
    "        df['episode_cat'] = pd.cut(\n",
    "            df['Episodes'],\n",
    "            bins=[0,1,10,18,26,57,np.inf],\n",
    "            labels=['single', 'short', 'one_season','two_season', 'long', 'very_long'] # 1, 2-10, 11-18, 18-26,25-57,58-\n",
    "        )\n",
    "        df = pd.get_dummies(df, columns=['episode_cat'], drop_first=True)\n",
    "        df = df.drop(columns=['Episodes'])"
   ],
   "id": "e6cfdeda55ba6dff",
   "execution_count": 205,
   "outputs": []
  },
  {
   "metadata": {},
   "cell_type": "code",
   "source": "df.info()",
   "id": "9054756fe30cc954",
   "execution_count": null,
   "outputs": []
  },
  {
   "metadata": {
    "ExecuteTime": {
     "end_time": "2025-10-05T10:57:00.516636Z",
     "start_time": "2025-10-05T10:57:00.500675Z"
    }
   },
   "cell_type": "code",
   "source": [
    "freq = df[\"Type\"].value_counts()\n",
    "print(\"Printing the frequency\")\n",
    "display(freq)"
   ],
   "id": "8509af7e9ea9ee93",
   "execution_count": 207,
   "outputs": []
  },
  {
   "metadata": {
    "ExecuteTime": {
     "end_time": "2025-10-05T10:57:01.093320Z",
     "start_time": "2025-10-05T10:57:01.084314Z"
    }
   },
   "cell_type": "code",
   "source": [
    "freq = df['Rating'].value_counts()\n",
    "display(freq)"
   ],
   "id": "7e747a2859dc978b",
   "execution_count": 208,
   "outputs": []
  },
  {
   "metadata": {
    "ExecuteTime": {
     "end_time": "2025-10-05T10:57:01.614575Z",
     "start_time": "2025-10-05T10:57:01.598894Z"
    }
   },
   "cell_type": "code",
   "source": "from sklearn.preprocessing import OneHotEncoder",
   "id": "4a714ccd69076934",
   "execution_count": 209,
   "outputs": []
  },
  {
   "metadata": {
    "ExecuteTime": {
     "end_time": "2025-10-05T10:57:01.983740Z",
     "start_time": "2025-10-05T10:57:01.960605Z"
    }
   },
   "cell_type": "code",
   "source": "categorical_columns = ['Type', 'Rating']",
   "id": "56d6164ba6de163f",
   "execution_count": 210,
   "outputs": []
  },
  {
   "metadata": {
    "ExecuteTime": {
     "end_time": "2025-10-05T10:57:02.293308Z",
     "start_time": "2025-10-05T10:57:02.277456Z"
    }
   },
   "cell_type": "code",
   "source": "encoder = OneHotEncoder(categories='auto')",
   "id": "ffa152cb969c783c",
   "execution_count": 211,
   "outputs": []
  },
  {
   "metadata": {
    "ExecuteTime": {
     "end_time": "2025-10-05T10:57:02.679842Z",
     "start_time": "2025-10-05T10:57:02.657024Z"
    }
   },
   "cell_type": "code",
   "source": "onehot_encoded = encoder.fit_transform(df[categorical_columns]).toarray()",
   "id": "b3e4038770218a43",
   "execution_count": 212,
   "outputs": []
  },
  {
   "metadata": {
    "ExecuteTime": {
     "end_time": "2025-10-05T10:57:03.053678Z",
     "start_time": "2025-10-05T10:57:03.045708Z"
    }
   },
   "cell_type": "code",
   "source": "one_hot_df = pd.DataFrame(onehot_encoded, columns=encoder.get_feature_names_out(categorical_columns))",
   "id": "dc0536ef1130b973",
   "execution_count": 213,
   "outputs": []
  },
  {
   "metadata": {},
   "cell_type": "code",
   "source": "display(one_hot_df)",
   "id": "3ec07567773135ca",
   "execution_count": null,
   "outputs": []
  },
  {
   "metadata": {
    "ExecuteTime": {
     "end_time": "2025-10-05T10:57:03.855341Z",
     "start_time": "2025-10-05T10:57:03.831548Z"
    }
   },
   "cell_type": "code",
   "source": [
    "type_dummies = pd.get_dummies(df['Type'], prefix='Type')\n",
    "df = pd.concat([df, type_dummies], axis=1)"
   ],
   "id": "a06218d9814bde6",
   "execution_count": 215,
   "outputs": []
  },
  {
   "metadata": {
    "ExecuteTime": {
     "end_time": "2025-10-05T10:57:04.387150Z",
     "start_time": "2025-10-05T10:57:04.342006Z"
    }
   },
   "cell_type": "code",
   "source": [
    "df[['Rating_index','Rating_info']] = df['Rating'].str.split(' - ', expand=True)\n",
    "df.drop(columns=['Rating_info'], inplace=True)\n",
    "\n",
    "rating_dummies = pd.get_dummies(df['Rating_index'], prefix='Rating')\n",
    "df = pd.concat([df, rating_dummies], axis=1)"
   ],
   "id": "2c4eedb3609ba04e",
   "execution_count": 216,
   "outputs": []
  },
  {
   "metadata": {
    "ExecuteTime": {
     "end_time": "2025-10-05T10:57:04.668381Z",
     "start_time": "2025-10-05T10:57:04.636274Z"
    }
   },
   "cell_type": "code",
   "source": "df.head()",
   "id": "6e2d83a04c4e5fc4",
   "execution_count": 217,
   "outputs": []
  },
  {
   "metadata": {
    "ExecuteTime": {
     "end_time": "2025-10-05T10:57:05.355574Z",
     "start_time": "2025-10-05T10:57:05.339816Z"
    }
   },
   "cell_type": "code",
   "source": "df.drop(labels=['Genres', 'Type', 'Type_TV', 'Rating', 'Premiered', 'Rating_index', 'Rating_PG-13','Rating_Unknown'], axis='columns', inplace=True)",
   "id": "74c0941c9b654c95",
   "execution_count": 218,
   "outputs": []
  },
  {
   "metadata": {
    "ExecuteTime": {
     "end_time": "2025-10-05T10:57:16.878569Z",
     "start_time": "2025-10-05T10:57:16.864750Z"
    }
   },
   "cell_type": "code",
   "source": "# df.drop(labels=['Rating_Unknown'], axis='columns', inplace=True)",
   "id": "9d4c7fa6b5a71deb",
   "execution_count": 221,
   "outputs": []
  },
  {
   "metadata": {
    "ExecuteTime": {
     "end_time": "2025-10-05T10:57:17.403704Z",
     "start_time": "2025-10-05T10:57:17.378328Z"
    }
   },
   "cell_type": "code",
   "source": [
    "top_studios = df['Studios'].value_counts().nlargest(10).index\n",
    "df['Studios'] = df['Studios'].apply(lambda x: x if x in top_studios else 'Other')"
   ],
   "id": "f5482e84ac33a54f",
   "execution_count": 222,
   "outputs": []
  },
  {
   "metadata": {},
   "cell_type": "code",
   "source": "display(df['Studios'].value_counts().head(10))",
   "id": "74db3722b24df39f",
   "execution_count": null,
   "outputs": []
  },
  {
   "metadata": {
    "ExecuteTime": {
     "end_time": "2025-10-05T10:57:18.589649Z",
     "start_time": "2025-10-05T10:57:18.558155Z"
    }
   },
   "cell_type": "code",
   "source": [
    "studio_dummies = pd.get_dummies(df['Studios'], prefix='Studio')\n",
    "df = pd.concat([df, studio_dummies], axis=1)"
   ],
   "id": "8a804dc1185304f3",
   "execution_count": 224,
   "outputs": []
  },
  {
   "metadata": {},
   "cell_type": "code",
   "source": "df.info()",
   "id": "b7e78ecf16e74506",
   "execution_count": null,
   "outputs": []
  },
  {
   "metadata": {
    "ExecuteTime": {
     "end_time": "2025-10-05T10:57:19.863706Z",
     "start_time": "2025-10-05T10:57:19.833184Z"
    }
   },
   "cell_type": "code",
   "source": "df.drop(labels=['Studios', 'Studio_Unknown', 'Unknown'], axis='columns', inplace=True)",
   "id": "49c79e70a0458f20",
   "execution_count": 226,
   "outputs": []
  },
  {
   "metadata": {
    "ExecuteTime": {
     "end_time": "2025-10-05T10:57:20.539664Z",
     "start_time": "2025-10-05T10:57:20.523585Z"
    }
   },
   "cell_type": "code",
   "source": "df.drop(labels=[ 'Source'], axis='columns', inplace=True)",
   "id": "a1fa609f34f2b921",
   "execution_count": 227,
   "outputs": []
  },
  {
   "metadata": {
    "ExecuteTime": {
     "end_time": "2025-10-05T10:57:21.127257Z",
     "start_time": "2025-10-05T10:57:21.095472Z"
    }
   },
   "cell_type": "code",
   "source": "df.info()",
   "id": "8fce47354626e6f4",
   "execution_count": 228,
   "outputs": []
  },
  {
   "metadata": {
    "ExecuteTime": {
     "end_time": "2025-10-05T10:57:22.254090Z",
     "start_time": "2025-10-05T10:57:22.228430Z"
    }
   },
   "cell_type": "code",
   "source": [
    "bool_cols = df.select_dtypes('bool').columns\n",
    "\n",
    "df[bool_cols] = df[bool_cols].astype(int)"
   ],
   "id": "ae043bc51508cdc7",
   "execution_count": 229,
   "outputs": []
  },
  {
   "metadata": {
    "ExecuteTime": {
     "end_time": "2025-10-05T10:57:22.854642Z",
     "start_time": "2025-10-05T10:57:22.830877Z"
    }
   },
   "cell_type": "code",
   "source": [
    "X = df.drop(columns=['Score', 'MAL_ID'])\n",
    "score_related_cols = ['Score-10','Score-9','Score-8','Score-7',\n",
    "                      'Score-6','Score-5','Score-4','Score-3','Score-2','Score-1', 'Ranked']\n",
    "\n",
    "X = X.drop(columns=score_related_cols)\n",
    "y = df['Score']"
   ],
   "id": "98005d62c91889a",
   "execution_count": 230,
   "outputs": []
  },
  {
   "metadata": {
    "ExecuteTime": {
     "end_time": "2025-10-05T10:57:23.739299Z",
     "start_time": "2025-10-05T10:57:23.715458Z"
    }
   },
   "cell_type": "code",
   "source": [
    "from sklearn.model_selection import train_test_split\n",
    "X_train, X_test, y_train, y_test = train_test_split(X, y, test_size=0.2, random_state=42)"
   ],
   "id": "bc4a582998b13cbb",
   "execution_count": 231,
   "outputs": []
  },
  {
   "metadata": {},
   "cell_type": "code",
   "source": "X_train.info()",
   "id": "d57b0d74a1769eef",
   "execution_count": null,
   "outputs": []
  },
  {
   "metadata": {
    "ExecuteTime": {
     "end_time": "2025-10-05T10:57:25.127636Z",
     "start_time": "2025-10-05T10:57:25.103992Z"
    }
   },
   "cell_type": "code",
   "source": [
    "scaler = MinMaxScaler()\n",
    "\n",
    "numeric_cols = ['Popularity', 'Favorites', 'Completed', 'Dropped', 'Plan to Watch']\n",
    "X_train[numeric_cols] = scaler.fit_transform(X_train[numeric_cols])"
   ],
   "id": "bb246fa53ce0a218",
   "execution_count": 233,
   "outputs": []
  },
  {
   "metadata": {
    "ExecuteTime": {
     "end_time": "2025-10-05T10:57:26.181284Z",
     "start_time": "2025-10-05T10:57:26.160279Z"
    }
   },
   "cell_type": "code",
   "source": "X_test[numeric_cols] = scaler.transform(X_test[numeric_cols])",
   "id": "2fa4f4581291049b",
   "execution_count": 234,
   "outputs": []
  },
  {
   "metadata": {
    "ExecuteTime": {
     "end_time": "2025-10-05T10:57:29.585105Z",
     "start_time": "2025-10-05T10:57:27.073816Z"
    }
   },
   "cell_type": "code",
   "source": [
    "from sklearn.ensemble import RandomForestRegressor\n",
    "from sklearn.metrics import mean_squared_error, r2_score\n",
    "\n",
    "model = RandomForestRegressor(\n",
    "    n_estimators=200, random_state=42, n_jobs=-1\n",
    ")\n",
    "model.fit(X_train, y_train)\n",
    "\n",
    "y_pred = model.predict(X_test)\n",
    "print(\"MSE:\", mean_squared_error(y_test, y_pred))\n",
    "print(\"R2:\", r2_score(y_test, y_pred))\n"
   ],
   "id": "8330ba9db03ee8a6",
   "execution_count": 235,
   "outputs": []
  },
  {
   "metadata": {},
   "cell_type": "code",
   "source": "X.info()",
   "id": "24c4038e87015b1a",
   "execution_count": null,
   "outputs": []
  },
  {
   "metadata": {
    "ExecuteTime": {
     "end_time": "2025-10-05T11:00:29.723155Z",
     "start_time": "2025-10-05T11:00:28.812935Z"
    }
   },
   "cell_type": "code",
   "source": [
    "import matplotlib.pyplot as plt\n",
    "import pandas as pd\n",
    "\n",
    "importances = pd.Series(model.feature_importances_, index=X.columns)\n",
    "importances.nlargest(20).plot(kind='barh', figsize=(8,6))\n",
    "plt.title(\"Top-20 Feature Importances\")\n",
    "plt.show()"
   ],
   "id": "a1f758038079f6d1",
   "execution_count": 236,
   "outputs": []
  },
  {
   "metadata": {
    "ExecuteTime": {
     "end_time": "2025-10-05T11:00:50.656558Z",
     "start_time": "2025-10-05T11:00:36.198890Z"
    }
   },
   "cell_type": "code",
   "source": [
    "from sklearn.model_selection import cross_val_score\n",
    "import numpy as np\n",
    "\n",
    "scores = cross_val_score(model, X, y, cv=5, scoring='r2', n_jobs=-1)\n",
    "print(\"R2:\", scores)\n",
    "print(\"Mean R2:\", np.mean(scores))"
   ],
   "id": "522a98b4357d6603",
   "execution_count": 237,
   "outputs": []
  },
  {
   "metadata": {},
   "cell_type": "code",
   "execution_count": null,
   "source": "",
   "id": "f63a72a987a7027d",
   "outputs": []
  }
 ],
 "metadata": {
  "kernelspec": {
   "display_name": "Python 3",
   "language": "python",
   "name": "python3"
  },
  "language_info": {
   "codemirror_mode": {
    "name": "ipython",
    "version": 2
   },
   "file_extension": ".py",
   "mimetype": "text/x-python",
   "name": "python",
   "nbconvert_exporter": "python",
   "pygments_lexer": "ipython2",
   "version": "2.7.6"
  }
 },
 "nbformat": 4,
 "nbformat_minor": 5
}
