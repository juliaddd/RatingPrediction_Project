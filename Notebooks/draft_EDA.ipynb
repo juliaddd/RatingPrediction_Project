{
 "cells": [
  {
   "metadata": {
    "ExecuteTime": {
     "end_time": "2025-10-01T14:07:46.124521Z",
     "start_time": "2025-10-01T14:07:46.029825Z"
    }
   },
   "cell_type": "code",
   "source": [
    "import pandas as pd\n",
    "import numpy as np\n",
    "import matplotlib.pyplot as plt\n",
    "import seaborn as sns\n",
    "import warnings\n",
    "import requests\n",
    "from scipy import stats\n",
    "from scipy.stats import normaltest, skew, kurtosis\n",
    "\n",
    "warnings.filterwarnings('ignore')\n",
    "sns.set_style('whitegrid')\n",
    "plt.rcParams['figure.figsize'] = (12, 6)"
   ],
   "id": "c86c160ffd5271e6",
   "execution_count": 7,
   "outputs": []
  },
  {
   "metadata": {
    "ExecuteTime": {
     "end_time": "2025-10-01T14:07:46.528240Z",
     "start_time": "2025-10-01T14:07:46.508455Z"
    }
   },
   "cell_type": "code",
   "source": [
    "def get_user_animelist(username: str, client_id: str):\n",
    "    # Loads list of anime from MAL for a given user\n",
    "    url = f'https://api.myanimelist.net/v2/users/{username}/animelist?limit=500'\n",
    "    headers = {\n",
    "        'X-MAL-CLIENT-ID': client_id\n",
    "    }\n",
    "    params = {\n",
    "        'fields': 'id, title, list_status{score,status}, start_season{year}, mean, genres, popularity, media_type, rating, num_episodes, studios, num_list_users,favorites'\n",
    "    }\n",
    "\n",
    "    all_data = []\n",
    "    next_page = url\n",
    "\n",
    "    while next_page:\n",
    "        response = requests.get(next_page, headers=headers, params=params if next_page == url else None)\n",
    "        if response.status_code != 200:\n",
    "            raise ValueError(f\"Error with API request: {response.status_code} - {response.text}\")\n",
    "\n",
    "        data = response.json()\n",
    "        all_data.extend(data['data'])\n",
    "        next_page = data.get(\"paging\", {}).get(\"next\")\n",
    "\n",
    "        print(f\"Loaded {len(all_data)} anime...\")\n",
    "\n",
    "    return all_data"
   ],
   "id": "cceca363d3bf89c3",
   "execution_count": 8,
   "outputs": []
  },
  {
   "metadata": {
    "ExecuteTime": {
     "end_time": "2025-10-01T14:07:46.899627Z",
     "start_time": "2025-10-01T14:07:46.883536Z"
    }
   },
   "cell_type": "code",
   "source": [
    "def to_dataframe(all_data):\n",
    "    rows = []\n",
    "    for item in all_data:\n",
    "        anime = item['node']\n",
    "        score = item.get('list_status', {}).get('score')\n",
    "        status = item.get('list_status', {}).get('status')\n",
    "        # num_episodes_watched = item.get('list_status', {}).get('num_episodes_watched')\n",
    "        year = item.get('node', {}).get('start_season', {}).get('year')\n",
    "        rows.append({\n",
    "            \"id\": anime['id'],\n",
    "            \"title\": anime['title'],\n",
    "            \"mean\": anime.get('mean'),\n",
    "            \"genres\": [g['name'] for g in anime.get('genres', [])],\n",
    "            \"studios\": [s['name'] for s in anime.get('studios', [])],\n",
    "            \"rating\": anime.get('rating'),\n",
    "            \"year\": year,\n",
    "            \"type\": anime.get('media_type'),\n",
    "            \"popularity\": anime.get('popularity'),\n",
    "            \"score\": score,\n",
    "            \"status\": status,\n",
    "            \"members\": anime['num_list_users'],\n",
    "            \"num_episodes\": anime['num_episodes'],\n",
    "        })\n",
    "    \n",
    "    df = pd.DataFrame(rows)\n",
    "    df['studios'] = df['studios'].str.join(\", \")\n",
    "    df['genres'] = df['genres'].str.join(\", \")\n",
    "\n",
    "    return df"
   ],
   "id": "6830361948b915da",
   "execution_count": 9,
   "outputs": []
  },
  {
   "metadata": {
    "ExecuteTime": {
     "end_time": "2025-10-01T14:07:47.313664Z",
     "start_time": "2025-10-01T14:07:47.288657Z"
    }
   },
   "cell_type": "code",
   "source": [
    "import configparser\n",
    "\n",
    "config = configparser.ConfigParser()\n",
    "config.read('../config.ini')\n",
    "USER_NAME = config.get('USER','USER_NAME').strip()\n",
    "CLIENT_ID = config.get('USER','CLIENT_ID').strip()"
   ],
   "id": "4f88261076ea40d8",
   "execution_count": 10,
   "outputs": []
  },
  {
   "metadata": {
    "ExecuteTime": {
     "end_time": "2025-10-01T14:07:56.707280Z",
     "start_time": "2025-10-01T14:07:47.718791Z"
    }
   },
   "cell_type": "code",
   "source": "data = get_user_animelist(USER_NAME, CLIENT_ID)",
   "id": "b2d9cf13c9c1eae4",
   "execution_count": 11,
   "outputs": []
  },
  {
   "metadata": {
    "ExecuteTime": {
     "end_time": "2025-10-01T14:07:56.754649Z",
     "start_time": "2025-10-01T14:07:56.708790Z"
    }
   },
   "cell_type": "code",
   "source": "df = to_dataframe(data)",
   "id": "7e4bd69d9fdedd33",
   "execution_count": 12,
   "outputs": []
  },
  {
   "metadata": {
    "ExecuteTime": {
     "end_time": "2025-10-01T14:22:58.470227Z",
     "start_time": "2025-10-01T14:22:58.445025Z"
    }
   },
   "cell_type": "code",
   "source": "df = df[df['score']>0].copy()",
   "id": "24217485b88c2615",
   "execution_count": 29,
   "outputs": []
  },
  {
   "metadata": {
    "ExecuteTime": {
     "end_time": "2025-10-01T14:22:59.736596Z",
     "start_time": "2025-10-01T14:22:59.705092Z"
    }
   },
   "cell_type": "code",
   "source": [
    "# Basic information\n",
    "print(\"Dataset size:\", df.shape)\n",
    "print(\"\\n\" + \"=\"*50)\n",
    "print(\"FIRST ROWS:\")\n",
    "print(df.head(10))\n",
    "print(\"\\n\" + \"=\"*50)\n",
    "print(\"LAST ROWS:\")\n",
    "print(df.tail(10))\n",
    "print(\"\\n\" + \"=\"*50)\n",
    "print(\"RANDOM SAMPLE:\")\n",
    "print(df.sample(10))"
   ],
   "id": "6b7d4c365cab3ecd",
   "execution_count": 30,
   "outputs": []
  },
  {
   "metadata": {
    "ExecuteTime": {
     "end_time": "2025-10-01T14:23:08.408230Z",
     "start_time": "2025-10-01T14:23:08.362974Z"
    }
   },
   "cell_type": "code",
   "source": [
    "# Data types\n",
    "print(\"DATA TYPES INFORMATION:\")\n",
    "print(df.info())\n",
    "print(\"\\n\" + \"=\"*50)\n",
    "\n",
    "# Descriptive statistics\n",
    "print(\"DESCRIPTIVE STATISTICS:\")\n",
    "print(df.describe(include='all').T)\n",
    "print(\"\\n\" + \"=\"*50)\n",
    "\n",
    "# Unique values for categorical features\n",
    "print(\"UNIQUE VALUES:\")\n",
    "for col in df.select_dtypes(include='object').columns:\n",
    "    print(f\"{col}: {df[col].nunique()} unique values\")\n",
    "    if df[col].nunique() < 20:\n",
    "        print(f\"  Values: {df[col].unique()}\\n\")"
   ],
   "id": "aedc2aca01350bba",
   "execution_count": 31,
   "outputs": []
  },
  {
   "metadata": {
    "ExecuteTime": {
     "end_time": "2025-10-01T14:23:10.848348Z",
     "start_time": "2025-10-01T14:23:10.579065Z"
    }
   },
   "cell_type": "code",
   "source": [
    "fig, axes = plt.subplots(figsize=(15, 10))\n",
    "# Histogram\n",
    "axes.hist(df['score'], bins=50, edgecolor='black', alpha=0.7, color='steelblue')\n",
    "axes.set_title('Score Distribution', fontsize=14, fontweight='bold')\n",
    "axes.set_xlabel('Score')\n",
    "axes.set_ylabel('Frequency')\n",
    "axes.axvline(df['score'].mean(), color='red', linestyle='--', \n",
    "                    label=f'Mean: {df[\"score\"].mean():.2f}')\n",
    "axes.axvline(df['score'].median(), color='green', linestyle='--', \n",
    "                    label=f'Median: {df[\"score\"].median():.2f}')\n",
    "axes.legend()\n",
    "\n",
    "\n",
    "plt.tight_layout()\n",
    "plt.show()\n",
    "\n",
    "# Statistical tests\n",
    "print(\"TARGET VARIABLE STATISTICS:\")\n",
    "print(f\"Mean: {df['score'].mean():.3f}\")\n",
    "print(f\"Median: {df['score'].median():.3f}\")\n",
    "print(f\"Mode: {df['score'].mode().values[0]:.3f}\")\n",
    "print(f\"Standard Deviation: {df['score'].std():.3f}\")\n",
    "print(f\"Skewness: {skew(df['score'].dropna()):.3f}\")\n",
    "print(f\"Kurtosis: {kurtosis(df['score'].dropna()):.3f}\")\n",
    "print(f\"Min: {df['score'].min():.3f}\")\n",
    "print(f\"Max: {df['score'].max():.3f}\")\n",
    "print(f\"Range: {df['score'].max() - df['score'].min():.3f}\")\n",
    "print(f\"\\nNormality Test (D'Agostino-Pearson):\")\n",
    "stat, p_value = normaltest(df['score'].dropna())\n",
    "print(f\"  Statistic: {stat:.3f}, p-value: {p_value:.6f}\")\n",
    "if p_value < 0.05:\n",
    "    print(\"  Distribution is NOT normal (p < 0.05)\")\n",
    "else:\n",
    "    print(\"  Distribution is normal (p >= 0.05)\")"
   ],
   "id": "a1b1fa5d7a4937a2",
   "execution_count": 32,
   "outputs": []
  },
  {
   "metadata": {
    "ExecuteTime": {
     "end_time": "2025-10-01T14:23:27.920730Z",
     "start_time": "2025-10-01T14:23:26.608213Z"
    }
   },
   "cell_type": "code",
   "source": [
    "numerical_cols = df.select_dtypes(include=[np.number]).columns.tolist()\n",
    "if 'score' in numerical_cols:\n",
    "    numerical_cols.remove('score')  # Already analyzed separately\n",
    "\n",
    "n_cols = len(numerical_cols)\n",
    "n_rows = (n_cols + 2) // 3\n",
    "\n",
    "fig, axes = plt.subplots(n_rows, 3, figsize=(18, 5*n_rows))\n",
    "if n_rows == 1:\n",
    "    axes = axes.reshape(1, -1)\n",
    "axes = axes.flatten()\n",
    "\n",
    "for idx, col in enumerate(numerical_cols):\n",
    "    data_to_plot = df[col].dropna()\n",
    "    axes[idx].hist(data_to_plot, bins=50, edgecolor='black', alpha=0.7, color='teal')\n",
    "    axes[idx].set_title(f'Distribution: {col}', fontsize=12, fontweight='bold')\n",
    "    axes[idx].set_xlabel(col)\n",
    "    axes[idx].set_ylabel('Frequency')\n",
    "    axes[idx].axvline(data_to_plot.mean(), color='red', linestyle='--', \n",
    "                      label=f'Mean: {data_to_plot.mean():.2f}')\n",
    "    axes[idx].legend()\n",
    "    axes[idx].grid(axis='y', alpha=0.3)\n",
    "\n",
    "# Hide extra subplots\n",
    "for idx in range(n_cols, len(axes)):\n",
    "    axes[idx].axis('off')\n",
    "\n",
    "plt.tight_layout()\n",
    "plt.show()"
   ],
   "id": "68243f992ec050b5",
   "execution_count": 34,
   "outputs": []
  },
  {
   "metadata": {
    "ExecuteTime": {
     "end_time": "2025-10-01T14:23:46.972079Z",
     "start_time": "2025-10-01T14:23:46.390215Z"
    }
   },
   "cell_type": "code",
   "source": [
    "categorical_cols = ['rating', 'type', 'status']\n",
    "for col in categorical_cols:\n",
    "    plt.figure(figsize=(14, 6))\n",
    "    \n",
    "    # Frequency table\n",
    "    value_counts = df[col].value_counts()\n",
    "    \n",
    "    # If too many categories, show top 20\n",
    "    if len(value_counts) > 20:\n",
    "        value_counts = value_counts.head(20)\n",
    "        title_suffix = \" (Top 20)\"\n",
    "    else:\n",
    "        title_suffix = \"\"\n",
    "    \n",
    "    plt.subplot(1, 2, 1)\n",
    "    value_counts.plot(kind='barh', color='steelblue')\n",
    "    plt.title(f'Distribution: {col}{title_suffix}', fontsize=14, fontweight='bold')\n",
    "    plt.xlabel('Count')\n",
    "    plt.grid(axis='x', alpha=0.3)\n",
    "    \n",
    "    plt.subplot(1, 2, 2)\n",
    "    value_counts.plot(kind='pie', autopct='%1.1f%%', startangle=90)\n",
    "    plt.title(f'Proportions: {col}{title_suffix}', fontsize=14, fontweight='bold')\n",
    "    plt.ylabel('')\n",
    "    \n",
    "    plt.tight_layout()\n",
    "    plt.show()\n",
    "    \n",
    "    print(f\"\\nSTATISTICS FOR {col}:\")\n",
    "    print(f\"Unique values: {df[col].nunique()}\")\n",
    "    print(f\"Most frequent: {df[col].mode().values[0]} ({df[col].value_counts().iloc[0]} times)\")\n",
    "    print(f\"Least frequent: {value_counts.iloc[-1]} occurrences\")"
   ],
   "id": "ff6dce2f8cf20205",
   "execution_count": 35,
   "outputs": []
  },
  {
   "metadata": {
    "ExecuteTime": {
     "end_time": "2025-10-01T14:24:15.077166Z",
     "start_time": "2025-10-01T14:24:14.932607Z"
    }
   },
   "cell_type": "code",
   "source": [
    "# Correlation of numerical features with score\n",
    "correlations = df[numerical_cols + ['score']].corr()['score'].sort_values(ascending=False)\n",
    "\n",
    "plt.figure(figsize=(10, max(8, len(correlations)*0.4)))\n",
    "colors = ['green' if x > 0 else 'red' for x in correlations.drop('score')]\n",
    "correlations.drop('score').plot(kind='barh', color=colors)\n",
    "plt.title('Feature Correlation with Score', fontsize=16, fontweight='bold')\n",
    "plt.xlabel('Pearson Correlation')\n",
    "plt.axvline(x=0, color='black', linestyle='--', linewidth=0.8)\n",
    "plt.grid(axis='x', alpha=0.3)\n",
    "plt.tight_layout()\n",
    "plt.show()\n",
    "\n",
    "print(\"CORRELATION WITH TARGET VARIABLE:\")\n",
    "print(correlations)"
   ],
   "id": "b3adb97166120b76",
   "execution_count": 36,
   "outputs": []
  }
 ],
 "metadata": {
  "kernelspec": {
   "display_name": "Python 3",
   "language": "python",
   "name": "python3"
  },
  "language_info": {
   "codemirror_mode": {
    "name": "ipython",
    "version": 2
   },
   "file_extension": ".py",
   "mimetype": "text/x-python",
   "name": "python",
   "nbconvert_exporter": "python",
   "pygments_lexer": "ipython2",
   "version": "2.7.6"
  }
 },
 "nbformat": 4,
 "nbformat_minor": 5
}
